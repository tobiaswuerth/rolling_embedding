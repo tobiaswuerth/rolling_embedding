{
 "cells": [
  {
   "cell_type": "markdown",
   "metadata": {},
   "source": [
    "# Compare full-text PDF embedding with abstract embedding"
   ]
  },
  {
   "cell_type": "code",
   "execution_count": 4,
   "metadata": {},
   "outputs": [
    {
     "data": {
      "text/plain": [
       "(999,\n",
       " ['./arxiv_downloads_processed\\\\0812.0743v2.A_Novel_Clustering_Algorithm_Based_on_Quantum_Games.pkl',\n",
       "  './arxiv_downloads_processed\\\\1103.4487v1.Handwritten_Digit_Recognition_with_a_Committee_of_Deep_Neural_Nets_on_GPUs.pkl',\n",
       "  './arxiv_downloads_processed\\\\1106.4509v1.Machine_Learning_Markets.pkl'])"
      ]
     },
     "execution_count": 4,
     "metadata": {},
     "output_type": "execute_result"
    }
   ],
   "source": [
    "from rolling.pdf import list_pdfs_processed\n",
    "pdfs = list_pdfs_processed()\n",
    "len(pdfs), pdfs[:3]"
   ]
  },
  {
   "cell_type": "code",
   "execution_count": 5,
   "metadata": {},
   "outputs": [],
   "source": [
    "from rolling.paper import Paper, load_paper\n",
    "papers:list[Paper] = [load_paper(file) for file in pdfs]"
   ]
  },
  {
   "cell_type": "code",
   "execution_count": 6,
   "metadata": {},
   "outputs": [
    {
     "data": {
      "text/plain": [
       "(370, 768)"
      ]
     },
     "execution_count": 6,
     "metadata": {},
     "output_type": "execute_result"
    }
   ],
   "source": [
    "papers[0].text_segment_embeddings.shape"
   ]
  },
  {
   "cell_type": "code",
   "execution_count": 11,
   "metadata": {},
   "outputs": [
    {
     "data": {
      "text/plain": [
       "'0812.0743'"
      ]
     },
     "execution_count": 11,
     "metadata": {},
     "output_type": "execute_result"
    }
   ],
   "source": [
    "def get_paper_id_by_filename(pdf):\n",
    "    id = pdf.split('\\\\')[1]\n",
    "    id = id.split('.')[0:2]\n",
    "    id[1] = id[1].split('v')[0]\n",
    "    return '.'.join(id)\n",
    "\n",
    "get_paper_id_by_filename(pdfs[0])"
   ]
  },
  {
   "cell_type": "code",
   "execution_count": 7,
   "metadata": {},
   "outputs": [
    {
     "data": {
      "text/plain": [
       "(768,)"
      ]
     },
     "execution_count": 7,
     "metadata": {},
     "output_type": "execute_result"
    }
   ],
   "source": [
    "def get_paper_embedding_mean(paper:Paper):\n",
    "    return paper.text_segment_embeddings.mean(axis=0)\n",
    "\n",
    "get_paper_embedding_mean(papers[0]).shape"
   ]
  },
  {
   "cell_type": "markdown",
   "metadata": {},
   "source": [
    "---\n",
    "# check to see how different the embeddings actually are"
   ]
  },
  {
   "cell_type": "code",
   "execution_count": 8,
   "metadata": {},
   "outputs": [],
   "source": [
    "from elasticsearch import Elasticsearch\n",
    "client = Elasticsearch(\"http://localhost:9200/\", api_key=\"a1VxLUZaWUJ6Q1VRYXlSWTJSX2U6RWx3X0xQbXZURnlsNGU5UmNFeWZhZw==\") # localhost"
   ]
  },
  {
   "cell_type": "code",
   "execution_count": 9,
   "metadata": {},
   "outputs": [],
   "source": [
    "def fetch_paper(id):\n",
    "    return client.get(\n",
    "        index=\"arxiv\",\n",
    "        id=id,\n",
    "    )"
   ]
  },
  {
   "cell_type": "code",
   "execution_count": 14,
   "metadata": {},
   "outputs": [
    {
     "name": "stdout",
     "output_type": "stream",
     "text": [
      "./arxiv_downloads_processed\\2504.03309v1.Roto_Translation_Invariant_Metrics_on_Position_Orientation_Space.pkl not found\n",
      "./arxiv_downloads_processed\\2504.03312v1.Evaluating_Compact_LLMs_for_Zero_Shot_Iberian_Language_Tasks_on_End_User_Devices.pkl not found\n",
      "./arxiv_downloads_processed\\2504.03313v1.Steerable_Anatomical_Shape_Synthesis_with_Implicit_Neural_Representations.pkl not found\n",
      "./arxiv_downloads_processed\\2504.03315v1.Detecting_underdetermination_in_parameterized_quantum_circuits.pkl not found\n",
      "./arxiv_downloads_processed\\2504.03318v1.Adaptive_Classification_of_Interval_Valued_Time_Series.pkl not found\n",
      "./arxiv_downloads_processed\\2504.03321v1.Adaptive_sparse_variational_approximations_for_Gaussian_process_regression.pkl not found\n",
      "./arxiv_downloads_processed\\2504.03322v1.Block_Toeplitz_Sparse_Precision_Matrix_Estimation_for_Large_Scale_Interval_Valued_Time_Series_Forecasting.pkl not found\n",
      "./arxiv_downloads_processed\\2504.03327v1.Optimal_Embedding_Guided_Negative_Sample_Generation_for_Knowledge_Graph_Link_Prediction.pkl not found\n",
      "./arxiv_downloads_processed\\2504.03328v1.Policy_Optimization_Algorithms_in_a_Unified_Framework.pkl not found\n",
      "./arxiv_downloads_processed\\2504.03329v1.Mind_the_Prompt__Prompting_Strategies_in_Audio_Generations_for_Improving_Sound_Classification.pkl not found\n",
      "./arxiv_downloads_processed\\2504.03334v1.Data_Augmentation_of_Time_Series_Data_in_Human_Movement_Biomechanics__A_Scoping_Review.pkl not found\n",
      "./arxiv_downloads_processed\\2504.03337v1.QIRL__Boosting_Visual_Question_Answering_via_Optimized_Question_Image_Relation_Learning.pkl not found\n",
      "./arxiv_downloads_processed\\2504.03338v1.BabyLM_s_First_Words__Word_Segmentation_as_a_Phonological_Probing_Task.pkl not found\n",
      "./arxiv_downloads_processed\\2504.03342v1.EOOD__Entropy_based_Out_of_distribution_Detection.pkl not found\n",
      "./arxiv_downloads_processed\\2504.03343v1.Talk2X____An_Open_Source_Toolkit_Facilitating_Deployment_of_LLM_Powered_Chatbots_on_the_Web.pkl not found\n",
      "./arxiv_downloads_processed\\2504.03349v1.Meta_DAN__towards_an_efficient_prediction_strategy_for_page_level_handwritten_text_recognition.pkl not found\n",
      "./arxiv_downloads_processed\\2504.03350v1.Bayesian_LSTM_for_indoor_temperature_modeling.pkl not found\n",
      "./arxiv_downloads_processed\\2504.03352v1.Detecting_Stereotypes_and_Anti_stereotypes_the_Correct_Way_Using_Social_Psychological_Underpinnings.pkl not found\n",
      "./arxiv_downloads_processed\\2504.03353v1.Decentralized_Collective_World_Model_for_Emergent_Communication_and_Coordination.pkl not found\n",
      "./arxiv_downloads_processed\\2504.03359v1.A_metrological_framework_for_uncertainty_evaluation_in_machine_learning_classification_models.pkl not found\n",
      "./arxiv_downloads_processed\\2504.03360v1.Sustainable_LLM_Inference_for_Edge_AI__Evaluating_Quantized_LLMs_for_Energy_Efficiency__Output_Accuracy__and_Inference_Latency.pkl not found\n",
      "./arxiv_downloads_processed\\2504.03369v1.Point_Cloud_based_Grasping_for_Soft_Hand_Exoskeleton.pkl not found\n",
      "./arxiv_downloads_processed\\2504.03376v1.FLAIRBrainSeg__Fine_grained_brain_segmentation_using_FLAIR_MRI_only.pkl not found\n",
      "./arxiv_downloads_processed\\2504.03380v1.Online_Difficulty_Filtering_for_Reasoning_Oriented_Reinforcement_Learning.pkl not found\n",
      "./arxiv_downloads_processed\\2504.03387v1.BitHEP____The_Limits_of_Low_Precision_ML_in_HEP.pkl not found\n",
      "./arxiv_downloads_processed\\2504.03415v1.NeRFlex__Resource_aware_Real_time_High_quality_Rendering_of_Complex_Scenes_on_Mobile_Devices.pkl not found\n",
      "./arxiv_downloads_processed\\2504.03420v1.Autonomous_state_space_segmentation_for_Deep_RL_sparse_reward_scenarios.pkl not found\n",
      "./arxiv_downloads_processed\\2504.03423v1.DML_RAM__Deep_Multimodal_Learning_Framework_for_Robotic_Arm_Manipulation_using_Pre_trained_Models.pkl not found\n",
      "./arxiv_downloads_processed\\2504.03424v1.The_AI_Cosmologist_I__An_Agentic_System_for_Automated_Data_Analysis.pkl not found\n",
      "./arxiv_downloads_processed\\2504.03429v1.Optimizing_Quantum_Circuits_via_ZX_Diagrams_using_Reinforcement_Learning_and_Graph_Neural_Networks.pkl not found\n",
      "./arxiv_downloads_processed\\2504.03432v1.A_Polynomial_Time_Algorithm_for_Variational_Inequalities_under_the_Minty_Condition.pkl not found\n",
      "./arxiv_downloads_processed\\2504.03434v1.Locations_of_Characters_in_Narratives__Andersen_and_Persuasion_Datasets.pkl not found\n",
      "./arxiv_downloads_processed\\2504.03438v1.ZFusion__An_Effective_Fuser_of_Camera_and_4D_Radar_for_3D_Object_Perception_in_Autonomous_Driving.pkl not found\n",
      "./arxiv_downloads_processed\\2504.03439v1.Early_detection_of_diabetes_through_transfer_learning_based_eye__vision__screening_and_improvement_of_machine_learning_model_performance_and_advanced_parameter_setting_algorithms.pkl not found\n",
      "./arxiv_downloads_processed\\2504.03440v1.Know_What_You_do_Not_Know__Verbalized_Uncertainty_Estimation_Robustness_on_Corrupted_Images_in_Vision_Language_Models.pkl not found\n",
      "./arxiv_downloads_processed\\2504.03442v1.Pyramid_based_Mamba_Multi_class_Unsupervised_Anomaly_Detection.pkl not found\n",
      "./arxiv_downloads_processed\\2504.03450v1.Optimizing_Specific_and_Shared_Parameters_for_Efficient_Parameter_Tuning.pkl not found\n",
      "./arxiv_downloads_processed\\2504.03454v1.SpectR__Dynamically_Composing_LM_Experts_with_Spectral_Routing.pkl not found\n",
      "./arxiv_downloads_processed\\2504.03461v1.Conditioning_Diffusions_Using_Malliavin_Calculus.pkl not found\n",
      "./arxiv_downloads_processed\\2504.03463v1.Generating_ensembles_of_spatially_coherent_in_situ_forecasts_using_flow_matching.pkl not found\n",
      "./arxiv_downloads_processed\\2504.03468v1.D_Garment__Physics_Conditioned_Latent_Diffusion_for_Dynamic_Garment_Deformations.pkl not found\n",
      "./arxiv_downloads_processed\\2504.03469v1.Physics_informed_4D_X_ray_image_reconstruction_from_ultra_sparse_spatiotemporal_data.pkl not found\n",
      "./arxiv_downloads_processed\\2504.03471v1.Dynamic_Importance_in_Diffusion_U_Net_for_Enhanced_Image_Synthesis.pkl not found\n",
      "./arxiv_downloads_processed\\2504.03474v1.Multi_encoder_nnU_Net_outperforms_Transformer_models_with_self_supervised_pretraining.pkl not found\n",
      "./arxiv_downloads_processed\\2504.03476v1.ATM_Net__Anatomy_Aware_Text_Guided_Multi_Modal_Fusion_for_Fine_Grained_Lumbar_Spine_Segmentation.pkl not found\n",
      "./arxiv_downloads_processed\\2504.03478v1.Probabilistic_Machine_Learning_for_Noisy_Labels_in_Earth_Observation.pkl not found\n",
      "./arxiv_downloads_processed\\2504.03483v1.Online_Traffic_Density_Estimation_using_Physics_Informed_Neural_Networks.pkl not found\n",
      "./arxiv_downloads_processed\\2504.03484v1.Discovering_Partially_Known_Ordinary_Differential_Equations__a_Case_Study_on_the_Chemical_Kinetics_of_Cellulose_Degradation.pkl not found\n",
      "./arxiv_downloads_processed\\2504.03485v1.Gaussian_Process_Tilted_Nonparametric_Density_Estimation_using_Fisher_Divergence_Score_Matching.pkl not found\n",
      "./arxiv_downloads_processed\\2504.03486v1.Structured_Legal_Document_Generation_in_India__A_Model_Agnostic_Wrapper_Approach_with_VidhikDastaavej.pkl not found\n",
      "./arxiv_downloads_processed\\2504.03490v1.BUFF__Bayesian_Uncertainty_Guided_Diffusion_Probabilistic_Model_for_Single_Image_Super_Resolution.pkl not found\n",
      "./arxiv_downloads_processed\\2504.03491v1.Diffusion_Active_Learning__Towards_Data_Driven_Experimental_Design_in_Computed_Tomography.pkl not found\n",
      "./arxiv_downloads_processed\\2504.03494v1.Quantifying_Robustness__A_Benchmarking_Framework_for_Deep_Learning_Forecasting_in_Cyber_Physical_Systems.pkl not found\n",
      "./arxiv_downloads_processed\\2504.03497v1.Hybrid_Real__and_Complex_valued_Neural_Network_Architecture.pkl not found\n",
      "./arxiv_downloads_processed\\2504.03499v1.Optimistic_Learning_for_Communication_Networks.pkl not found\n",
      "./arxiv_downloads_processed\\2504.03500v1.Learning_Dual_Arm_Coordination_for_Grasping_Large_Flat_Objects.pkl not found\n",
      "./arxiv_downloads_processed\\2504.03501v1.LV_MAE__Learning_Long_Video_Representations_through_Masked_Embedding_Autoencoders.pkl not found\n",
      "./arxiv_downloads_processed\\2504.03503v1.Operator_Learning__A_Statistical_Perspective.pkl not found\n",
      "./arxiv_downloads_processed\\2504.03505v1.Hierarchical_Knowledge_Structuring_for_Effective_Federated_Learning_in_Heterogeneous_Environments.pkl not found\n",
      "./arxiv_downloads_processed\\2504.03510v1.FADConv__A_Frequency_Aware_Dynamic_Convolution_for_Farmland_Non_agriculturalization_Identification_and_Segmentation.pkl not found\n",
      "./arxiv_downloads_processed\\2504.03515v1.Dexterous_Manipulation_through_Imitation_Learning__A_Survey.pkl not found\n",
      "./arxiv_downloads_processed\\2504.03520v1.Neutralizing_the_Narrative__AI_Powered_Debiasing_of_Online_News_Articles.pkl not found\n",
      "./arxiv_downloads_processed\\2504.03524v1.RANa__Retrieval_Augmented_Navigation.pkl not found\n",
      "./arxiv_downloads_processed\\2504.03531v1.Dense_Neural_Network_Based_Arrhythmia_Classification_on_Low_cost_and_Low_compute_Micro_controller.pkl not found\n",
      "./arxiv_downloads_processed\\2504.03536v1.HumanDreamer_X__Photorealistic_Single_image_Human_Avatars_Reconstruction_via_Gaussian_Restoration.pkl not found\n",
      "./arxiv_downloads_processed\\2504.03541v1.Diverse_In_Context_Example_Selection_After_Decomposing_Programs_and_Aligned_Utterances_Improves_Semantic_Parsing.pkl not found\n",
      "./arxiv_downloads_processed\\2504.03546v1.MultiMed_ST__Large_scale_Many_to_many_Multilingual_Medical_Speech_Translation.pkl not found\n",
      "./arxiv_downloads_processed\\2504.03553v1.Agentic_Knowledgeable_Self_awareness.pkl not found\n",
      "./arxiv_downloads_processed\\2504.03560v1.Stochastic_Optimization_with_Optimal_Importance_Sampling.pkl not found\n",
      "./arxiv_downloads_processed\\2504.03561v1.SynWorld__Virtual_Scenario_Synthesis_for_Agentic_Action_Knowledge_Refinement.pkl not found\n",
      "./arxiv_downloads_processed\\2504.03563v1.PF3Det__A_Prompted_Foundation_Feature_Assisted_Visual_LiDAR_3D_Detector.pkl not found\n",
      "./arxiv_downloads_processed\\2504.03576v1.Heterogeneous_Resource_Allocation_for_Ensuring_End_to_End_Quality_of_Service_in_Multi_hop_Integrated_Access_and_Backhaul_Network.pkl not found\n",
      "./arxiv_downloads_processed\\2504.03579v1.Hallucination_Detection_on_a_Budget__Efficient_Bayesian_Estimation_of_Semantic_Entropy.pkl not found\n",
      "./arxiv_downloads_processed\\2504.03583v1.Scalable_Hypergraph_Structure_Learning_with_Diverse_Smoothness_Priors.pkl not found\n",
      "./arxiv_downloads_processed\\2504.03587v1.AutoSSVH__Exploring_Automated_Frame_Sampling_for_Efficient_Self_Supervised_Video_Hashing.pkl not found\n",
      "./arxiv_downloads_processed\\2504.03589v1.AdaViT__Adaptive_Vision_Transformer_for_Flexible_Pretrain_and_Finetune_with_Variable_3D_Medical_Image_Modalities.pkl not found\n",
      "./arxiv_downloads_processed\\2504.03592v1.Optimistic_Online_Learning_in_Symmetric_Cone_Games.pkl not found\n",
      "./arxiv_downloads_processed\\2504.03595v1.Extending_the_SAREF4ENER_Ontology_with_Flexibility_Based_on_FlexOffers.pkl not found\n",
      "./arxiv_downloads_processed\\2504.03597v1.Real_is_Sim__Bridging_the_Sim_to_Real_Gap_with_a_Dynamic_Digital_Twin_for_Real_World_Robot_Policy_Evaluation.pkl not found\n",
      "./arxiv_downloads_processed\\2504.03598v1.EnrichIndex__Using_LLMs_to_Enrich_Retrieval_Indices_Offline.pkl not found\n",
      "./arxiv_downloads_processed\\2504.03600v1.MedSAM2__Segment_Anything_in_3D_Medical_Images_and_Videos.pkl not found\n",
      "./arxiv_downloads_processed\\2504.03601v1.APIGen_MT__Agentic_Pipeline_for_Multi_Turn_Data_Generation_via_Simulated_Agent_Human_Interplay.pkl not found\n",
      "./arxiv_downloads_processed\\2504.03602v1.Robust_Human_Registration_with_Body_Part_Segmentation_on_Noisy_Point_Clouds.pkl not found\n",
      "./arxiv_downloads_processed\\2504.03603v1.Towards_deployment_centric_multimodal_AI_beyond_vision_and_language.pkl not found\n",
      "./arxiv_downloads_processed\\2504.03607v1.Multimodal_Diffusion_Bridge_with_Attention_Based_SAR_Fusion_for_Satellite_Image_Cloud_Removal.pkl not found\n",
      "./arxiv_downloads_processed\\2504.03612v1.AIR__A_Systematic_Analysis_of_Annotations__Instructions__and_Response_Pairs_in_Preference_Dataset.pkl not found\n",
      "./arxiv_downloads_processed\\2504.03615v1.Autonomous_and_Self_Adapting_System_for_Synthetic_Media_Detection_and_Attribution.pkl not found\n",
      "./arxiv_downloads_processed\\2504.03616v1.Multilingual_Retrieval_Augmented_Generation_for_Knowledge_Intensive_Task.pkl not found\n",
      "./arxiv_downloads_processed\\2504.03618v1.Trading_off_Relevance_and_Revenue_in_the_Jobs_Marketplace__Estimation__Optimization_and_Auction_Design.pkl not found\n",
      "./arxiv_downloads_processed\\2504.03621v1.VISTA_OCR__Towards_generative_and_interactive_end_to_end_OCR_models.pkl not found\n",
      "./arxiv_downloads_processed\\2504.03622v1.Align_to_Structure__Aligning_Large_Language_Models_with_Structural_Information.pkl not found\n",
      "./arxiv_downloads_processed\\2504.03623v1.Quantifying_the_uncertainty_of_model_based_synthetic_image_quality_metrics.pkl not found\n",
      "./arxiv_downloads_processed\\2504.03624v1.Nemotron_H__A_Family_of_Accurate_and_Efficient_Hybrid_Mamba_Transformer_Models.pkl not found\n",
      "./arxiv_downloads_processed\\2504.03625v1.Reciprocity_Aware_Convolutional_Neural_Networks_for_Map_Based_Path_Loss_Prediction.pkl not found\n",
      "./arxiv_downloads_processed\\2504.03626v1.Quantum_Speedups_for_Markov_Chain_Monte_Carlo_Methods_with_Application_to_Optimization.pkl not found\n",
      "./arxiv_downloads_processed\\2504.03635v1.Do_Larger_Language_Models_Imply_Better_Reasoning__A_Pretraining_Scaling_Law_for_Reasoning.pkl not found\n",
      "./arxiv_downloads_processed\\2504.03637v1.An_Algebraic_Geometry_Approach_to_Viewing_Graph_Solvability.pkl not found\n",
      "./arxiv_downloads_processed\\2504.03639v1.Shape_My_Moves__Text_Driven_Shape_Aware_Synthesis_of_Human_Motions.pkl not found\n",
      "./arxiv_downloads_processed\\2504.03640v1.Bonsai__Interpretable_Tree_Adaptive_Grounded_Reasoning.pkl not found\n",
      "./arxiv_downloads_processed\\2504.03641v1.MME_Unify__A_Comprehensive_Benchmark_for_Unified_Multimodal_Understanding_and_Generation_Models.pkl not found\n",
      "./arxiv_downloads_processed\\cs_0105025v1.Market_Based_Reinforcement_Learning_in_Partially_Observable_Worlds.pkl not found\n",
      "./arxiv_downloads_processed\\cs_9902006v1.A_Discipline_of_Evolutionary_Programming.pkl not found\n"
     ]
    }
   ],
   "source": [
    "embeddings = []\n",
    "for file_path, paper in zip(pdfs, papers):\n",
    "    try:\n",
    "        emb1 = get_paper_embedding_mean(paper)\n",
    "\n",
    "        paper_id = get_paper_id_by_filename(file_path)\n",
    "        paper = fetch_paper(paper_id)\n",
    "        emb2 = paper['_source']['embedding']\n",
    "\n",
    "        embeddings.append((emb1, emb2))\n",
    "    except:\n",
    "        print(f'{file_path} not found')\n",
    "        embeddings.append((None,None))"
   ]
  },
  {
   "cell_type": "code",
   "execution_count": 16,
   "metadata": {},
   "outputs": [],
   "source": [
    "from rolling.embedding import get_similarity\n",
    "similarities = [\n",
    "    get_similarity(emb1, emb2)\n",
    "    for emb1, emb2 in embeddings\n",
    "    if emb1 is not None\n",
    "]\n",
    "\n",
    "import numpy as np\n",
    "similarities = np.array(similarities)"
   ]
  },
  {
   "cell_type": "code",
   "execution_count": 17,
   "metadata": {},
   "outputs": [
    {
     "data": {
      "text/plain": [
       "(897,)"
      ]
     },
     "execution_count": 17,
     "metadata": {},
     "output_type": "execute_result"
    }
   ],
   "source": [
    "similarities.shape"
   ]
  },
  {
   "cell_type": "code",
   "execution_count": 20,
   "metadata": {},
   "outputs": [
    {
     "data": {
      "image/png": "[encoded data removed]",
      "text/plain": [
       "<Figure size 640x480 with 1 Axes>"
      ]
     },
     "metadata": {},
     "output_type": "display_data"
    }
   ],
   "source": [
    "import numpy as np\n",
    "import matplotlib.pyplot as plt\n",
    "\n",
    "mean = np.mean(similarities)\n",
    "std_dev = np.std(similarities)\n",
    "\n",
    "count, bins, _ = plt.hist(similarities, bins=100, density=True, alpha=0.6, color='g', label='Histogram')\n",
    "\n",
    "window_size = 20\n",
    "moving_avg = np.convolve(count, np.ones(window_size)/window_size, mode='same')\n",
    "bin_centers = 0.5 * (bins[1:] + bins[:-1])\n",
    "plt.plot(bin_centers, moving_avg, color='r', label='Moving Average', linewidth=2)\n",
    "\n",
    "plt.axvline(x=mean, color='b', linestyle='--', label=f'mean ({mean:.5f})')\n",
    "plt.axvline(x=mean - std_dev, color='orange', linestyle='--', label=f'±1σ ({std_dev:.5f})')\n",
    "plt.axvline(x=mean + std_dev, color='orange', linestyle='--', label=f'±1σ ({std_dev:.5f})')\n",
    "\n",
    "plt.xlabel('Similarity')\n",
    "plt.ylabel('Density')\n",
    "plt.title('Similarity Distribution')\n",
    "plt.legend()\n",
    "plt.show()"
   ]
  }
 ],
 "metadata": {
  "kernelspec": {
   "display_name": ".venv",
   "language": "python",
   "name": "python3"
  },
  "language_info": {
   "codemirror_mode": {
    "name": "ipython",
    "version": 3
   },
   "file_extension": ".py",
   "mimetype": "text/x-python",
   "name": "python",
   "nbconvert_exporter": "python",
   "pygments_lexer": "ipython3",
   "version": "3.12.8"
  }
 },
 "nbformat": 4,
 "nbformat_minor": 2
}
