{
 "cells": [
  {
   "cell_type": "code",
   "execution_count": 1,
   "metadata": {},
   "outputs": [
    {
     "data": {
      "application/vnd.jupyter.widget-view+json": {
       "model_id": "19c60a13995b4f5ca106b66bfc5b0708",
       "version_major": 2,
       "version_minor": 0
      },
      "text/plain": [
       "Loading checkpoint shards:   0%|          | 0/3 [00:00<?, ?it/s]"
      ]
     },
     "metadata": {},
     "output_type": "display_data"
    },
    {
     "name": "stdout",
     "output_type": "stream",
     "text": [
      "Created GritLM: torch.bfloat16 dtype, mean pool, embedding mode, bbcc attn\n"
     ]
    }
   ],
   "source": [
    "# load model\n",
    "# https://github.com/ContextualAI/gritlm\n",
    "from gritlm import GritLM\n",
    "model = GritLM(\"GritLM/GritLM-7B\", torch_dtype=\"auto\", mode=\"embedding\")"
   ]
  },
  {
   "cell_type": "code",
   "execution_count": 2,
   "metadata": {},
   "outputs": [
    {
     "name": "stdout",
     "output_type": "stream",
     "text": [
      "(2, 4096) 0.9033003987849012\n"
     ]
    }
   ],
   "source": [
    "# embedding test\n",
    "from scipy.spatial.distance import cosine\n",
    "def get_similarity(embedding1, embedding2):\n",
    "    return 1 - cosine(embedding1, embedding2)\n",
    "\n",
    "texts = [\"machine learning\", \"deep learning\"]\n",
    "results = model.encode(texts)\n",
    "similarity = get_similarity(results[0], results[1])\n",
    "print(results.shape, similarity)"
   ]
  },
  {
   "cell_type": "code",
   "execution_count": 3,
   "metadata": {},
   "outputs": [
    {
     "data": {
      "text/plain": [
       "(9197,\n",
       " 'The task of building general agents that perform well over a wide range of tasks has been an importa')"
      ]
     },
     "execution_count": 3,
     "metadata": {},
     "output_type": "execute_result"
    }
   ],
   "source": [
    "# load text\n",
    "with open(\"text.txt\", \"r\") as f:\n",
    "    text = f.read()\n",
    "text = text.replace(\"\\n\", \" \")\n",
    "len(text), text[:100]"
   ]
  },
  {
   "cell_type": "code",
   "execution_count": 4,
   "metadata": {},
   "outputs": [
    {
     "name": "stderr",
     "output_type": "stream",
     "text": [
      "[nltk_data] Downloading package punkt to /home/tobias/nltk_data...\n",
      "[nltk_data]   Package punkt is already up-to-date!\n"
     ]
    },
    {
     "data": {
      "text/plain": [
       "(45,\n",
       " ['The task of building general agents that perform well over a wide range of tasks has been an important goal in reinforcement learning since its inception.',\n",
       "  'The problem has been subject of research of a large body of work, with performance frequently measured by observing scores over the wide range of environments contained in the Atari 57 benchmark.'])"
      ]
     },
     "execution_count": 4,
     "metadata": {},
     "output_type": "execute_result"
    }
   ],
   "source": [
    "# split text into sentences\n",
    "import nltk\n",
    "nltk.download('punkt')\n",
    "from nltk.tokenize import sent_tokenize\n",
    "children = sent_tokenize(text)\n",
    "len(children), children[:2]"
   ]
  },
  {
   "cell_type": "code",
   "execution_count": 5,
   "metadata": {},
   "outputs": [
    {
     "name": "stderr",
     "output_type": "stream",
     "text": [
      "100%|██████████| 45/45 [00:01<00:00, 36.67it/s]\n"
     ]
    },
    {
     "data": {
      "text/plain": [
       "('The task of building general agents that perform well over a wide range of tasks has been an important goal in reinforcement learning since its inception.',\n",
       " (4096,),\n",
       " array([-0.01639684, -0.01371807, -0.04035494, ...,  0.00850398,\n",
       "         0.02411986, -0.03331469], dtype=float32))"
      ]
     },
     "execution_count": 5,
     "metadata": {},
     "output_type": "execute_result"
    }
   ],
   "source": [
    "# generate embedding for all sentences\n",
    "import numpy as np\n",
    "from tqdm import tqdm\n",
    "from dataclasses import dataclass\n",
    "\n",
    "@dataclass\n",
    "class Sentence:\n",
    "    text: str\n",
    "    embedding: np.ndarray\n",
    "\n",
    "results = []\n",
    "for sentence in tqdm(children):\n",
    "    embedding = model.encode(sentence)\n",
    "    results.append(Sentence(sentence, embedding))\n",
    "\n",
    "results[0].text, results[0].embedding.shape, results[0].embedding"
   ]
  },
  {
   "cell_type": "code",
   "execution_count": 6,
   "metadata": {},
   "outputs": [
    {
     "data": {
      "image/png": "[encoded data removed]",
      "text/plain": [
       "<Figure size 640x480 with 1 Axes>"
      ]
     },
     "metadata": {},
     "output_type": "display_data"
    }
   ],
   "source": [
    "import numpy as np\n",
    "from sklearn.decomposition import PCA\n",
    "import matplotlib.pyplot as plt\n",
    "\n",
    "embeddings = np.array([sentence.embedding for sentence in results])\n",
    "pca = PCA(n_components=2)\n",
    "reduced_embeddings = pca.fit_transform(embeddings)\n",
    "\n",
    "plt.scatter(reduced_embeddings[:, 0], reduced_embeddings[:, 1])\n",
    "plt.title('2D PCA of Embeddings')\n",
    "plt.show()"
   ]
  },
  {
   "cell_type": "code",
   "execution_count": 8,
   "metadata": {},
   "outputs": [
    {
     "name": "stderr",
     "output_type": "stream",
     "text": [
      " 13%|█▎        | 6/45 [00:00<00:02, 14.84it/s]"
     ]
    },
    {
     "name": "stdout",
     "output_type": "stream",
     "text": [
      "0.7845113405876567\n",
      "0.8151298540985469\n",
      "0.7454590797424316\n",
      "0.6825941015836073\n",
      "0.5652437210083008\n",
      "0.663315872750779\n"
     ]
    },
    {
     "name": "stderr",
     "output_type": "stream",
     "text": [
      " 29%|██▉       | 13/45 [00:00<00:01, 21.90it/s]"
     ]
    },
    {
     "name": "stdout",
     "output_type": "stream",
     "text": [
      "0.4238765401619514\n",
      "0.8054183241475642\n",
      "0.8413293361663818\n",
      "0.6819134950637817\n",
      "0.5723955121511872\n"
     ]
    },
    {
     "name": "stderr",
     "output_type": "stream",
     "text": [
      " 36%|███▌      | 16/45 [00:00<00:01, 21.42it/s]"
     ]
    },
    {
     "name": "stdout",
     "output_type": "stream",
     "text": [
      "0.6503770128454359\n",
      "0.7052948299226076\n",
      "0.6764788031578064\n",
      "0.574582576751709\n"
     ]
    },
    {
     "name": "stderr",
     "output_type": "stream",
     "text": [
      " 42%|████▏     | 19/45 [00:01<00:01, 17.90it/s]"
     ]
    },
    {
     "name": "stdout",
     "output_type": "stream",
     "text": [
      "0.6297359907941874\n",
      "0.4823082983493805\n",
      "0.8472857636766853\n",
      "0.8100800046396291\n"
     ]
    },
    {
     "name": "stderr",
     "output_type": "stream",
     "text": [
      " 53%|█████▎    | 24/45 [00:01<00:00, 21.94it/s]"
     ]
    },
    {
     "name": "stdout",
     "output_type": "stream",
     "text": [
      "0.7743875019069765\n",
      "0.3287704689043487\n",
      "0.9509372769669032\n",
      "0.7708441751692204\n",
      "0.5409128665924072\n"
     ]
    },
    {
     "name": "stderr",
     "output_type": "stream",
     "text": [
      " 71%|███████   | 32/45 [00:01<00:00, 24.35it/s]"
     ]
    },
    {
     "name": "stdout",
     "output_type": "stream",
     "text": [
      "0.6024941385535642\n",
      "0.6963032122019832\n",
      "0.4342187772458429\n",
      "0.8692535161972046\n"
     ]
    },
    {
     "name": "stderr",
     "output_type": "stream",
     "text": [
      " 80%|████████  | 36/45 [00:01<00:00, 25.29it/s]"
     ]
    },
    {
     "name": "stdout",
     "output_type": "stream",
     "text": [
      "0.797067689720852\n",
      "0.7568949009838772\n",
      "0.7332350015640259\n",
      "0.7333276490368742\n",
      "0.4558632943548744\n"
     ]
    },
    {
     "name": "stderr",
     "output_type": "stream",
     "text": [
      " 93%|█████████▎| 42/45 [00:01<00:00, 23.62it/s]"
     ]
    },
    {
     "name": "stdout",
     "output_type": "stream",
     "text": [
      "0.8535067017666518\n",
      "0.8545981645584106\n",
      "0.7043086920060566\n",
      "0.6821382655625012\n"
     ]
    },
    {
     "name": "stderr",
     "output_type": "stream",
     "text": [
      "100%|██████████| 45/45 [00:02<00:00, 21.05it/s]"
     ]
    },
    {
     "name": "stdout",
     "output_type": "stream",
     "text": [
      "0.45844178896448806\n",
      "\n",
      "7\n",
      "- [-0.02077962 -0.02182585 -0.03467401]... The task of building general agents that perform well over a wide range of tasks has been an important goal in reinforcement learning since its inception. The problem has been subject of research of a large body of work, with performance frequently measured by observing scores over the wide range of environments contained in the Atari 57 benchmark. Agent57 was the first agent to surpass the human benchmark on all 57 games, but this came at the cost of poor data-efficiency, requiring nearly 80 billion frames of experience to achieve. Taking Agent57 as a starting point, we employ a diverse set of strategies to achieve a 200-fold reduction of experience needed to outperform the human baseline. We investigate a range of instabilities and bottlenecks we encountered while reducing the data regime, and propose effective solutions to build a more robust and efficient agent. We also demonstrate competitive performance with high-performing methods such as Muesli and MuZero. The four key components to our approach are (1) an approximate trust region method which enables stable bootstrapping from the online network, (2) a normalisation scheme for the loss and priorities which improves robustness when learning a set of value functions with a wide range of scales, (3) an improved architecture employing techniques from NFNets in order to leverage deeper networks without the need for normalization layers, and (4) a policy distillation method which serves to smooth out the instantaneous greedy policy over time.\n",
      "- [-0.0196447  -0.0010192  -0.03659131]... The Arcade Learning Environment (ALE) (Bellemare et al., 2013) was introduced as a benchmark to evaluate agents on an diverse set of tasks which are interesting to humans, and developed externally to the Reinforcement Learning (RL) community. As a result, several games exhibit reward structures which are highly adversarial to many popular algorithms. Mean and median human normalized scores (HNS) (Mnih et al., 2015) over all games in the ALE have become standard metrics for evaluating deep RL agents. Recent progress has allowed state-of-the-art algorithms to greatly exceed average human-level performance on a large fraction of the games (Espeholt et al., 2018; Schrittwieser et al., 2020; Van Hasselt et al., 2016). However, it has been argued that mean or median HNS might not be well suited to assess generality because they tend to ignore the tails of the distribution (Badia et al., 2019). Indeed, most state-of-the-art algorithms achieve very high scores by performing very well on most games, but completely fail to learn on a small number of them. Agent57 (Badia et al., 2020) was the first algorithm to obtain above human-average scores on all 57 Atari games. However, such generality came at the cost of data efficiency; requiring tens of billions of environment interactions to achieve above average-human performance in some games, reaching a figure of 78 billion frames before beating the human benchmark in all games. Data efficiency remains a desirable property for agents to possess, as many real-world challenges are data-limited by time and cost constraints (Dulac-Arnold et al., 2019). In this work, our aim is to develop an agent that is as general as Agent57 but that requires only a fraction of the environment interactions to achieve the same result.\n",
      "- [-0.01628244 -0.01468585 -0.02820477]... One approach consists in measuring performance after a limited budget of interactions with the environment. While this type of evaluation has led to important progress (Espeholt et al., 2018; Hessel et al., 2021; van Hasselt et al., 2019), it tends to disregard problems which are considered too hard to be solved within the allowed budget (Kaiser et al., 2019). On the other hand, one can aim to achieve a target end-performance with as few interactions as possible (Schmitt et al., 2020; Silver et al., 2017, 2018). Since our goal is to show that our new agent is as general as Agent57, while being more data efficient, we focus on the latter approach.\n",
      "- [-0.01627801 -0.00747884 -0.03101881]... Building off Agent57, we carefully examine bottlenecks which slow down learning and address instabilities that arise when these bottlenecks are removed. We propose a novel agent that we call MEME, for MEME is an Efficient Memory-based Exploration agent, which introduces solutions to enable taking advantage of three approaches that would otherwise lead to instabilities: training the value functions of the whole family of policies from Agent57 in parallel, on all policies’ transitions (instead of just the behaviour policy transitions), bootstrapping from the online network, and using high replay ratios. These solutions include carefully normalising value functions with differing scales, as well as replacing the Retrace (Munos et al., 2016) update target with a soft variant of Watkins’ Q(𝜆) (Watkins and Dayan, 1992) that enables faster signal propagation by performing less aggressive trace-cutting, and introducing a trust-region for value updates. Moreover, we explore several recent advances in deep learning and determine which of them are beneficial for non-stationary problems like the ones considered in this work. Finally, we examine approaches to robustify performance by introducing a policy distillation mechanism that learns a policy head based on the actions obtained from the value network without being sensitive to value magnitudes. Our agent outperforms the human baseline across all 57 Atari games in 390M frames, using two orders of magnitude fewer interactions with the environment than Agent57 as shown in Figure 1.\n",
      "- [-0.00303918 -0.00572065 -0.04258715]... Actor-critic (Espeholt et al., 2018; Song et al., 2019) as well as value-based agents (Horgan et al., 2018; Kapturowski et al., 2018) demonstrated strong performance in a wide-range of environments, including the Atari 57 benchmark. Moreover, approaches such as evolutionary strategies (Salimans et al., 2017) and large scale genetic algorithms (Such et al., 2017) presented alternative learning algorithms that achieve competitive results on Atari. Finally, search-augmented distributed agents (Hessel et al., 2021; Schrittwieser et al., 2020) also hold high performance across many different tasks, and concretely they hold the highest mean and median human normalized scores over the 57 Atari games. However, all these methods show the same failure mode: they perform poorly in hard exploration games, such as Pitfall!, and Montezuma’s Revenge. In contrast, Agent57 (Badia et al., 2020) surpassed the human benchmark on all 57 games, showing better general performance. Go-Explore (Ecoffet et al., 2021) similarly achieved such general performance, by relying on coarse-grained state representations via a downscaling function that is highly specific to Atari.\n",
      "- [ 0.00643197 -0.00286678 -0.01421687]... Since it is often desirable for approximate methods to make small updates to the policy (Kakade and Langford, 2002; Schulman et al., 2015), approaches have been proposed for enabling multiple learning steps over the same batch of experience in policy gradient methods to avoid collecting new transitions for every learning step (Schulman et al., 2017). This decoupling between collecting experience and learning occurs naturally in off-policy learning agents with experience replay (Lin, 1992; Mnih et al., 2015) and Fitted Q Iteration methods (Ernst et al., 2005; Riedmiller, 2005). Multiple approaches for making more efficient use of a replay buffer have been proposed, including prioritized sampling of transitions (Schaul et al., 2015b), sharing experience across populations of agents (Schmitt et al., 2020), learning multiple policies in parallel from a single stream of experience (Riedmiller et al., 2018), or reanalyzing old trajectories with the most recent version of a learned model to generate new targets in model-based settings (Schrittwieser et al., 2020, 2021) or to re-evaluate goals (Andrychowicz et al., 2017). The ATARI100k benchmark (Kaiser et al., 2019) was introduced to observe progress in improving the data efficiency of reinforcement learning agents, by evaluating game scores after 100k agent steps (400k frames). Work on this benchmark has focused on leveraging the use of models (Kaiser et al., 2019; Long et al., 2022; Ye et al., 2021), unsupervised learning (Hansen et al., 2019; Liu and Abbeel, 2021; Schwarzer et al., 2020; Srinivas et al., 2020), or greater use of replay data (Kielak, 2020; van Hasselt et al., 2019) or augmentations (Kostrikov et al., 2020; Schwarzer et al., 2020).\n",
      "- [-0.00630875  0.00012824 -0.03396948]... Such a setting is likely to prevent any meaningful learning on hard-exploration games, which is in contrast with the goal of our work.\n"
     ]
    },
    {
     "name": "stderr",
     "output_type": "stream",
     "text": [
      "\n"
     ]
    }
   ],
   "source": [
    "# calculate rolling embeddings\n",
    "class RollingEmbedding:\n",
    "    def __init__(self):\n",
    "        self.children:list[Sentence] = []\n",
    "        self.sentence = None\n",
    "    \n",
    "    def add_sentence(self, sentence:Sentence):\n",
    "        self.children.append(sentence)\n",
    "        self.update()\n",
    "    \n",
    "    def update(self):\n",
    "        assert len(self.children) > 0\n",
    "        if len(self.children) == 1:\n",
    "            self.sentence = self.children[0]\n",
    "            return\n",
    "\n",
    "        text = \" \".join([sentence.text for sentence in self.children])\n",
    "        embedding = model.encode(text)\n",
    "        self.sentence = Sentence(text, embedding)\n",
    "\n",
    "    def remove_last(self):\n",
    "        self.children.pop()\n",
    "        self.update()\n",
    "\n",
    "    def __repr__(self):\n",
    "        return f\"RollingEmbedding({len(self.children)}, {self.sentence.text}, {self.sentence.embedding})\"\n",
    "\n",
    "\n",
    "rolling_embeddings = []\n",
    "working = RollingEmbedding()\n",
    "for sentence in tqdm(results):\n",
    "    working.add_sentence(sentence)\n",
    "    if len(working.children) == 1:\n",
    "        continue\n",
    "\n",
    "    similarity = get_similarity(working.sentence.embedding, sentence.embedding)\n",
    "    print(similarity)\n",
    "    if similarity < 0.5:\n",
    "        working.remove_last()\n",
    "        rolling_embeddings.append(working.sentence)\n",
    "        working = RollingEmbedding()\n",
    "\n",
    "# add last working\n",
    "if len(working.children) > 0:\n",
    "    rolling_embeddings.append(working.sentence)\n",
    "\n",
    "print()\n",
    "print(len(rolling_embeddings))\n",
    "\n",
    "for re in rolling_embeddings:\n",
    "    print(f\"- {re.embedding[:3]}... {re.text}\")\n"
   ]
  }
 ],
 "metadata": {
  "kernelspec": {
   "display_name": ".venv",
   "language": "python",
   "name": "python3"
  },
  "language_info": {
   "codemirror_mode": {
    "name": "ipython",
    "version": 3
   },
   "file_extension": ".py",
   "mimetype": "text/x-python",
   "name": "python",
   "nbconvert_exporter": "python",
   "pygments_lexer": "ipython3",
   "version": "3.10.12"
  }
 },
 "nbformat": 4,
 "nbformat_minor": 2
}
