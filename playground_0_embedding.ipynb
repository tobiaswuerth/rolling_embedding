{
 "cells": [
  {
   "cell_type": "code",
   "execution_count": 7,
   "metadata": {},
   "outputs": [
    {
     "data": {
      "text/plain": [
       "((3, 768),\n",
       " array([[-0.006874,  0.006702, -0.05545 , ...,  0.02563 , -0.03268 ,\n",
       "          0.01493 ],\n",
       "        [ 0.01855 , -0.010925, -0.07465 , ...,  0.01913 , -0.00375 ,\n",
       "          0.02443 ],\n",
       "        [-0.05508 ,  0.1301  , -0.02461 , ..., -0.01441 , -0.02164 ,\n",
       "          0.006794]], dtype=float16))"
      ]
     },
     "execution_count": 7,
     "metadata": {},
     "output_type": "execute_result"
    }
   ],
   "source": [
    "from rolling.embedding import GTEEmbeddingModel\n",
    "model = GTEEmbeddingModel()\n",
    "\n",
    "embs = model.encode([\n",
    "    \"This is a very important sentence talkign about machine learning\",\n",
    "    \"in my presentation about deep learning I present a lot of information\",\n",
    "    \"the black and white stripes on the zebra are distracting to the eye\",\n",
    "])\n",
    "embs.shape, embs"
   ]
  },
  {
   "cell_type": "code",
   "execution_count": 6,
   "metadata": {},
   "outputs": [
    {
     "data": {
      "text/plain": [
       "(np.float16(0.7056), np.float16(0.4849), np.float16(0.4492))"
      ]
     },
     "execution_count": 6,
     "metadata": {},
     "output_type": "execute_result"
    }
   ],
   "source": [
    "from rolling.embedding import get_similarity\n",
    "get_similarity(embs[0], embs[1]), get_similarity(embs[0], embs[2]), get_similarity(embs[1], embs[2])"
   ]
  }
 ],
 "metadata": {
  "kernelspec": {
   "display_name": ".venv",
   "language": "python",
   "name": "python3"
  },
  "language_info": {
   "codemirror_mode": {
    "name": "ipython",
    "version": 3
   },
   "file_extension": ".py",
   "mimetype": "text/x-python",
   "name": "python",
   "nbconvert_exporter": "python",
   "pygments_lexer": "ipython3",
   "version": "3.12.8"
  }
 },
 "nbformat": 4,
 "nbformat_minor": 2
}
