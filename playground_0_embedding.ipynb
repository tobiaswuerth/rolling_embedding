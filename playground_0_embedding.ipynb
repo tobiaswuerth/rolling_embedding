{
 "cells": [
  {
   "cell_type": "code",
   "execution_count": 1,
   "metadata": {},
   "outputs": [],
   "source": [
    "sentences = [\n",
    "    \"This is a very important sentence talkign about machine learning\",\n",
    "    \"in my presentation about deep learning I present a lot of information\",\n",
    "    \"the black and white stripes on the zebra are distracting to the eye\",\n",
    "]"
   ]
  },
  {
   "cell_type": "code",
   "execution_count": 2,
   "metadata": {},
   "outputs": [
    {
     "name": "stdout",
     "output_type": "stream",
     "text": [
      "[ 0.16999382  1.29142618 -2.75172663 -0.44408426  1.76390481]: This is a very important sentence talkign about machine learning\n",
      "[ 0.13733795  2.12726545 -2.91621256 -2.00080299  0.86584198]: in my presentation about deep learning I present a lot of information\n",
      "[ 0.45696813  1.45339489 -3.43149137 -0.74820232  0.98290586]: the black and white stripes on the zebra are distracting to the eye\n"
     ]
    }
   ],
   "source": [
    "# Version 1, Ollama\n",
    "# issue is: there is currently no batching\n",
    "import ollama\n",
    "import numpy as np\n",
    "\n",
    "def get_embedding(text):\n",
    "    emb = ollama.embeddings(model=\"nomic-embed-text\", prompt=text)\n",
    "    return np.array(emb.embedding, dtype=np.float64)\n",
    "\n",
    "for sentence in sentences:\n",
    "    embedding = get_embedding(sentence)\n",
    "    print(f\"{embedding[:5]}: {sentence}\")"
   ]
  },
  {
   "cell_type": "code",
   "execution_count": 3,
   "metadata": {},
   "outputs": [
    {
     "data": {
      "text/plain": [
       "array([[-0.006874,  0.006702, -0.05545 , ...,  0.02563 , -0.03268 ,\n",
       "         0.01493 ],\n",
       "       [ 0.01855 , -0.010925, -0.07465 , ...,  0.01913 , -0.00375 ,\n",
       "         0.02443 ],\n",
       "       [-0.05508 ,  0.1301  , -0.02461 , ..., -0.01441 , -0.02164 ,\n",
       "         0.006794]], dtype=float16)"
      ]
     },
     "execution_count": 3,
     "metadata": {},
     "output_type": "execute_result"
    }
   ],
   "source": [
    "# Version 2, invoke in python process directly\n",
    "# much faster\n",
    "from rolling.embedding import GTEEmbeddingModel\n",
    "model = GTEEmbeddingModel()\n",
    "\n",
    "embs = model.encode(sentences)\n",
    "embs"
   ]
  },
  {
   "cell_type": "code",
   "execution_count": 4,
   "metadata": {},
   "outputs": [
    {
     "data": {
      "text/plain": [
       "(np.float16(0.7056), np.float16(0.4849), np.float16(0.4492))"
      ]
     },
     "execution_count": 4,
     "metadata": {},
     "output_type": "execute_result"
    }
   ],
   "source": [
    "from rolling.embedding import get_similarity\n",
    "get_similarity(embs[0], embs[1]), get_similarity(embs[0], embs[2]), get_similarity(embs[1], embs[2])"
   ]
  }
 ],
 "metadata": {
  "kernelspec": {
   "display_name": ".venv",
   "language": "python",
   "name": "python3"
  },
  "language_info": {
   "codemirror_mode": {
    "name": "ipython",
    "version": 3
   },
   "file_extension": ".py",
   "mimetype": "text/x-python",
   "name": "python",
   "nbconvert_exporter": "python",
   "pygments_lexer": "ipython3",
   "version": "3.12.8"
  }
 },
 "nbformat": 4,
 "nbformat_minor": 2
}
