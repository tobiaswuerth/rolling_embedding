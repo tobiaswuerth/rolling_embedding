{
 "cells": [
  {
   "cell_type": "code",
   "execution_count": 1,
   "metadata": {},
   "outputs": [
    {
     "data": {
      "text/plain": [
       "['./arxiv_downloads\\\\2503.20488v1.Adaptive_Local_Clustering_over_Attributed_Graphs.pdf',\n",
       " './arxiv_downloads\\\\2503.20491v1.VPO__Aligning_Text_to_Video_Generation_Models_with_Prompt_Optimization.pdf',\n",
       " './arxiv_downloads\\\\2503.20492v1.Towards_Efficient_and_General_Purpose_Few_Shot_Misclassification_Detection_for_Vision_Language_Models.pdf']"
      ]
     },
     "execution_count": 1,
     "metadata": {},
     "output_type": "execute_result"
    }
   ],
   "source": [
    "from rolling.pdf import list_pdfs\n",
    "files = list_pdfs()\n",
    "files[:3]"
   ]
  },
  {
   "cell_type": "code",
   "execution_count": 2,
   "metadata": {},
   "outputs": [],
   "source": [
    "output_dir = './arxiv_downloads_processed'\n",
    "import os\n",
    "os.makedirs(output_dir, exist_ok=True)"
   ]
  },
  {
   "cell_type": "code",
   "execution_count": 3,
   "metadata": {},
   "outputs": [],
   "source": [
    "from rolling.embedding import GTEEmbeddingModel\n",
    "model = GTEEmbeddingModel()"
   ]
  },
  {
   "cell_type": "code",
   "execution_count": 4,
   "metadata": {},
   "outputs": [
    {
     "name": "stderr",
     "output_type": "stream",
     "text": [
      "  0%|          | 0/100 [00:00<?, ?it/s]"
     ]
    },
    {
     "name": "stdout",
     "output_type": "stream",
     "text": [
      "Processing ./arxiv_downloads\\2503.20488v1.Adaptive_Local_Clustering_over_Attributed_Graphs.pdf...\n"
     ]
    },
    {
     "name": "stderr",
     "output_type": "stream",
     "text": [
      "  1%|          | 1/100 [00:02<03:54,  2.37s/it]"
     ]
    },
    {
     "name": "stdout",
     "output_type": "stream",
     "text": [
      "Processing ./arxiv_downloads\\2503.20491v1.VPO__Aligning_Text_to_Video_Generation_Models_with_Prompt_Optimization.pdf...\n"
     ]
    },
    {
     "name": "stderr",
     "output_type": "stream",
     "text": [
      "  2%|▏         | 2/100 [00:03<02:23,  1.46s/it]"
     ]
    },
    {
     "name": "stdout",
     "output_type": "stream",
     "text": [
      "Processing ./arxiv_downloads\\2503.20492v1.Towards_Efficient_and_General_Purpose_Few_Shot_Misclassification_Detection_for_Vision_Language_Models.pdf...\n"
     ]
    },
    {
     "name": "stderr",
     "output_type": "stream",
     "text": [
      "  3%|▎         | 3/100 [00:03<01:51,  1.15s/it]"
     ]
    },
    {
     "name": "stdout",
     "output_type": "stream",
     "text": [
      "Processing ./arxiv_downloads\\2503.20493v1.Automated_and_Risk_Aware_Engine_Control_Calibration_Using_Constrained_Bayesian_Optimization.pdf...\n"
     ]
    },
    {
     "name": "stderr",
     "output_type": "stream",
     "text": [
      "  4%|▍         | 4/100 [00:05<01:54,  1.19s/it]"
     ]
    },
    {
     "name": "stdout",
     "output_type": "stream",
     "text": [
      "Processing ./arxiv_downloads\\2503.20496v1.Enhancing_Depression_Detection_via_Question_wise_Modality_Fusion.pdf...\n"
     ]
    },
    {
     "name": "stderr",
     "output_type": "stream",
     "text": [
      "  5%|▌         | 5/100 [00:06<01:45,  1.11s/it]"
     ]
    },
    {
     "name": "stdout",
     "output_type": "stream",
     "text": [
      "Processing ./arxiv_downloads\\2503.20500v1.Design_and_Evaluation_of_Neural_Network_Based_Receiver_Architectures_for_Reliable_Communication.pdf...\n"
     ]
    },
    {
     "name": "stderr",
     "output_type": "stream",
     "text": [
      "  6%|▌         | 6/100 [00:06<01:20,  1.17it/s]"
     ]
    },
    {
     "name": "stdout",
     "output_type": "stream",
     "text": [
      "Processing ./arxiv_downloads\\2503.20502v1.MLLM_Selector__Necessity_and_Diversity_driven_High_Value_Data_Selection_for_Enhanced_Visual_Instruction_Tuning.pdf...\n"
     ]
    },
    {
     "name": "stderr",
     "output_type": "stream",
     "text": [
      "  7%|▋         | 7/100 [00:07<01:32,  1.01it/s]"
     ]
    },
    {
     "name": "stdout",
     "output_type": "stream",
     "text": [
      "Processing ./arxiv_downloads\\2503.20504v1.Vision_Amplified_Semantic_Entropy_for_Hallucination_Detection_in_Medical_Visual_Question_Answering.pdf...\n"
     ]
    },
    {
     "name": "stderr",
     "output_type": "stream",
     "text": [
      "  8%|▊         | 8/100 [00:08<01:15,  1.21it/s]"
     ]
    },
    {
     "name": "stdout",
     "output_type": "stream",
     "text": [
      "Processing ./arxiv_downloads\\2503.20505v1.Riemannian_Optimization_on_Relaxed_Indicator_Matrix_Manifold.pdf...\n"
     ]
    },
    {
     "name": "stderr",
     "output_type": "stream",
     "text": [
      "  9%|▉         | 9/100 [00:13<03:16,  2.16s/it]"
     ]
    },
    {
     "name": "stdout",
     "output_type": "stream",
     "text": [
      "Processing ./arxiv_downloads\\2503.20507v1.Harmonia__A_Multi_Agent_Reinforcement_Learning_Approach_to_Data_Placement_and_Migration_in_Hybrid_Storage_Systems.pdf...\n"
     ]
    },
    {
     "name": "stderr",
     "output_type": "stream",
     "text": [
      " 10%|█         | 10/100 [00:14<02:53,  1.92s/it]"
     ]
    },
    {
     "name": "stdout",
     "output_type": "stream",
     "text": [
      "Processing ./arxiv_downloads\\2503.20508v1.Explainable_ICD_Coding_via_Entity_Linking.pdf...\n"
     ]
    },
    {
     "name": "stderr",
     "output_type": "stream",
     "text": [
      " 11%|█         | 11/100 [00:15<02:11,  1.47s/it]"
     ]
    },
    {
     "name": "stdout",
     "output_type": "stream",
     "text": [
      "Processing ./arxiv_downloads\\2503.20516v1.Small_Object_Detection__A_Comprehensive_Survey_on_Challenges__Techniques_and_Real_World_Applications.pdf...\n"
     ]
    },
    {
     "name": "stderr",
     "output_type": "stream",
     "text": [
      " 12%|█▏        | 12/100 [00:17<02:21,  1.61s/it]"
     ]
    },
    {
     "name": "stdout",
     "output_type": "stream",
     "text": [
      "Processing ./arxiv_downloads\\2503.20518v1.Exploring_the_Effect_of_Robotic_Embodiment_and_Empathetic_Tone_of_LLMs_on_Empathy_Elicitation.pdf...\n"
     ]
    },
    {
     "name": "stderr",
     "output_type": "stream",
     "text": [
      " 13%|█▎        | 13/100 [00:17<01:45,  1.21s/it]"
     ]
    },
    {
     "name": "stdout",
     "output_type": "stream",
     "text": [
      "Processing ./arxiv_downloads\\2503.20519v1.MAR_3D__Progressive_Masked_Auto_regressor_for_High_Resolution_3D_Generation.pdf...\n"
     ]
    },
    {
     "name": "stderr",
     "output_type": "stream",
     "text": [
      " 14%|█▍        | 14/100 [00:17<01:26,  1.00s/it]"
     ]
    },
    {
     "name": "stdout",
     "output_type": "stream",
     "text": [
      "Processing ./arxiv_downloads\\2503.20523v1.GAIA_2__A_Controllable_Multi_View_Generative_World_Model_for_Autonomous_Driving.pdf...\n"
     ]
    },
    {
     "name": "stderr",
     "output_type": "stream",
     "text": [
      " 15%|█▌        | 15/100 [00:18<01:21,  1.04it/s]"
     ]
    },
    {
     "name": "stdout",
     "output_type": "stream",
     "text": [
      "Processing ./arxiv_downloads\\2503.20527v1.StableToolBench_MirrorAPI__Modeling_Tool_Environments_as_Mirrors_of_7_000__Real_World_APIs.pdf...\n"
     ]
    },
    {
     "name": "stderr",
     "output_type": "stream",
     "text": [
      " 16%|█▌        | 16/100 [00:19<01:16,  1.10it/s]"
     ]
    },
    {
     "name": "stdout",
     "output_type": "stream",
     "text": [
      "Processing ./arxiv_downloads\\2503.20533v1.Accelerate_Parallelizable_Reasoning_via_Parallel_Decoding_within_One_Sequence.pdf...\n"
     ]
    },
    {
     "name": "stderr",
     "output_type": "stream",
     "text": [
      " 17%|█▋        | 17/100 [00:19<01:00,  1.37it/s]"
     ]
    },
    {
     "name": "stdout",
     "output_type": "stream",
     "text": [
      "Processing ./arxiv_downloads\\2503.20537v1.TD_BFR__Truncated_Diffusion_Model_for_Efficient_Blind_Face_Restoration.pdf...\n"
     ]
    },
    {
     "name": "stderr",
     "output_type": "stream",
     "text": [
      " 18%|█▊        | 18/100 [00:20<00:57,  1.43it/s]"
     ]
    },
    {
     "name": "stdout",
     "output_type": "stream",
     "text": [
      "Processing ./arxiv_downloads\\2503.20540v1.Beyond_Intermediate_States__Explaining_Visual_Redundancy_through_Language.pdf...\n"
     ]
    },
    {
     "name": "stderr",
     "output_type": "stream",
     "text": [
      " 19%|█▉        | 19/100 [00:21<01:12,  1.11it/s]"
     ]
    },
    {
     "name": "stdout",
     "output_type": "stream",
     "text": [
      "Processing ./arxiv_downloads\\2503.20541v1.Fast__Modular__and_Differentiable_Framework_for_Machine_Learning_Enhanced_Molecular_Simulations.pdf...\n"
     ]
    },
    {
     "name": "stderr",
     "output_type": "stream",
     "text": [
      " 20%|██        | 20/100 [00:23<01:24,  1.05s/it]"
     ]
    },
    {
     "name": "stdout",
     "output_type": "stream",
     "text": [
      "Processing ./arxiv_downloads\\2503.20546v1.Regression_Based_Estimation_of_Causal_Effects_in_the_Presence_of_Selection_Bias_and_Confounding.pdf...\n"
     ]
    },
    {
     "name": "stderr",
     "output_type": "stream",
     "text": [
      " 21%|██        | 21/100 [00:24<01:36,  1.22s/it]"
     ]
    },
    {
     "name": "stdout",
     "output_type": "stream",
     "text": [
      "Processing ./arxiv_downloads\\2503.20552v1.Injecting_Adrenaline_into_LLM_Serving__Boosting_Resource_Utilization_and_Throughput_via_Attention_Disaggregation.pdf...\n"
     ]
    },
    {
     "name": "stderr",
     "output_type": "stream",
     "text": [
      " 22%|██▏       | 22/100 [00:25<01:29,  1.15s/it]"
     ]
    },
    {
     "name": "stdout",
     "output_type": "stream",
     "text": [
      "Processing ./arxiv_downloads\\2503.20556v1.A_Retrieval_Based_Approach_to_Medical_Procedure_Matching_in_Romanian.pdf...\n"
     ]
    },
    {
     "name": "stderr",
     "output_type": "stream",
     "text": [
      " 23%|██▎       | 23/100 [00:26<01:13,  1.04it/s]"
     ]
    },
    {
     "name": "stdout",
     "output_type": "stream",
     "text": [
      "Processing ./arxiv_downloads\\2503.20561v1.A_Theoretical_Framework_for_Prompt_Engineering__Approximating_Smooth_Functions_with_Transformer_Prompts.pdf...\n"
     ]
    },
    {
     "name": "stderr",
     "output_type": "stream",
     "text": [
      " 24%|██▍       | 24/100 [00:29<01:52,  1.49s/it]"
     ]
    },
    {
     "name": "stdout",
     "output_type": "stream",
     "text": [
      "Processing ./arxiv_downloads\\2503.20563v1.TerraTorch__The_Geospatial_Foundation_Models_Toolkit.pdf...\n"
     ]
    },
    {
     "name": "stderr",
     "output_type": "stream",
     "text": [
      " 25%|██▌       | 25/100 [00:29<01:27,  1.17s/it]"
     ]
    },
    {
     "name": "stdout",
     "output_type": "stream",
     "text": [
      "Processing ./arxiv_downloads\\2503.20568v1.Low_resource_Information_Extraction_with_the_European_Clinical_Case_Corpus.pdf...\n"
     ]
    },
    {
     "name": "stderr",
     "output_type": "stream",
     "text": [
      " 26%|██▌       | 26/100 [00:30<01:21,  1.10s/it]"
     ]
    },
    {
     "name": "stdout",
     "output_type": "stream",
     "text": [
      "Processing ./arxiv_downloads\\2503.20571v1.Exploring_Robustness_of_Cortical_Morphometry_in_the_presence_of_white_matter_lesions__using_Diffusion_Models_for_Lesion_Filling.pdf...\n"
     ]
    },
    {
     "name": "stderr",
     "output_type": "stream",
     "text": [
      " 27%|██▋       | 27/100 [00:31<01:09,  1.05it/s]"
     ]
    },
    {
     "name": "stdout",
     "output_type": "stream",
     "text": [
      "Processing ./arxiv_downloads\\2503.20576v1.Optimizing_Case_Based_Reasoning_System_for_Functional_Test_Script_Generation_with_Large_Language_Models.pdf...\n"
     ]
    },
    {
     "name": "stderr",
     "output_type": "stream",
     "text": [
      " 28%|██▊       | 28/100 [00:32<01:08,  1.04it/s]"
     ]
    },
    {
     "name": "stdout",
     "output_type": "stream",
     "text": [
      "Processing ./arxiv_downloads\\2503.20583v1.Feature_Statistics_with_Uncertainty_Help_Adversarial_Robustness.pdf...\n"
     ]
    },
    {
     "name": "stderr",
     "output_type": "stream",
     "text": [
      " 29%|██▉       | 29/100 [00:33<01:18,  1.11s/it]"
     ]
    },
    {
     "name": "stdout",
     "output_type": "stream",
     "text": [
      "Processing ./arxiv_downloads\\2503.20588v1.Synthetic_Data_Augmentation_for_Cross_domain_Implicit_Discourse_Relation_Recognition.pdf...\n"
     ]
    },
    {
     "name": "stderr",
     "output_type": "stream",
     "text": [
      " 30%|███       | 30/100 [00:34<01:06,  1.06it/s]"
     ]
    },
    {
     "name": "stdout",
     "output_type": "stream",
     "text": [
      "Processing ./arxiv_downloads\\2503.20595v1.Diffusion_Counterfactuals_for_Image_Regressors.pdf...\n"
     ]
    },
    {
     "name": "stderr",
     "output_type": "stream",
     "text": [
      " 31%|███       | 31/100 [00:35<01:05,  1.05it/s]"
     ]
    },
    {
     "name": "stdout",
     "output_type": "stream",
     "text": [
      "Processing ./arxiv_downloads\\2503.20607v1.A_decision_theoretic_approach_to_dealing_with_uncertainty_in_quantum_mechanics.pdf...\n"
     ]
    },
    {
     "name": "stderr",
     "output_type": "stream",
     "text": [
      " 32%|███▏      | 32/100 [00:38<02:00,  1.77s/it]"
     ]
    },
    {
     "name": "stdout",
     "output_type": "stream",
     "text": [
      "Processing ./arxiv_downloads\\2503.20612v1.IAP__Improving_Continual_Learning_of_Vision_Language_Models_via_Instance_Aware_Prompting.pdf...\n"
     ]
    },
    {
     "name": "stderr",
     "output_type": "stream",
     "text": [
      " 33%|███▎      | 33/100 [00:39<01:39,  1.48s/it]"
     ]
    },
    {
     "name": "stdout",
     "output_type": "stream",
     "text": [
      "Processing ./arxiv_downloads\\2503.20613v1.State_Aware_Perturbation_Optimization_for_Robust_Deep_Reinforcement_Learning.pdf...\n"
     ]
    },
    {
     "name": "stderr",
     "output_type": "stream",
     "text": [
      " 34%|███▍      | 34/100 [00:40<01:32,  1.40s/it]"
     ]
    },
    {
     "name": "stdout",
     "output_type": "stream",
     "text": [
      "Processing ./arxiv_downloads\\2503.20618v1.ProFed__a_Benchmark_for_Proximity_based_non_IID_Federated_Learning.pdf...\n"
     ]
    },
    {
     "name": "stderr",
     "output_type": "stream",
     "text": [
      " 35%|███▌      | 35/100 [00:41<01:14,  1.14s/it]"
     ]
    },
    {
     "name": "stdout",
     "output_type": "stream",
     "text": [
      "Processing ./arxiv_downloads\\2503.20623v1.Collaborative_Storytelling_and_LLM__A_Linguistic_Analysis_of_Automatically_Generated_Role_Playing_Game_Sessions.pdf...\n"
     ]
    },
    {
     "name": "stderr",
     "output_type": "stream",
     "text": [
      " 36%|███▌      | 36/100 [00:41<01:02,  1.02it/s]"
     ]
    },
    {
     "name": "stdout",
     "output_type": "stream",
     "text": [
      "Processing ./arxiv_downloads\\2503.20630v1._β__GNN__A_Robust_Ensemble_Approach_Against_Graph_Structure_Perturbation.pdf...\n"
     ]
    },
    {
     "name": "stderr",
     "output_type": "stream",
     "text": [
      " 37%|███▋      | 37/100 [00:42<00:57,  1.10it/s]"
     ]
    },
    {
     "name": "stdout",
     "output_type": "stream",
     "text": [
      "Processing ./arxiv_downloads\\2503.20631v1.Robust_Flower_Cluster_Matching_Using_The_Unscented_Transform.pdf...\n"
     ]
    },
    {
     "name": "stderr",
     "output_type": "stream",
     "text": [
      " 38%|███▊      | 38/100 [00:43<00:47,  1.31it/s]"
     ]
    },
    {
     "name": "stdout",
     "output_type": "stream",
     "text": [
      "Processing ./arxiv_downloads\\2503.20633v1.Enhancing_Multi_modal_Models_with_Heterogeneous_MoE_Adapters_for_Fine_tuning.pdf...\n"
     ]
    },
    {
     "name": "stderr",
     "output_type": "stream",
     "text": [
      " 39%|███▉      | 39/100 [00:43<00:41,  1.48it/s]"
     ]
    },
    {
     "name": "stdout",
     "output_type": "stream",
     "text": [
      "Processing ./arxiv_downloads\\2503.20634v1.Procedural_Knowledge_Ontology__PKO_.pdf...\n"
     ]
    },
    {
     "name": "stderr",
     "output_type": "stream",
     "text": [
      " 40%|████      | 40/100 [00:44<00:39,  1.53it/s]"
     ]
    },
    {
     "name": "stdout",
     "output_type": "stream",
     "text": [
      "Processing ./arxiv_downloads\\2503.20639v1.PVLens__Enhancing_Pharmacovigilance_Through_Automated_Label_Extraction.pdf...\n"
     ]
    },
    {
     "name": "stderr",
     "output_type": "stream",
     "text": [
      " 41%|████      | 41/100 [00:44<00:32,  1.80it/s]"
     ]
    },
    {
     "name": "stdout",
     "output_type": "stream",
     "text": [
      "Processing ./arxiv_downloads\\2503.20641v1.Unlocking_Efficient_Long_to_Short_LLM_Reasoning_with_Model_Merging.pdf...\n"
     ]
    },
    {
     "name": "stderr",
     "output_type": "stream",
     "text": [
      " 42%|████▏     | 42/100 [00:45<00:35,  1.65it/s]"
     ]
    },
    {
     "name": "stdout",
     "output_type": "stream",
     "text": [
      "Processing ./arxiv_downloads\\2503.20642v1.Representation_Improvement_in_Latent_Space_for_Search_Based_Testing_of_Autonomous_Robotic_Systems.pdf...\n"
     ]
    },
    {
     "name": "stderr",
     "output_type": "stream",
     "text": [
      " 43%|████▎     | 43/100 [00:46<00:50,  1.12it/s]"
     ]
    },
    {
     "name": "stdout",
     "output_type": "stream",
     "text": [
      "Processing ./arxiv_downloads\\2503.20644v1.MMGen__Unified_Multi_modal_Image_Generation_and_Understanding_in_One_Go.pdf...\n"
     ]
    },
    {
     "name": "stderr",
     "output_type": "stream",
     "text": [
      " 44%|████▍     | 44/100 [00:47<00:47,  1.19it/s]"
     ]
    },
    {
     "name": "stdout",
     "output_type": "stream",
     "text": [
      "Processing ./arxiv_downloads\\2503.20648v1.TN_Eval__Rubric_and_Evaluation_Protocols_for_Measuring_the_Quality_of_Behavioral_Therapy_Notes.pdf...\n"
     ]
    },
    {
     "name": "stderr",
     "output_type": "stream",
     "text": [
      " 45%|████▌     | 45/100 [00:48<00:52,  1.05it/s]"
     ]
    },
    {
     "name": "stdout",
     "output_type": "stream",
     "text": [
      "Processing ./arxiv_downloads\\2503.20652v1.Imitating_Radiological_Scrolling__A_Global_Local_Attention_Model_for_3D_Chest_CT_Volumes_Multi_Label_Anomaly_Classification.pdf...\n"
     ]
    },
    {
     "name": "stderr",
     "output_type": "stream",
     "text": [
      " 46%|████▌     | 46/100 [00:49<00:45,  1.18it/s]"
     ]
    },
    {
     "name": "stdout",
     "output_type": "stream",
     "text": [
      "Processing ./arxiv_downloads\\2503.20653v1.UWarp__A_Whole_Slide_Image_Registration_Pipeline_to_Characterize_Scanner_Induced_Local_Domain_Shift.pdf...\n"
     ]
    },
    {
     "name": "stderr",
     "output_type": "stream",
     "text": [
      " 47%|████▋     | 47/100 [00:50<00:54,  1.03s/it]"
     ]
    },
    {
     "name": "stdout",
     "output_type": "stream",
     "text": [
      "Processing ./arxiv_downloads\\2503.20654v1.AccidentSim__Generating_Physically_Realistic_Vehicle_Collision_Videos_from_Real_World_Accident_Reports.pdf...\n"
     ]
    },
    {
     "name": "stderr",
     "output_type": "stream",
     "text": [
      " 48%|████▊     | 48/100 [00:51<00:45,  1.14it/s]"
     ]
    },
    {
     "name": "stdout",
     "output_type": "stream",
     "text": [
      "Processing ./arxiv_downloads\\2503.20658v1.Probabilistic_Forecasting_for_Network_Resource_Analysis_in_Integrated_Terrestrial_and_Non_Terrestrial_Networks.pdf...\n"
     ]
    },
    {
     "name": "stderr",
     "output_type": "stream",
     "text": [
      " 49%|████▉     | 49/100 [00:51<00:39,  1.28it/s]"
     ]
    },
    {
     "name": "stdout",
     "output_type": "stream",
     "text": [
      "Processing ./arxiv_downloads\\2503.20660v1.DR_PETS__Learning_Based_Control_With_Planning_in_Adversarial_Environments.pdf...\n"
     ]
    },
    {
     "name": "stderr",
     "output_type": "stream",
     "text": [
      " 50%|█████     | 50/100 [00:52<00:38,  1.30it/s]"
     ]
    },
    {
     "name": "stdout",
     "output_type": "stream",
     "text": [
      "Processing ./arxiv_downloads\\2503.20662v1.AutoRad_Lung__A_Radiomic_Guided_Prompting_Autoregressive_Vision_Language_Model_for_Lung_Nodule_Malignancy_Prediction.pdf...\n"
     ]
    },
    {
     "name": "stderr",
     "output_type": "stream",
     "text": [
      " 51%|█████     | 51/100 [00:53<00:33,  1.46it/s]"
     ]
    },
    {
     "name": "stdout",
     "output_type": "stream",
     "text": [
      "Processing ./arxiv_downloads\\2503.20663v1.ARMO__Autoregressive_Rigging_for_Multi_Category_Objects.pdf...\n"
     ]
    },
    {
     "name": "stderr",
     "output_type": "stream",
     "text": [
      " 52%|█████▏    | 52/100 [00:53<00:30,  1.56it/s]"
     ]
    },
    {
     "name": "stdout",
     "output_type": "stream",
     "text": [
      "Processing ./arxiv_downloads\\2503.20666v1.TAMA__A_Human_AI_Collaborative_Thematic_Analysis_Framework_Using_Multi_Agent_LLMs_for_Clinical_Interviews.pdf...\n"
     ]
    },
    {
     "name": "stderr",
     "output_type": "stream",
     "text": [
      " 53%|█████▎    | 53/100 [00:54<00:27,  1.71it/s]"
     ]
    },
    {
     "name": "stdout",
     "output_type": "stream",
     "text": [
      "Processing ./arxiv_downloads\\2503.20672v1.BizGen__Advancing_Article_level_Visual_Text_Rendering_for_Infographics_Generation.pdf...\n"
     ]
    },
    {
     "name": "stderr",
     "output_type": "stream",
     "text": [
      " 54%|█████▍    | 54/100 [00:55<00:41,  1.10it/s]"
     ]
    },
    {
     "name": "stdout",
     "output_type": "stream",
     "text": [
      "Processing ./arxiv_downloads\\2503.20673v1.Mitigating_Low_Level_Visual_Hallucinations_Requires_Self_Awareness__Database__Model_and_Training_Strategy.pdf...\n"
     ]
    },
    {
     "name": "stderr",
     "output_type": "stream",
     "text": [
      " 55%|█████▌    | 55/100 [00:56<00:44,  1.02it/s]"
     ]
    },
    {
     "name": "stdout",
     "output_type": "stream",
     "text": [
      "Processing ./arxiv_downloads\\2503.20676v1.Inductive_Link_Prediction_on_N_ary_Relational_Facts_via_Semantic_Hypergraph_Reasoning.pdf...\n"
     ]
    },
    {
     "name": "stderr",
     "output_type": "stream",
     "text": [
      " 56%|█████▌    | 56/100 [00:58<00:52,  1.19s/it]"
     ]
    },
    {
     "name": "stdout",
     "output_type": "stream",
     "text": [
      "Processing ./arxiv_downloads\\2503.20678v1.Asset_price_movement_prediction_using_empirical_mode_decomposition_and_Gaussian_mixture_models.pdf...\n"
     ]
    },
    {
     "name": "stderr",
     "output_type": "stream",
     "text": [
      " 57%|█████▋    | 57/100 [00:59<00:41,  1.03it/s]"
     ]
    },
    {
     "name": "stdout",
     "output_type": "stream",
     "text": [
      "Processing ./arxiv_downloads\\2503.20680v1.Vision_as_LoRA.pdf...\n"
     ]
    },
    {
     "name": "stderr",
     "output_type": "stream",
     "text": [
      " 58%|█████▊    | 58/100 [00:59<00:37,  1.11it/s]"
     ]
    },
    {
     "name": "stdout",
     "output_type": "stream",
     "text": [
      "Processing ./arxiv_downloads\\2503.20681v1.Benchmarking_Machine_Learning_Methods_for_Distributed_Acoustic_Sensing.pdf...\n"
     ]
    },
    {
     "name": "stderr",
     "output_type": "stream",
     "text": [
      " 59%|█████▉    | 59/100 [01:00<00:28,  1.43it/s]"
     ]
    },
    {
     "name": "stdout",
     "output_type": "stream",
     "text": [
      "Processing ./arxiv_downloads\\2503.20682v1.GLRD__Global_Local_Collaborative_Reason_and_Debate_with_PSL_for_3D_Open_Vocabulary_Detection.pdf...\n"
     ]
    },
    {
     "name": "stderr",
     "output_type": "stream",
     "text": [
      " 60%|██████    | 60/100 [01:00<00:31,  1.29it/s]"
     ]
    },
    {
     "name": "stdout",
     "output_type": "stream",
     "text": [
      "Processing ./arxiv_downloads\\2503.20685v1.Flip_Learning__Weakly_Supervised_Erase_to_Segment_Nodules_in_Breast_Ultrasound.pdf...\n"
     ]
    },
    {
     "name": "stderr",
     "output_type": "stream",
     "text": [
      " 61%|██████    | 61/100 [01:02<00:41,  1.07s/it]"
     ]
    },
    {
     "name": "stdout",
     "output_type": "stream",
     "text": [
      "Processing ./arxiv_downloads\\2503.20688v1.Graph_Enhanced_Model_Free_Reinforcement_Learning_Agents_for_Efficient_Power_Grid_Topological_Control.pdf...\n"
     ]
    },
    {
     "name": "stderr",
     "output_type": "stream",
     "text": [
      " 62%|██████▏   | 62/100 [01:03<00:37,  1.00it/s]"
     ]
    },
    {
     "name": "stdout",
     "output_type": "stream",
     "text": [
      "Processing ./arxiv_downloads\\2503.20694v1.A_Low_complexity_Structured_Neural_Network_Approach_to_Intelligently_Realize_Wideband_Multi_beam_Beamformers.pdf...\n"
     ]
    },
    {
     "name": "stderr",
     "output_type": "stream",
     "text": [
      " 63%|██████▎   | 63/100 [01:04<00:36,  1.02it/s]"
     ]
    },
    {
     "name": "stdout",
     "output_type": "stream",
     "text": [
      "Processing ./arxiv_downloads\\2503.20697v1.Semi_supervised_Node_Importance_Estimation_with_Informative_Distribution_Modeling_for_Uncertainty_Regularization.pdf...\n"
     ]
    },
    {
     "name": "stderr",
     "output_type": "stream",
     "text": [
      " 64%|██████▍   | 64/100 [01:05<00:36,  1.02s/it]"
     ]
    },
    {
     "name": "stdout",
     "output_type": "stream",
     "text": [
      "Processing ./arxiv_downloads\\2503.20698v1.MMMORRF__Multimodal_Multilingual_Modularized_Reciprocal_Rank_Fusion.pdf...\n"
     ]
    },
    {
     "name": "stderr",
     "output_type": "stream",
     "text": [
      " 65%|██████▌   | 65/100 [01:06<00:30,  1.14it/s]"
     ]
    },
    {
     "name": "stdout",
     "output_type": "stream",
     "text": [
      "Processing ./arxiv_downloads\\2503.20701v1.UniEDU__A_Unified_Language_and_Vision_Assistant_for_Education_Applications.pdf...\n"
     ]
    },
    {
     "name": "stderr",
     "output_type": "stream",
     "text": [
      " 66%|██████▌   | 66/100 [01:06<00:25,  1.34it/s]"
     ]
    },
    {
     "name": "stdout",
     "output_type": "stream",
     "text": [
      "Processing ./arxiv_downloads\\2503.20711v1.Demand_Estimation_with_Text_and_Image_Data.pdf...\n"
     ]
    },
    {
     "name": "stderr",
     "output_type": "stream",
     "text": [
      " 67%|██████▋   | 67/100 [01:07<00:27,  1.20it/s]"
     ]
    },
    {
     "name": "stdout",
     "output_type": "stream",
     "text": [
      "Processing ./arxiv_downloads\\2503.20715v1.From_Annotation_to_Adaptation__Metrics__Synthetic_Data__and_Aspect_Extraction_for_Aspect_Based_Sentiment_Analysis_with_Large_Language_Models.pdf...\n"
     ]
    },
    {
     "name": "stderr",
     "output_type": "stream",
     "text": [
      " 68%|██████▊   | 68/100 [01:08<00:27,  1.18it/s]"
     ]
    },
    {
     "name": "stdout",
     "output_type": "stream",
     "text": [
      "Processing ./arxiv_downloads\\2503.20719v1.Learning_Straight_Flows_by_Learning_Curved_Interpolants.pdf...\n"
     ]
    },
    {
     "name": "stderr",
     "output_type": "stream",
     "text": [
      " 69%|██████▉   | 69/100 [01:08<00:22,  1.35it/s]Ignoring wrong pointing object 6 0 (offset 0)\n",
      "Ignoring wrong pointing object 8 0 (offset 0)\n",
      "Ignoring wrong pointing object 10 0 (offset 0)\n",
      "Ignoring wrong pointing object 12 0 (offset 0)\n",
      "Ignoring wrong pointing object 14 0 (offset 0)\n",
      "Ignoring wrong pointing object 16 0 (offset 0)\n",
      "Ignoring wrong pointing object 18 0 (offset 0)\n",
      "Ignoring wrong pointing object 20 0 (offset 0)\n",
      "Ignoring wrong pointing object 32 0 (offset 0)\n",
      "Ignoring wrong pointing object 40 0 (offset 0)\n",
      "Ignoring wrong pointing object 42 0 (offset 0)\n",
      "Ignoring wrong pointing object 50 0 (offset 0)\n",
      "Ignoring wrong pointing object 52 0 (offset 0)\n",
      "Ignoring wrong pointing object 54 0 (offset 0)\n",
      "Ignoring wrong pointing object 56 0 (offset 0)\n",
      "Ignoring wrong pointing object 65 0 (offset 0)\n",
      "Ignoring wrong pointing object 67 0 (offset 0)\n",
      "Ignoring wrong pointing object 70 0 (offset 0)\n",
      "Ignoring wrong pointing object 180 0 (offset 0)\n",
      "Ignoring wrong pointing object 186 0 (offset 0)\n"
     ]
    },
    {
     "name": "stdout",
     "output_type": "stream",
     "text": [
      "Processing ./arxiv_downloads\\2503.20722v1.A_weakly_supervised_deep_learning_model_for_fast_localisation_and_delineation_of_the_skeleton__internal_organs__and_spinal_canal_on_Whole_Body_Diffusion_Weighted_MRI__WB_DWI_.pdf...\n"
     ]
    },
    {
     "name": "stderr",
     "output_type": "stream",
     "text": [
      " 70%|███████   | 70/100 [01:11<00:36,  1.22s/it]"
     ]
    },
    {
     "name": "stdout",
     "output_type": "stream",
     "text": [
      "Processing ./arxiv_downloads\\2503.20723v1.Multi_Robot_Coordination_Under_Physical_Limitations.pdf...\n"
     ]
    },
    {
     "name": "stderr",
     "output_type": "stream",
     "text": [
      " 71%|███████   | 71/100 [01:12<00:35,  1.22s/it]"
     ]
    },
    {
     "name": "stdout",
     "output_type": "stream",
     "text": [
      "Processing ./arxiv_downloads\\2503.20724v1.Dynamic_Motion_Blending_for_Versatile_Motion_Editing.pdf...\n"
     ]
    },
    {
     "name": "stderr",
     "output_type": "stream",
     "text": [
      " 72%|███████▏  | 72/100 [01:13<00:35,  1.26s/it]"
     ]
    },
    {
     "name": "stdout",
     "output_type": "stream",
     "text": [
      "Processing ./arxiv_downloads\\2503.20725v1.Continual_learning_via_probabilistic_exchangeable_sequence_modelling.pdf...\n"
     ]
    },
    {
     "name": "stderr",
     "output_type": "stream",
     "text": [
      " 73%|███████▎  | 73/100 [01:14<00:31,  1.17s/it]"
     ]
    },
    {
     "name": "stdout",
     "output_type": "stream",
     "text": [
      "Processing ./arxiv_downloads\\2503.20730v1.Benchmarking_and_optimizing_organism_wide_single_cell_RNA_alignment_methods.pdf...\n"
     ]
    },
    {
     "name": "stderr",
     "output_type": "stream",
     "text": [
      " 74%|███████▍  | 74/100 [01:15<00:28,  1.09s/it]"
     ]
    },
    {
     "name": "stdout",
     "output_type": "stream",
     "text": [
      "Processing ./arxiv_downloads\\2503.20731v1.RecTable__Fast_Modeling_Tabular_Data_with_Rectified_Flow.pdf...\n"
     ]
    },
    {
     "name": "stderr",
     "output_type": "stream",
     "text": [
      " 75%|███████▌  | 75/100 [01:16<00:25,  1.02s/it]"
     ]
    },
    {
     "name": "stdout",
     "output_type": "stream",
     "text": [
      "Processing ./arxiv_downloads\\2503.20734v1.SChanger__Change_Detection_from_a_Semantic_Change_and_Spatial_Consistency_Perspective.pdf...\n"
     ]
    },
    {
     "name": "stderr",
     "output_type": "stream",
     "text": [
      " 76%|███████▌  | 76/100 [01:18<00:29,  1.24s/it]"
     ]
    },
    {
     "name": "stdout",
     "output_type": "stream",
     "text": [
      "Processing ./arxiv_downloads\\2503.20737v1.Ontology_based_Semantic_Similarity_Measures_for_Clustering_Medical_Concepts_in_Drug_Safety.pdf...\n"
     ]
    },
    {
     "name": "stderr",
     "output_type": "stream",
     "text": [
      " 77%|███████▋  | 77/100 [01:18<00:22,  1.00it/s]"
     ]
    },
    {
     "name": "stdout",
     "output_type": "stream",
     "text": [
      "Processing ./arxiv_downloads\\2503.20739v1.Emotion_Detection_and_Music_Recommendation_System.pdf...\n"
     ]
    },
    {
     "name": "stderr",
     "output_type": "stream",
     "text": [
      " 78%|███████▊  | 78/100 [01:19<00:19,  1.14it/s]"
     ]
    },
    {
     "name": "stdout",
     "output_type": "stream",
     "text": [
      "Processing ./arxiv_downloads\\2503.20742v1.Quantum_Neural_Network_Restatement_of_Markov_Jump_Process.pdf...\n"
     ]
    },
    {
     "name": "stderr",
     "output_type": "stream",
     "text": [
      " 79%|███████▉  | 79/100 [01:20<00:19,  1.09it/s]"
     ]
    },
    {
     "name": "stdout",
     "output_type": "stream",
     "text": [
      "Processing ./arxiv_downloads\\2503.20744v1.High_Quality_Diffusion_Distillation_on_a_Single_GPU_with_Relative_and_Absolute_Position_Matching.pdf...\n"
     ]
    },
    {
     "name": "stderr",
     "output_type": "stream",
     "text": [
      " 80%|████████  | 80/100 [01:21<00:16,  1.20it/s]"
     ]
    },
    {
     "name": "stdout",
     "output_type": "stream",
     "text": [
      "Processing ./arxiv_downloads\\2503.20745v1.MATHGLANCE__Multimodal_Large_Language_Models_Do_Not_Know_Where_to_Look_in_Mathematical_Diagrams.pdf...\n"
     ]
    },
    {
     "name": "stderr",
     "output_type": "stream",
     "text": [
      " 81%|████████  | 81/100 [01:22<00:19,  1.04s/it]"
     ]
    },
    {
     "name": "stdout",
     "output_type": "stream",
     "text": [
      "Processing ./arxiv_downloads\\2503.20746v1.PhysGen3D__Crafting_a_Miniature_Interactive_World_from_a_Single_Image.pdf...\n"
     ]
    },
    {
     "name": "stderr",
     "output_type": "stream",
     "text": [
      " 82%|████████▏ | 82/100 [01:23<00:18,  1.00s/it]"
     ]
    },
    {
     "name": "stdout",
     "output_type": "stream",
     "text": [
      "Processing ./arxiv_downloads\\2503.20748v1.UniSTD__Towards_Unified_Spatio_Temporal_Learning_across_Diverse_Disciplines.pdf...\n"
     ]
    },
    {
     "name": "stderr",
     "output_type": "stream",
     "text": [
      " 83%|████████▎ | 83/100 [01:24<00:16,  1.02it/s]"
     ]
    },
    {
     "name": "stdout",
     "output_type": "stream",
     "text": [
      "Processing ./arxiv_downloads\\2503.20749v1.Beyond_Believability__Accurate_Human_Behavior_Simulation_with_Fine_Tuned_LLMs.pdf...\n"
     ]
    },
    {
     "name": "stderr",
     "output_type": "stream",
     "text": [
      " 84%|████████▍ | 84/100 [01:25<00:14,  1.14it/s]"
     ]
    },
    {
     "name": "stdout",
     "output_type": "stream",
     "text": [
      "Processing ./arxiv_downloads\\2503.20750v1.Optimal_Scaling_Laws_for_Efficiency_Gains_in_a_Theoretical_Transformer_Augmented_Sectional_MoE_Framework.pdf...\n"
     ]
    },
    {
     "name": "stderr",
     "output_type": "stream",
     "text": [
      " 85%|████████▌ | 85/100 [01:26<00:16,  1.08s/it]"
     ]
    },
    {
     "name": "stdout",
     "output_type": "stream",
     "text": [
      "Processing ./arxiv_downloads\\2503.20752v1.Reason_RFT__Reinforcement_Fine_Tuning_for_Visual_Reasoning.pdf...\n"
     ]
    },
    {
     "name": "stderr",
     "output_type": "stream",
     "text": [
      " 86%|████████▌ | 86/100 [01:30<00:25,  1.81s/it]"
     ]
    },
    {
     "name": "stdout",
     "output_type": "stream",
     "text": [
      "Processing ./arxiv_downloads\\2503.20756v1.ADS_Edit__A_Multimodal_Knowledge_Editing_Dataset_for_Autonomous_Driving_Systems.pdf...\n"
     ]
    },
    {
     "name": "stderr",
     "output_type": "stream",
     "text": [
      " 87%|████████▋ | 87/100 [01:30<00:19,  1.48s/it]"
     ]
    },
    {
     "name": "stdout",
     "output_type": "stream",
     "text": [
      "Processing ./arxiv_downloads\\2503.20757v1.MCTS_RAG__Enhancing_Retrieval_Augmented_Generation_with_Monte_Carlo_Tree_Search.pdf...\n"
     ]
    },
    {
     "name": "stderr",
     "output_type": "stream",
     "text": [
      " 88%|████████▊ | 88/100 [01:31<00:15,  1.27s/it]"
     ]
    },
    {
     "name": "stdout",
     "output_type": "stream",
     "text": [
      "Processing ./arxiv_downloads\\2503.20762v1.ASGO__Adaptive_Structured_Gradient_Optimization.pdf...\n"
     ]
    },
    {
     "name": "stderr",
     "output_type": "stream",
     "text": [
      " 89%|████████▉ | 89/100 [01:32<00:14,  1.29s/it]"
     ]
    },
    {
     "name": "stdout",
     "output_type": "stream",
     "text": [
      "Processing ./arxiv_downloads\\2503.20767v1.Reliable_algorithm_selection_for_machine_learning_guided_design.pdf...\n"
     ]
    },
    {
     "name": "stderr",
     "output_type": "stream",
     "text": [
      " 90%|█████████ | 90/100 [01:34<00:12,  1.30s/it]"
     ]
    },
    {
     "name": "stdout",
     "output_type": "stream",
     "text": [
      "Processing ./arxiv_downloads\\2503.20768v1.An_Empirical_Study_of_the_Impact_of_Federated_Learning_on_Machine_Learning_Model_Accuracy.pdf...\n"
     ]
    },
    {
     "name": "stderr",
     "output_type": "stream",
     "text": [
      " 91%|█████████ | 91/100 [01:35<00:10,  1.21s/it]"
     ]
    },
    {
     "name": "stdout",
     "output_type": "stream",
     "text": [
      "Processing ./arxiv_downloads\\2503.20771v1.Disentangled_Source_Free_Personalization_for_Facial_Expression_Recognition_with_Neutral_Target_Data.pdf...\n"
     ]
    },
    {
     "name": "stderr",
     "output_type": "stream",
     "text": [
      " 92%|█████████▏| 92/100 [01:36<00:08,  1.08s/it]"
     ]
    },
    {
     "name": "stdout",
     "output_type": "stream",
     "text": [
      "Processing ./arxiv_downloads\\2503.20772v1.Welfare_and_Cost_Aggregation_for_Multi_Agent_Control__When_to_Choose_Which_Social_Cost_Function__and_Why_.pdf...\n"
     ]
    },
    {
     "name": "stderr",
     "output_type": "stream",
     "text": [
      " 93%|█████████▎| 93/100 [01:36<00:06,  1.03it/s]"
     ]
    },
    {
     "name": "stdout",
     "output_type": "stream",
     "text": [
      "Processing ./arxiv_downloads\\2503.20776v1.Feature4X__Bridging_Any_Monocular_Video_to_4D_Agentic_AI_with_Versatile_Gaussian_Feature_Fields.pdf...\n"
     ]
    },
    {
     "name": "stderr",
     "output_type": "stream",
     "text": [
      " 94%|█████████▍| 94/100 [01:38<00:06,  1.10s/it]"
     ]
    },
    {
     "name": "stdout",
     "output_type": "stream",
     "text": [
      "Processing ./arxiv_downloads\\2503.20781v1.BASKET__A_Large_Scale_Video_Dataset_for_Fine_Grained_Skill_Estimation.pdf...\n"
     ]
    },
    {
     "name": "stderr",
     "output_type": "stream",
     "text": [
      " 95%|█████████▌| 95/100 [01:38<00:04,  1.05it/s]"
     ]
    },
    {
     "name": "stdout",
     "output_type": "stream",
     "text": [
      "Processing ./arxiv_downloads\\2503.20782v1.Zero_Shot_Audio_Visual_Editing_via_Cross_Modal_Delta_Denoising.pdf...\n"
     ]
    },
    {
     "name": "stderr",
     "output_type": "stream",
     "text": [
      " 96%|█████████▌| 96/100 [01:39<00:03,  1.06it/s]"
     ]
    },
    {
     "name": "stdout",
     "output_type": "stream",
     "text": [
      "Processing ./arxiv_downloads\\2503.20783v1.Understanding_R1_Zero_Like_Training__A_Critical_Perspective.pdf...\n"
     ]
    },
    {
     "name": "stderr",
     "output_type": "stream",
     "text": [
      " 97%|█████████▋| 97/100 [01:41<00:03,  1.24s/it]"
     ]
    },
    {
     "name": "stdout",
     "output_type": "stream",
     "text": [
      "Processing ./arxiv_downloads\\2503.20784v1.FB_4D__Spatial_Temporal_Coherent_Dynamic_3D_Content_Generation_with_Feature_Banks.pdf...\n"
     ]
    },
    {
     "name": "stderr",
     "output_type": "stream",
     "text": [
      " 98%|█████████▊| 98/100 [01:42<00:02,  1.17s/it]"
     ]
    },
    {
     "name": "stdout",
     "output_type": "stream",
     "text": [
      "Processing ./arxiv_downloads\\2503.20785v1.Free4D__Tuning_free_4D_Scene_Generation_with_Spatial_Temporal_Consistency.pdf...\n"
     ]
    },
    {
     "name": "stderr",
     "output_type": "stream",
     "text": [
      " 99%|█████████▉| 99/100 [01:43<00:01,  1.12s/it]"
     ]
    },
    {
     "name": "stdout",
     "output_type": "stream",
     "text": [
      "Processing ./arxiv_downloads\\2503.20786v1.Mobile_MMLU__A_Mobile_Intelligence_Language_Understanding_Benchmark.pdf...\n"
     ]
    },
    {
     "name": "stderr",
     "output_type": "stream",
     "text": [
      "100%|██████████| 100/100 [01:46<00:00,  1.06s/it]\n"
     ]
    }
   ],
   "source": [
    "import tqdm\n",
    "\n",
    "from rolling.pdf import read_pdf\n",
    "from rolling.paper import create_paper, save_paper\n",
    "\n",
    "for f in tqdm.tqdm(files):\n",
    "    file_name = os.path.basename(f)\n",
    "    file_name = file_name.replace('.pdf', '.pkl')\n",
    "    file_name = os.path.join(output_dir, file_name)\n",
    "    \n",
    "    if os.path.exists(file_name):\n",
    "        continue\n",
    "\n",
    "    print(f\"Processing {f}...\")\n",
    "    text = read_pdf(f)\n",
    "    title = f\n",
    "    paper = create_paper(title, text, embedding_function=model.encode)\n",
    "    save_paper(paper, file_name)"
   ]
  }
 ],
 "metadata": {
  "kernelspec": {
   "display_name": ".venv",
   "language": "python",
   "name": "python3"
  },
  "language_info": {
   "codemirror_mode": {
    "name": "ipython",
    "version": 3
   },
   "file_extension": ".py",
   "mimetype": "text/x-python",
   "name": "python",
   "nbconvert_exporter": "python",
   "pygments_lexer": "ipython3",
   "version": "3.12.8"
  }
 },
 "nbformat": 4,
 "nbformat_minor": 2
}
