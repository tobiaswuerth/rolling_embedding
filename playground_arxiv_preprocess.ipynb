{
 "cells": [
  {
   "cell_type": "code",
   "execution_count": 1,
   "metadata": {},
   "outputs": [
    {
     "data": {
      "text/plain": [
       "['./arxiv_downloads\\\\0812.0743v2.A_Novel_Clustering_Algorithm_Based_on_Quantum_Games.pdf',\n",
       " './arxiv_downloads\\\\1103.4487v1.Handwritten_Digit_Recognition_with_a_Committee_of_Deep_Neural_Nets_on_GPUs.pdf',\n",
       " './arxiv_downloads\\\\1106.4509v1.Machine_Learning_Markets.pdf']"
      ]
     },
     "execution_count": 1,
     "metadata": {},
     "output_type": "execute_result"
    }
   ],
   "source": [
    "from rolling.pdf import list_pdfs\n",
    "files = list_pdfs()\n",
    "files[:3]"
   ]
  },
  {
   "cell_type": "code",
   "execution_count": 2,
   "metadata": {},
   "outputs": [],
   "source": [
    "output_dir = './arxiv_downloads_processed'\n",
    "import os\n",
    "os.makedirs(output_dir, exist_ok=True)"
   ]
  },
  {
   "cell_type": "code",
   "execution_count": 3,
   "metadata": {},
   "outputs": [],
   "source": [
    "from rolling.embedding import GTEEmbeddingModel\n",
    "model = GTEEmbeddingModel()"
   ]
  },
  {
   "cell_type": "code",
   "execution_count": null,
   "metadata": {},
   "outputs": [
    {
     "name": "stderr",
     "output_type": "stream",
     "text": [
      "  0%|          | 1/694 [00:01<12:58,  1.12s/it]"
     ]
    },
    {
     "name": "stdout",
     "output_type": "stream",
     "text": [
      "Processed ./arxiv_downloads_processed\\1103.4487v1.Handwritten_Digit_Recognition_with_a_Committee_of_Deep_Neural_Nets_on_GPUs.pkl\n"
     ]
    },
    {
     "name": "stderr",
     "output_type": "stream",
     "text": [
      "  0%|          | 2/694 [00:01<09:44,  1.18it/s]"
     ]
    },
    {
     "name": "stdout",
     "output_type": "stream",
     "text": [
      "Processed ./arxiv_downloads_processed\\1106.4509v1.Machine_Learning_Markets.pkl\n"
     ]
    },
    {
     "name": "stderr",
     "output_type": "stream",
     "text": [
      "  0%|          | 3/694 [00:02<10:47,  1.07it/s]"
     ]
    },
    {
     "name": "stdout",
     "output_type": "stream",
     "text": [
      "Processed ./arxiv_downloads_processed\\0812.0743v2.A_Novel_Clustering_Algorithm_Based_on_Quantum_Games.pkl\n"
     ]
    },
    {
     "name": "stderr",
     "output_type": "stream",
     "text": [
      "  1%|          | 4/694 [00:04<15:33,  1.35s/it]"
     ]
    },
    {
     "name": "stdout",
     "output_type": "stream",
     "text": [
      "Processed ./arxiv_downloads_processed\\1304.2024v3.A_General_Framework_for_Interacting_Bayes_Optimally_with_Self_Interested_Agents_using_Arbitrary_Parametric_Model_and_Model_Prior.pkl\n"
     ]
    },
    {
     "name": "stderr",
     "output_type": "stream",
     "text": [
      "  1%|          | 5/694 [00:05<12:17,  1.07s/it]"
     ]
    },
    {
     "name": "stdout",
     "output_type": "stream",
     "text": [
      "Processed ./arxiv_downloads_processed\\1308.2350v1.Learning_Features_and_their_Transformations_by_Spatial_and_Temporal_Spherical_Clustering.pkl\n"
     ]
    },
    {
     "name": "stderr",
     "output_type": "stream",
     "text": [
      "  1%|          | 6/694 [00:06<10:57,  1.05it/s]"
     ]
    },
    {
     "name": "stdout",
     "output_type": "stream",
     "text": [
      "Processed ./arxiv_downloads_processed\\1312.1909v1.From_Maxout_to_Channel_Out__Encoding_Information_on_Sparse_Pathways.pkl\n"
     ]
    },
    {
     "name": "stderr",
     "output_type": "stream",
     "text": [
      "  1%|          | 7/694 [00:06<09:02,  1.27it/s]"
     ]
    },
    {
     "name": "stdout",
     "output_type": "stream",
     "text": [
      "Processed ./arxiv_downloads_processed\\1402.1128v1.Long_Short_Term_Memory_Based_Recurrent_Neural_Network_Architectures_for_Large_Vocabulary_Speech_Recognition.pkl\n"
     ]
    },
    {
     "name": "stderr",
     "output_type": "stream",
     "text": [
      "  1%|          | 8/694 [00:07<08:09,  1.40it/s]"
     ]
    },
    {
     "name": "stdout",
     "output_type": "stream",
     "text": [
      "Processed ./arxiv_downloads_processed\\1406.1078v3.Learning_Phrase_Representations_using_RNN_Encoder_Decoder_for_Statistical_Machine_Translation.pkl\n"
     ]
    },
    {
     "name": "stderr",
     "output_type": "stream",
     "text": [
      "  1%|▏         | 9/694 [00:07<07:59,  1.43it/s]"
     ]
    },
    {
     "name": "stdout",
     "output_type": "stream",
     "text": [
      "Processed ./arxiv_downloads_processed\\1406.3100v1.Learning_ELM_network_weights_using_linear_discriminant_analysis.pkl\n"
     ]
    },
    {
     "name": "stderr",
     "output_type": "stream",
     "text": [
      "  1%|▏         | 10/694 [00:08<07:12,  1.58it/s]"
     ]
    },
    {
     "name": "stdout",
     "output_type": "stream",
     "text": [
      "Processed ./arxiv_downloads_processed\\1409.1257v2.Overcoming_the_Curse_of_Sentence_Length_for_Neural_Machine_Translation_using_Automatic_Segmentation.pkl\n"
     ]
    },
    {
     "name": "stderr",
     "output_type": "stream",
     "text": [
      "  2%|▏         | 11/694 [00:09<07:51,  1.45it/s]"
     ]
    },
    {
     "name": "stdout",
     "output_type": "stream",
     "text": [
      "Processed ./arxiv_downloads_processed\\1409.2944v2.Collaborative_Deep_Learning_for_Recommender_Systems.pkl\n"
     ]
    },
    {
     "name": "stderr",
     "output_type": "stream",
     "text": [
      "  2%|▏         | 12/694 [00:09<07:35,  1.50it/s]"
     ]
    },
    {
     "name": "stdout",
     "output_type": "stream",
     "text": [
      "Processed ./arxiv_downloads_processed\\1409.6041v1.Domain_Adaptive_Neural_Networks_for_Object_Recognition.pkl\n"
     ]
    },
    {
     "name": "stderr",
     "output_type": "stream",
     "text": [
      "  2%|▏         | 13/694 [00:10<06:39,  1.70it/s]"
     ]
    },
    {
     "name": "stdout",
     "output_type": "stream",
     "text": [
      "Processed ./arxiv_downloads_processed\\1409.8484v1.An_agent_driven_semantical_identifier_using_radial_basis_neural_networks_and_reinforcement_learning.pkl\n"
     ]
    },
    {
     "name": "stderr",
     "output_type": "stream",
     "text": [
      "  2%|▏         | 14/694 [00:10<06:19,  1.79it/s]"
     ]
    },
    {
     "name": "stdout",
     "output_type": "stream",
     "text": [
      "Processed ./arxiv_downloads_processed\\1410.0736v4.HD_CNN__Hierarchical_Deep_Convolutional_Neural_Network_for_Large_Scale_Visual_Recognition.pkl\n"
     ]
    },
    {
     "name": "stderr",
     "output_type": "stream",
     "text": [
      "  2%|▏         | 15/694 [00:13<12:46,  1.13s/it]"
     ]
    },
    {
     "name": "stdout",
     "output_type": "stream",
     "text": [
      "Processed ./arxiv_downloads_processed\\1412.3714v2.Feature_Weight_Tuning_for_Recursive_Neural_Networks.pkl\n"
     ]
    },
    {
     "name": "stderr",
     "output_type": "stream",
     "text": [
      "  2%|▏         | 16/694 [00:13<10:25,  1.08it/s]"
     ]
    },
    {
     "name": "stdout",
     "output_type": "stream",
     "text": [
      "Processed ./arxiv_downloads_processed\\1412.6830v3.Learning_Activation_Functions_to_Improve_Deep_Neural_Networks.pkl\n"
     ]
    },
    {
     "name": "stderr",
     "output_type": "stream",
     "text": [
      "Ignoring wrong pointing object 8 0 (offset 0)\n",
      "  2%|▏         | 17/694 [00:14<10:26,  1.08it/s]Ignoring wrong pointing object 10 0 (offset 0)\n",
      "Ignoring wrong pointing object 12 0 (offset 0)\n",
      "Ignoring wrong pointing object 17 0 (offset 0)\n",
      "Ignoring wrong pointing object 19 0 (offset 0)\n",
      "Ignoring wrong pointing object 28 0 (offset 0)\n",
      "Ignoring wrong pointing object 42 0 (offset 0)\n",
      "Ignoring wrong pointing object 59 0 (offset 0)\n",
      "Ignoring wrong pointing object 90 0 (offset 0)\n"
     ]
    },
    {
     "name": "stdout",
     "output_type": "stream",
     "text": [
      "Processed ./arxiv_downloads_processed\\1412.7210v4.Denoising_autoencoder_with_modulated_lateral_connections_learns_invariant_representations_of_natural_images.pkl\n"
     ]
    },
    {
     "name": "stderr",
     "output_type": "stream",
     "text": [
      "  3%|▎         | 18/694 [00:15<09:29,  1.19it/s]"
     ]
    },
    {
     "name": "stdout",
     "output_type": "stream",
     "text": [
      "Processed ./arxiv_downloads_processed\\1502.08029v5.Describing_Videos_by_Exploiting_Temporal_Structure.pkl\n"
     ]
    },
    {
     "name": "stderr",
     "output_type": "stream",
     "text": [
      "  3%|▎         | 19/694 [00:16<10:13,  1.10it/s]"
     ]
    },
    {
     "name": "stdout",
     "output_type": "stream",
     "text": [
      "Processed ./arxiv_downloads_processed\\1503.00036v2.Norm_Based_Capacity_Control_in_Neural_Networks.pkl\n"
     ]
    },
    {
     "name": "stderr",
     "output_type": "stream",
     "text": [
      "  3%|▎         | 20/694 [00:16<08:38,  1.30it/s]"
     ]
    },
    {
     "name": "stdout",
     "output_type": "stream",
     "text": [
      "Processed ./arxiv_downloads_processed\\1503.06410v2.What_the_F_measure_doesn_t_measure__Features__Flaws__Fallacies_and_Fixes.pkl\n"
     ]
    },
    {
     "name": "stderr",
     "output_type": "stream",
     "text": [
      "  3%|▎         | 21/694 [00:16<07:09,  1.57it/s]"
     ]
    },
    {
     "name": "stdout",
     "output_type": "stream",
     "text": [
      "Processed ./arxiv_downloads_processed\\1504.00923v1.A_Unified_Deep_Neural_Network_for_Speaker_and_Language_Recognition.pkl\n"
     ]
    },
    {
     "name": "stderr",
     "output_type": "stream",
     "text": [
      "  3%|▎         | 22/694 [00:17<06:28,  1.73it/s]"
     ]
    },
    {
     "name": "stdout",
     "output_type": "stream",
     "text": [
      "Processed ./arxiv_downloads_processed\\1504.01482v1.Deep_Recurrent_Neural_Networks_for_Acoustic_Modelling.pkl\n"
     ]
    },
    {
     "name": "stderr",
     "output_type": "stream",
     "text": [
      "  3%|▎         | 23/694 [00:18<07:09,  1.56it/s]"
     ]
    },
    {
     "name": "stdout",
     "output_type": "stream",
     "text": [
      "Processed ./arxiv_downloads_processed\\1504.01483v1.Transferring_Knowledge_from_a_RNN_to_a_DNN.pkl\n"
     ]
    },
    {
     "name": "stderr",
     "output_type": "stream",
     "text": [
      "  3%|▎         | 24/694 [00:19<08:23,  1.33it/s]"
     ]
    },
    {
     "name": "stdout",
     "output_type": "stream",
     "text": [
      "Processed ./arxiv_downloads_processed\\1506.01911v3.Beyond_Temporal_Pooling__Recurrence_and_Temporal_Convolutions_for_Gesture_Recognition_in_Video.pkl\n"
     ]
    },
    {
     "name": "stderr",
     "output_type": "stream",
     "text": [
      "  4%|▎         | 25/694 [00:19<08:11,  1.36it/s]"
     ]
    },
    {
     "name": "stdout",
     "output_type": "stream",
     "text": [
      "Processed ./arxiv_downloads_processed\\1506.02617v1.Path_SGD__Path_Normalized_Optimization_in_Deep_Neural_Networks.pkl\n"
     ]
    },
    {
     "name": "stderr",
     "output_type": "stream",
     "text": [
      "  4%|▎         | 26/694 [00:20<07:08,  1.56it/s]"
     ]
    },
    {
     "name": "stdout",
     "output_type": "stream",
     "text": [
      "Processed ./arxiv_downloads_processed\\1506.07503v1.Attention_Based_Models_for_Speech_Recognition.pkl\n"
     ]
    },
    {
     "name": "stderr",
     "output_type": "stream",
     "text": [
      "  4%|▍         | 27/694 [00:21<08:42,  1.28it/s]"
     ]
    },
    {
     "name": "stdout",
     "output_type": "stream",
     "text": [
      "Processed ./arxiv_downloads_processed\\1507.01053v1.Describing_Multimedia_Content_using_Attention_based_Encoder__Decoder_Networks.pkl\n"
     ]
    },
    {
     "name": "stderr",
     "output_type": "stream",
     "text": [
      "  4%|▍         | 28/694 [00:21<07:30,  1.48it/s]"
     ]
    },
    {
     "name": "stdout",
     "output_type": "stream",
     "text": [
      "Processed ./arxiv_downloads_processed\\1507.06947v1.Fast_and_Accurate_Recurrent_Neural_Network_Acoustic_Models_for_Speech_Recognition.pkl\n"
     ]
    },
    {
     "name": "stderr",
     "output_type": "stream",
     "text": [
      "  4%|▍         | 29/694 [00:22<07:13,  1.53it/s]"
     ]
    },
    {
     "name": "stdout",
     "output_type": "stream",
     "text": [
      "Processed ./arxiv_downloads_processed\\1508.01211v2.Listen__Attend_and_Spell.pkl\n"
     ]
    },
    {
     "name": "stderr",
     "output_type": "stream",
     "text": [
      "  4%|▍         | 30/694 [00:22<06:50,  1.62it/s]"
     ]
    },
    {
     "name": "stdout",
     "output_type": "stream",
     "text": [
      "Processed ./arxiv_downloads_processed\\1509.04612v2.Adapting_Resilient_Propagation_for_Deep_Learning.pkl\n"
     ]
    },
    {
     "name": "stderr",
     "output_type": "stream",
     "text": [
      "  4%|▍         | 31/694 [00:23<06:57,  1.59it/s]could not convert string to float: b'0.00-5836487' : FloatObject (b'0.00-5836487') invalid; use 0.0 instead\n",
      "could not convert string to float: b'0.00-5836487' : FloatObject (b'0.00-5836487') invalid; use 0.0 instead\n"
     ]
    },
    {
     "name": "stdout",
     "output_type": "stream",
     "text": [
      "Processed ./arxiv_downloads_processed\\1509.05962v2.Telugu_OCR_Framework_using_Deep_Learning.pkl\n"
     ]
    },
    {
     "name": "stderr",
     "output_type": "stream",
     "text": [
      "  5%|▍         | 32/694 [00:24<07:54,  1.39it/s]"
     ]
    },
    {
     "name": "stdout",
     "output_type": "stream",
     "text": [
      "Processed ./arxiv_downloads_processed\\1509.08634v1.Learning_dynamic_Boltzmann_machines_with_spike_timing_dependent_plasticity.pkl\n"
     ]
    },
    {
     "name": "stderr",
     "output_type": "stream",
     "text": [
      "  5%|▍         | 33/694 [00:24<07:03,  1.56it/s]"
     ]
    },
    {
     "name": "stdout",
     "output_type": "stream",
     "text": [
      "Processed ./arxiv_downloads_processed\\1510.08983v2.Highway_Long_Short_Term_Memory_RNNs_for_Distant_Speech_Recognition.pkl\n"
     ]
    },
    {
     "name": "stderr",
     "output_type": "stream",
     "text": [
      "  5%|▍         | 34/694 [00:25<06:22,  1.73it/s]"
     ]
    },
    {
     "name": "stdout",
     "output_type": "stream",
     "text": [
      "Processed ./arxiv_downloads_processed\\1511.04143v5.Deep_Reinforcement_Learning_in_Parameterized_Action_Space.pkl\n"
     ]
    },
    {
     "name": "stderr",
     "output_type": "stream",
     "text": [
      "  5%|▌         | 35/694 [00:25<06:18,  1.74it/s]"
     ]
    },
    {
     "name": "stdout",
     "output_type": "stream",
     "text": [
      "Processed ./arxiv_downloads_processed\\1511.08400v7.Regularizing_RNNs_by_Stabilizing_Activations.pkl\n"
     ]
    },
    {
     "name": "stderr",
     "output_type": "stream",
     "text": [
      "  5%|▌         | 36/694 [00:26<05:16,  2.08it/s]"
     ]
    },
    {
     "name": "stdout",
     "output_type": "stream",
     "text": [
      "Processed ./arxiv_downloads_processed\\1601.06732v1.Concept_Generation_in_Language_Evolution.pkl\n"
     ]
    },
    {
     "name": "stderr",
     "output_type": "stream",
     "text": [
      "  5%|▌         | 37/694 [00:26<05:07,  2.14it/s]"
     ]
    },
    {
     "name": "stdout",
     "output_type": "stream",
     "text": [
      "Processed ./arxiv_downloads_processed\\1602.06662v2.Recurrent_Orthogonal_Networks_and_Long_Memory_Tasks.pkl\n"
     ]
    },
    {
     "name": "stderr",
     "output_type": "stream",
     "text": [
      "  5%|▌         | 38/694 [00:26<04:35,  2.38it/s]"
     ]
    },
    {
     "name": "stdout",
     "output_type": "stream",
     "text": [
      "Processed ./arxiv_downloads_processed\\1603.00810v3.Character_based_Neural_Machine_Translation.pkl\n"
     ]
    },
    {
     "name": "stderr",
     "output_type": "stream",
     "text": [
      "  6%|▌         | 39/694 [00:27<04:37,  2.36it/s]"
     ]
    },
    {
     "name": "stdout",
     "output_type": "stream",
     "text": [
      "Processed ./arxiv_downloads_processed\\1603.01913v2.A_Latent_Variable_Recurrent_Neural_Network_for_Discourse_Relation_Language_Models.pkl\n"
     ]
    },
    {
     "name": "stderr",
     "output_type": "stream",
     "text": [
      "  6%|▌         | 40/694 [00:27<04:38,  2.35it/s]"
     ]
    },
    {
     "name": "stdout",
     "output_type": "stream",
     "text": [
      "Processed ./arxiv_downloads_processed\\1603.03827v1.Sequential_Short_Text_Classification_with_Recurrent_and_Convolutional_Neural_Networks.pkl\n"
     ]
    },
    {
     "name": "stderr",
     "output_type": "stream",
     "text": [
      "  6%|▌         | 41/694 [00:28<05:53,  1.85it/s]"
     ]
    },
    {
     "name": "stdout",
     "output_type": "stream",
     "text": [
      "Processed ./arxiv_downloads_processed\\1603.08029v1.Resnet_in_Resnet__Generalizing_Residual_Architectures.pkl\n"
     ]
    },
    {
     "name": "stderr",
     "output_type": "stream",
     "text": [
      "  6%|▌         | 42/694 [00:29<07:09,  1.52it/s]"
     ]
    },
    {
     "name": "stdout",
     "output_type": "stream",
     "text": [
      "Processed ./arxiv_downloads_processed\\1603.09643v4.Multi_task_Recurrent_Model_for_Speech_and_Speaker_Recognition.pkl\n"
     ]
    },
    {
     "name": "stderr",
     "output_type": "stream",
     "text": [
      "  6%|▌         | 43/694 [00:31<09:57,  1.09it/s]"
     ]
    },
    {
     "name": "stdout",
     "output_type": "stream",
     "text": [
      "Processed ./arxiv_downloads_processed\\1604.00289v3.Building_Machines_That_Learn_and_Think_Like_People.pkl\n"
     ]
    },
    {
     "name": "stderr",
     "output_type": "stream",
     "text": [
      "  6%|▋         | 44/694 [00:32<11:38,  1.07s/it]"
     ]
    },
    {
     "name": "stdout",
     "output_type": "stream",
     "text": [
      "Processed ./arxiv_downloads_processed\\1604.01662v4.A_Survey_on_Bayesian_Deep_Learning.pkl\n"
     ]
    },
    {
     "name": "stderr",
     "output_type": "stream",
     "text": [
      "  6%|▋         | 45/694 [00:33<10:40,  1.01it/s]"
     ]
    },
    {
     "name": "stdout",
     "output_type": "stream",
     "text": [
      "Processed ./arxiv_downloads_processed\\1604.04562v3.A_Network_based_End_to_End_Trainable_Task_oriented_Dialogue_System.pkl\n"
     ]
    },
    {
     "name": "stderr",
     "output_type": "stream",
     "text": [
      "  7%|▋         | 46/694 [00:33<08:27,  1.28it/s]"
     ]
    },
    {
     "name": "stdout",
     "output_type": "stream",
     "text": [
      "Processed ./arxiv_downloads_processed\\1604.05878v1.A_Factorization_Machine_Framework_for_Testing_Bigram_Embeddings_in_Knowledgebase_Completion.pkl\n"
     ]
    },
    {
     "name": "stderr",
     "output_type": "stream",
     "text": [
      "  7%|▋         | 47/694 [00:34<07:58,  1.35it/s]"
     ]
    },
    {
     "name": "stdout",
     "output_type": "stream",
     "text": [
      "Processed ./arxiv_downloads_processed\\1604.06057v2.Hierarchical_Deep_Reinforcement_Learning__Integrating_Temporal_Abstraction_and_Intrinsic_Motivation.pkl\n"
     ]
    },
    {
     "name": "stderr",
     "output_type": "stream",
     "text": [
      "  7%|▋         | 48/694 [00:34<07:31,  1.43it/s]"
     ]
    },
    {
     "name": "stdout",
     "output_type": "stream",
     "text": [
      "Processed ./arxiv_downloads_processed\\1605.07427v1.Hierarchical_Memory_Networks.pkl\n"
     ]
    },
    {
     "name": "stderr",
     "output_type": "stream",
     "text": [
      "  7%|▋         | 49/694 [00:35<07:52,  1.36it/s]"
     ]
    },
    {
     "name": "stdout",
     "output_type": "stream",
     "text": [
      "Processed ./arxiv_downloads_processed\\1605.09782v7.Adversarial_Feature_Learning.pkl\n"
     ]
    },
    {
     "name": "stderr",
     "output_type": "stream",
     "text": [
      "  7%|▋         | 50/694 [00:36<09:06,  1.18it/s]"
     ]
    },
    {
     "name": "stdout",
     "output_type": "stream",
     "text": [
      "Processed ./arxiv_downloads_processed\\1606.00776v2.Multiresolution_Recurrent_Neural_Networks__An_Application_to_Dialogue_Response_Generation.pkl\n"
     ]
    },
    {
     "name": "stderr",
     "output_type": "stream",
     "text": [
      "  7%|▋         | 51/694 [00:37<07:38,  1.40it/s]"
     ]
    },
    {
     "name": "stdout",
     "output_type": "stream",
     "text": [
      "Processed ./arxiv_downloads_processed\\1606.02396v1.Deep_Successor_Reinforcement_Learning.pkl\n"
     ]
    },
    {
     "name": "stderr",
     "output_type": "stream",
     "text": [
      "  7%|▋         | 52/694 [00:38<08:36,  1.24it/s]"
     ]
    },
    {
     "name": "stdout",
     "output_type": "stream",
     "text": [
      "Processed ./arxiv_downloads_processed\\1606.02407v1.Structured_Convolution_Matrices_for_Energy_efficient_Deep_learning.pkl\n"
     ]
    },
    {
     "name": "stderr",
     "output_type": "stream",
     "text": [
      "  8%|▊         | 53/694 [00:38<07:51,  1.36it/s]"
     ]
    },
    {
     "name": "stdout",
     "output_type": "stream",
     "text": [
      "Processed ./arxiv_downloads_processed\\1606.02960v2.Sequence_to_Sequence_Learning_as_Beam_Search_Optimization.pkl\n"
     ]
    },
    {
     "name": "stderr",
     "output_type": "stream",
     "text": [
      "  8%|▊         | 54/694 [00:43<20:05,  1.88s/it]"
     ]
    },
    {
     "name": "stdout",
     "output_type": "stream",
     "text": [
      "Processed ./arxiv_downloads_processed\\1606.03490v3.The_Mythos_of_Model_Interpretability.pkl\n"
     ]
    },
    {
     "name": "stderr",
     "output_type": "stream",
     "text": [
      "  8%|▊         | 55/694 [00:43<15:02,  1.41s/it]"
     ]
    },
    {
     "name": "stdout",
     "output_type": "stream",
     "text": [
      "Processed ./arxiv_downloads_processed\\1606.03864v2.Neural_Associative_Memory_for_Dual_Sequence_Modeling.pkl\n"
     ]
    },
    {
     "name": "stderr",
     "output_type": "stream",
     "text": [
      "  8%|▊         | 56/694 [00:44<12:15,  1.15s/it]"
     ]
    },
    {
     "name": "stdout",
     "output_type": "stream",
     "text": [
      "Processed ./arxiv_downloads_processed\\1606.07298v1.Explaining_Predictions_of_Non_Linear_Classifiers_in_NLP.pkl\n"
     ]
    },
    {
     "name": "stderr",
     "output_type": "stream",
     "text": [
      "  8%|▊         | 57/694 [00:44<09:37,  1.10it/s]"
     ]
    },
    {
     "name": "stdout",
     "output_type": "stream",
     "text": [
      "Processed ./arxiv_downloads_processed\\1609.06492v1.Document_Image_Coding_and_Clustering_for_Script_Discrimination.pkl\n"
     ]
    },
    {
     "name": "stderr",
     "output_type": "stream",
     "text": [
      "  8%|▊         | 58/694 [00:47<15:13,  1.44s/it]"
     ]
    },
    {
     "name": "stdout",
     "output_type": "stream",
     "text": [
      "Processed ./arxiv_downloads_processed\\1610.01076v1.Tutorial_on_Answering_Questions_about_Images_with_Deep_Learning.pkl\n"
     ]
    },
    {
     "name": "stderr",
     "output_type": "stream",
     "text": [
      "  9%|▊         | 59/694 [00:47<12:29,  1.18s/it]"
     ]
    },
    {
     "name": "stdout",
     "output_type": "stream",
     "text": [
      "Processed ./arxiv_downloads_processed\\1610.06454v2.Reasoning_with_Memory_Augmented_Neural_Networks_for_Language_Comprehension.pkl\n"
     ]
    },
    {
     "name": "stderr",
     "output_type": "stream",
     "text": [
      "  9%|▊         | 60/694 [00:48<12:01,  1.14s/it]"
     ]
    },
    {
     "name": "stdout",
     "output_type": "stream",
     "text": [
      "Processed ./arxiv_downloads_processed\\1611.00448v1.Natural_Parameter_Networks__A_Class_of_Probabilistic_Neural_Networks.pkl\n"
     ]
    },
    {
     "name": "stderr",
     "output_type": "stream",
     "text": [
      "  9%|▉         | 61/694 [00:50<12:35,  1.19s/it]"
     ]
    },
    {
     "name": "stdout",
     "output_type": "stream",
     "text": [
      "Processed ./arxiv_downloads_processed\\1611.00454v1.Collaborative_Recurrent_Autoencoder__Recommend_while_Learning_to_Fill_in_the_Blanks.pkl\n"
     ]
    },
    {
     "name": "stderr",
     "output_type": "stream",
     "text": [
      "  9%|▉         | 62/694 [00:50<10:15,  1.03it/s]"
     ]
    },
    {
     "name": "stdout",
     "output_type": "stream",
     "text": [
      "Processed ./arxiv_downloads_processed\\1611.01576v2.Quasi_Recurrent_Neural_Networks.pkl\n"
     ]
    },
    {
     "name": "stderr",
     "output_type": "stream",
     "text": [
      "  9%|▉         | 63/694 [00:51<09:04,  1.16it/s]"
     ]
    },
    {
     "name": "stdout",
     "output_type": "stream",
     "text": [
      "Processed ./arxiv_downloads_processed\\1611.01843v3.Learning_to_Perform_Physics_Experiments_via_Deep_Reinforcement_Learning.pkl\n"
     ]
    },
    {
     "name": "stderr",
     "output_type": "stream",
     "text": [
      "  9%|▉         | 64/694 [00:51<07:40,  1.37it/s]"
     ]
    },
    {
     "name": "stdout",
     "output_type": "stream",
     "text": [
      "Processed ./arxiv_downloads_processed\\1611.06791v1.Generalized_Dropout.pkl\n"
     ]
    },
    {
     "name": "stderr",
     "output_type": "stream",
     "text": [
      "  9%|▉         | 65/694 [00:52<06:30,  1.61it/s]"
     ]
    },
    {
     "name": "stdout",
     "output_type": "stream",
     "text": [
      "Processed ./arxiv_downloads_processed\\1611.07422v1.Deep_Learning_Approximation_for_Stochastic_Control_Problems.pkl\n"
     ]
    },
    {
     "name": "stderr",
     "output_type": "stream",
     "text": [
      " 10%|▉         | 66/694 [00:52<05:56,  1.76it/s]"
     ]
    },
    {
     "name": "stdout",
     "output_type": "stream",
     "text": [
      "Processed ./arxiv_downloads_processed\\1612.01589v1.Improving_the_Performance_of_Neural_Networks_in_Regression_Tasks_Using_Drawering.pkl\n"
     ]
    },
    {
     "name": "stderr",
     "output_type": "stream",
     "text": [
      " 10%|▉         | 67/694 [00:52<05:22,  1.95it/s]"
     ]
    },
    {
     "name": "stdout",
     "output_type": "stream",
     "text": [
      "Processed ./arxiv_downloads_processed\\1612.02695v1.Towards_better_decoding_and_language_model_integration_in_sequence_to_sequence_models.pkl\n"
     ]
    },
    {
     "name": "stderr",
     "output_type": "stream",
     "text": [
      " 10%|▉         | 68/694 [00:53<04:58,  2.09it/s]"
     ]
    },
    {
     "name": "stdout",
     "output_type": "stream",
     "text": [
      "Processed ./arxiv_downloads_processed\\1612.05251v1.Neural_Networks_for_Joint_Sentence_Classification_in_Medical_Paper_Abstracts.pkl\n"
     ]
    },
    {
     "name": "stderr",
     "output_type": "stream",
     "text": [
      " 10%|▉         | 69/694 [00:56<12:57,  1.24s/it]"
     ]
    },
    {
     "name": "stdout",
     "output_type": "stream",
     "text": [
      "Processed ./arxiv_downloads_processed\\1612.06212v1.A_recurrent_neural_network_without_chaos.pkl\n"
     ]
    },
    {
     "name": "stderr",
     "output_type": "stream",
     "text": [
      " 10%|█         | 70/694 [00:57<11:25,  1.10s/it]"
     ]
    },
    {
     "name": "stdout",
     "output_type": "stream",
     "text": [
      "Processed ./arxiv_downloads_processed\\1612.06370v2.Learning_Features_by_Watching_Objects_Move.pkl\n"
     ]
    },
    {
     "name": "stderr",
     "output_type": "stream",
     "text": [
      " 10%|█         | 71/694 [00:58<12:30,  1.20s/it]"
     ]
    },
    {
     "name": "stdout",
     "output_type": "stream",
     "text": [
      "Processed ./arxiv_downloads_processed\\1701.01329v1.Generating_Focussed_Molecule_Libraries_for_Drug_Discovery_with_Recurrent_Neural_Networks.pkl\n"
     ]
    },
    {
     "name": "stderr",
     "output_type": "stream",
     "text": [
      " 10%|█         | 72/694 [00:59<10:28,  1.01s/it]"
     ]
    },
    {
     "name": "stdout",
     "output_type": "stream",
     "text": [
      "Processed ./arxiv_downloads_processed\\1701.05549v1.Deep_Neural_Networks___A_Brief_History.pkl\n"
     ]
    },
    {
     "name": "stderr",
     "output_type": "stream",
     "text": [
      " 11%|█         | 73/694 [00:59<10:00,  1.03it/s]"
     ]
    },
    {
     "name": "stdout",
     "output_type": "stream",
     "text": [
      "Processed ./arxiv_downloads_processed\\1701.06106v2.Neurogenesis_Inspired_Dictionary_Learning__Online_Model_Adaption_in_a_Changing_World.pkl\n"
     ]
    },
    {
     "name": "stderr",
     "output_type": "stream",
     "text": [
      " 11%|█         | 74/694 [01:00<08:27,  1.22it/s]"
     ]
    },
    {
     "name": "stdout",
     "output_type": "stream",
     "text": [
      "Processed ./arxiv_downloads_processed\\1702.02540v2.Automatic_Rule_Extraction_from_Long_Short_Term_Memory_Networks.pkl\n"
     ]
    },
    {
     "name": "stderr",
     "output_type": "stream",
     "text": [
      " 11%|█         | 75/694 [01:01<08:06,  1.27it/s]"
     ]
    },
    {
     "name": "stdout",
     "output_type": "stream",
     "text": [
      "Processed ./arxiv_downloads_processed\\1702.08690v2.Borrowing_Treasures_from_the_Wealthy__Deep_Transfer_Learning_through_Selective_Joint_Fine_tuning.pkl\n"
     ]
    },
    {
     "name": "stderr",
     "output_type": "stream",
     "text": [
      " 11%|█         | 76/694 [01:01<07:46,  1.33it/s]"
     ]
    },
    {
     "name": "stdout",
     "output_type": "stream",
     "text": [
      "Processed ./arxiv_downloads_processed\\1703.03864v2.Evolution_Strategies_as_a_Scalable_Alternative_to_Reinforcement_Learning.pkl\n"
     ]
    },
    {
     "name": "stderr",
     "output_type": "stream",
     "text": [
      " 11%|█         | 77/694 [01:02<06:43,  1.53it/s]"
     ]
    },
    {
     "name": "stdout",
     "output_type": "stream",
     "text": [
      "Processed ./arxiv_downloads_processed\\1703.06217v2.Deciding_How_to_Decide__Dynamic_Routing_in_Artificial_Neural_Networks.pkl\n"
     ]
    },
    {
     "name": "stderr",
     "output_type": "stream",
     "text": [
      " 11%|█         | 78/694 [01:02<06:29,  1.58it/s]"
     ]
    },
    {
     "name": "stdout",
     "output_type": "stream",
     "text": [
      "Processed ./arxiv_downloads_processed\\1704.00260v2.Aligned_Image_Word_Representations_Improve_Inductive_Transfer_Across_Vision_Language_Tasks.pkl\n"
     ]
    },
    {
     "name": "stderr",
     "output_type": "stream",
     "text": [
      " 11%|█▏        | 79/694 [01:03<05:55,  1.73it/s]"
     ]
    },
    {
     "name": "stdout",
     "output_type": "stream",
     "text": [
      "Processed ./arxiv_downloads_processed\\1704.01523v1.MIT_at_SemEval_2017_Task_10__Relation_Extraction_with_Convolutional_Neural_Networks.pkl\n"
     ]
    },
    {
     "name": "stderr",
     "output_type": "stream",
     "text": [
      " 12%|█▏        | 80/694 [01:03<05:34,  1.84it/s]"
     ]
    },
    {
     "name": "stdout",
     "output_type": "stream",
     "text": [
      "Processed ./arxiv_downloads_processed\\1704.05712v3.Universal_Adversarial_Perturbations_Against_Semantic_Image_Segmentation.pkl\n"
     ]
    },
    {
     "name": "stderr",
     "output_type": "stream",
     "text": [
      " 12%|█▏        | 81/694 [01:04<06:54,  1.48it/s]"
     ]
    },
    {
     "name": "stdout",
     "output_type": "stream",
     "text": [
      "Processed ./arxiv_downloads_processed\\1704.07535v1.Abstract_Syntax_Networks_for_Code_Generation_and_Semantic_Parsing.pkl\n"
     ]
    },
    {
     "name": "stderr",
     "output_type": "stream",
     "text": [
      " 12%|█▏        | 82/694 [01:05<05:48,  1.75it/s]"
     ]
    },
    {
     "name": "stdout",
     "output_type": "stream",
     "text": [
      "Processed ./arxiv_downloads_processed\\1704.07751v1.Fine_Grained_Entity_Typing_with_High_Multiplicity_Assignments.pkl\n"
     ]
    },
    {
     "name": "stderr",
     "output_type": "stream",
     "text": [
      " 12%|█▏        | 83/694 [01:05<06:58,  1.46it/s]"
     ]
    },
    {
     "name": "stdout",
     "output_type": "stream",
     "text": [
      "Processed ./arxiv_downloads_processed\\1704.08045v2.The_loss_surface_of_deep_and_wide_neural_networks.pkl\n"
     ]
    },
    {
     "name": "stderr",
     "output_type": "stream",
     "text": [
      " 12%|█▏        | 84/694 [01:06<06:11,  1.64it/s]"
     ]
    },
    {
     "name": "stdout",
     "output_type": "stream",
     "text": [
      "Processed ./arxiv_downloads_processed\\1704.08092v1.A_Recurrent_Neural_Model_with_Attention_for_the_Recognition_of_Chinese_Implicit_Discourse_Relations.pkl\n"
     ]
    },
    {
     "name": "stderr",
     "output_type": "stream",
     "text": [
      " 12%|█▏        | 85/694 [01:07<06:20,  1.60it/s]"
     ]
    },
    {
     "name": "stdout",
     "output_type": "stream",
     "text": [
      "Processed ./arxiv_downloads_processed\\1704.08424v2.Multimodal_Word_Distributions.pkl\n"
     ]
    },
    {
     "name": "stderr",
     "output_type": "stream",
     "text": [
      " 12%|█▏        | 86/694 [01:07<05:47,  1.75it/s]"
     ]
    },
    {
     "name": "stdout",
     "output_type": "stream",
     "text": [
      "Processed ./arxiv_downloads_processed\\1705.00557v1.Discourse_Based_Objectives_for_Fast_Unsupervised_Sentence_Representation_Learning.pkl\n"
     ]
    },
    {
     "name": "stderr",
     "output_type": "stream",
     "text": [
      " 13%|█▎        | 87/694 [01:07<05:19,  1.90it/s]"
     ]
    },
    {
     "name": "stdout",
     "output_type": "stream",
     "text": [
      "Processed ./arxiv_downloads_processed\\1705.06273v1.Transfer_Learning_for_Named_Entity_Recognition_with_Neural_Networks.pkl\n"
     ]
    },
    {
     "name": "stderr",
     "output_type": "stream",
     "text": [
      " 13%|█▎        | 88/694 [01:08<05:40,  1.78it/s]"
     ]
    },
    {
     "name": "stdout",
     "output_type": "stream",
     "text": [
      "Processed ./arxiv_downloads_processed\\1705.07904v3.Semantically_Decomposing_the_Latent_Spaces_of_Generative_Adversarial_Networks.pkl\n"
     ]
    },
    {
     "name": "stderr",
     "output_type": "stream",
     "text": [
      " 13%|█▎        | 89/694 [01:09<05:24,  1.87it/s]"
     ]
    },
    {
     "name": "stdout",
     "output_type": "stream",
     "text": [
      "Processed ./arxiv_downloads_processed\\1705.07962v2.pix2code__Generating_Code_from_a_Graphical_User_Interface_Screenshot.pkl\n"
     ]
    },
    {
     "name": "stderr",
     "output_type": "stream",
     "text": [
      " 13%|█▎        | 90/694 [01:09<05:34,  1.80it/s]"
     ]
    },
    {
     "name": "stdout",
     "output_type": "stream",
     "text": [
      "Processed ./arxiv_downloads_processed\\1705.08142v3.Latent_Multi_task_Architecture_Learning.pkl\n"
     ]
    },
    {
     "name": "stderr",
     "output_type": "stream",
     "text": [
      " 13%|█▎        | 91/694 [01:10<05:35,  1.80it/s]"
     ]
    },
    {
     "name": "stdout",
     "output_type": "stream",
     "text": [
      "Processed ./arxiv_downloads_processed\\1705.08557v1.Grounded_Recurrent_Neural_Networks.pkl\n"
     ]
    },
    {
     "name": "stderr",
     "output_type": "stream",
     "text": [
      " 13%|█▎        | 92/694 [01:11<06:56,  1.44it/s]"
     ]
    },
    {
     "name": "stdout",
     "output_type": "stream",
     "text": [
      "Processed ./arxiv_downloads_processed\\1705.10119v3.Kernel_Implicit_Variational_Inference.pkl\n"
     ]
    },
    {
     "name": "stderr",
     "output_type": "stream",
     "text": [
      " 13%|█▎        | 93/694 [01:11<06:42,  1.49it/s]"
     ]
    },
    {
     "name": "stdout",
     "output_type": "stream",
     "text": [
      "Processed ./arxiv_downloads_processed\\1705.10229v1.Latent_Intention_Dialogue_Models.pkl\n"
     ]
    },
    {
     "name": "stderr",
     "output_type": "stream",
     "text": [
      " 14%|█▎        | 94/694 [01:12<07:04,  1.41it/s]"
     ]
    },
    {
     "name": "stdout",
     "output_type": "stream",
     "text": [
      "Processed ./arxiv_downloads_processed\\1705.10369v4.Emergent_Communication_in_a_Multi_Modal__Multi_Step_Referential_Game.pkl\n"
     ]
    },
    {
     "name": "stderr",
     "output_type": "stream",
     "text": [
      " 14%|█▎        | 95/694 [01:13<06:13,  1.61it/s]"
     ]
    },
    {
     "name": "stdout",
     "output_type": "stream",
     "text": [
      "Processed ./arxiv_downloads_processed\\1705.10929v1.Adversarial_Generation_of_Natural_Language.pkl\n"
     ]
    },
    {
     "name": "stderr",
     "output_type": "stream",
     "text": [
      " 14%|█▍        | 96/694 [01:13<06:51,  1.45it/s]"
     ]
    },
    {
     "name": "stdout",
     "output_type": "stream",
     "text": [
      "Processed ./arxiv_downloads_processed\\1706.00290v1.Transfer_Learning_for_Speech_Recognition_on_a_Budget.pkl\n"
     ]
    },
    {
     "name": "stderr",
     "output_type": "stream",
     "text": [
      " 14%|█▍        | 97/694 [01:14<05:48,  1.71it/s]"
     ]
    },
    {
     "name": "stdout",
     "output_type": "stream",
     "text": [
      "Processed ./arxiv_downloads_processed\\1706.01450v1.A_Joint_Model_for_Question_Answering_and_Question_Generation.pkl\n"
     ]
    },
    {
     "name": "stderr",
     "output_type": "stream",
     "text": [
      " 14%|█▍        | 98/694 [01:14<05:09,  1.92it/s]"
     ]
    },
    {
     "name": "stdout",
     "output_type": "stream",
     "text": [
      "Processed ./arxiv_downloads_processed\\1706.02257v1.Driver_Action_Prediction_Using_Deep__Bidirectional__Recurrent_Neural_Network.pkl\n"
     ]
    },
    {
     "name": "stderr",
     "output_type": "stream",
     "text": [
      " 14%|█▍        | 99/694 [01:15<06:27,  1.53it/s]"
     ]
    },
    {
     "name": "stdout",
     "output_type": "stream",
     "text": [
      "Processed ./arxiv_downloads_processed\\1706.02776v1.Optimizing_expected_word_error_rate_via_sampling_for_speech_recognition.pkl\n"
     ]
    },
    {
     "name": "stderr",
     "output_type": "stream",
     "text": [
      " 14%|█▍        | 100/694 [01:16<06:25,  1.54it/s]"
     ]
    },
    {
     "name": "stdout",
     "output_type": "stream",
     "text": [
      "Processed ./arxiv_downloads_processed\\1706.03946v1.A_Supervised_Approach_to_Extractive_Summarisation_of_Scientific_Papers.pkl\n"
     ]
    },
    {
     "name": "stderr",
     "output_type": "stream",
     "text": [
      " 15%|█▍        | 101/694 [01:17<07:25,  1.33it/s]"
     ]
    },
    {
     "name": "stdout",
     "output_type": "stream",
     "text": [
      "Processed ./arxiv_downloads_processed\\1706.05507v2.Variants_of_RMSProp_and_Adagrad_with_Logarithmic_Regret_Bounds.pkl\n"
     ]
    },
    {
     "name": "stderr",
     "output_type": "stream",
     "text": [
      " 15%|█▍        | 102/694 [01:17<06:21,  1.55it/s]"
     ]
    },
    {
     "name": "stdout",
     "output_type": "stream",
     "text": [
      "Processed ./arxiv_downloads_processed\\1706.07206v2.Explaining_Recurrent_Neural_Network_Predictions_in_Sentiment_Analysis.pkl\n"
     ]
    },
    {
     "name": "stderr",
     "output_type": "stream",
     "text": [
      " 15%|█▍        | 103/694 [01:17<05:35,  1.76it/s]"
     ]
    },
    {
     "name": "stdout",
     "output_type": "stream",
     "text": [
      "Processed ./arxiv_downloads_processed\\1707.00081v1.Synthesizing_Deep_Neural_Network_Architectures_using_Biological_Synaptic_Strength_Distributions.pkl\n"
     ]
    },
    {
     "name": "stderr",
     "output_type": "stream",
     "text": [
      " 15%|█▍        | 104/694 [01:18<05:15,  1.87it/s]"
     ]
    },
    {
     "name": "stdout",
     "output_type": "stream",
     "text": [
      "Processed ./arxiv_downloads_processed\\1707.06480v1.Syllable_aware_Neural_Language_Models__A_Failure_to_Beat_Character_aware_Ones.pkl\n"
     ]
    },
    {
     "name": "stderr",
     "output_type": "stream",
     "text": [
      " 15%|█▌        | 105/694 [01:23<17:57,  1.83s/it]"
     ]
    },
    {
     "name": "stdout",
     "output_type": "stream",
     "text": [
      "Processed ./arxiv_downloads_processed\\1707.09219v4.Recurrent_Ladder_Networks.pkl\n"
     ]
    },
    {
     "name": "stderr",
     "output_type": "stream",
     "text": [
      " 15%|█▌        | 106/694 [01:24<14:38,  1.49s/it]"
     ]
    },
    {
     "name": "stdout",
     "output_type": "stream",
     "text": [
      "Processed ./arxiv_downloads_processed\\1708.05963v1.Neural_Networks_Compression_for_Language_Modeling.pkl\n"
     ]
    },
    {
     "name": "stderr",
     "output_type": "stream",
     "text": [
      " 15%|█▌        | 107/694 [01:24<12:36,  1.29s/it]"
     ]
    },
    {
     "name": "stdout",
     "output_type": "stream",
     "text": [
      "Processed ./arxiv_downloads_processed\\1709.01215v2.ALICE__Towards_Understanding_Adversarial_Learning_for_Joint_Distribution_Matching.pkl\n"
     ]
    },
    {
     "name": "stderr",
     "output_type": "stream",
     "text": [
      " 16%|█▌        | 108/694 [01:26<12:49,  1.31s/it]"
     ]
    },
    {
     "name": "stdout",
     "output_type": "stream",
     "text": [
      "Processed ./arxiv_downloads_processed\\1709.02349v2.A_Deep_Reinforcement_Learning_Chatbot.pkl\n"
     ]
    },
    {
     "name": "stderr",
     "output_type": "stream",
     "text": [
      " 16%|█▌        | 109/694 [01:26<10:42,  1.10s/it]"
     ]
    },
    {
     "name": "stdout",
     "output_type": "stream",
     "text": [
      "Processed ./arxiv_downloads_processed\\1709.02797v1.On_the_exact_relationship_between_the_denoising_function_and_the_data_distribution.pkl\n"
     ]
    },
    {
     "name": "stderr",
     "output_type": "stream",
     "text": [
      " 16%|█▌        | 110/694 [01:27<09:56,  1.02s/it]"
     ]
    },
    {
     "name": "stdout",
     "output_type": "stream",
     "text": [
      "Processed ./arxiv_downloads_processed\\1709.05870v1.ZhuSuan__A_Library_for_Bayesian_Deep_Learning.pkl\n"
     ]
    },
    {
     "name": "stderr",
     "output_type": "stream",
     "text": [
      " 16%|█▌        | 111/694 [01:28<08:18,  1.17it/s]"
     ]
    },
    {
     "name": "stdout",
     "output_type": "stream",
     "text": [
      "Processed ./arxiv_downloads_processed\\1709.06011v1.Guided_Deep_Reinforcement_Learning_for_Swarm_Systems.pkl\n"
     ]
    },
    {
     "name": "stderr",
     "output_type": "stream",
     "text": [
      " 16%|█▌        | 112/694 [01:28<07:35,  1.28it/s]"
     ]
    },
    {
     "name": "stdout",
     "output_type": "stream",
     "text": [
      "Processed ./arxiv_downloads_processed\\1709.06620v1.Learning_of_Coordination_Policies_for_Robotic_Swarms.pkl\n"
     ]
    },
    {
     "name": "stderr",
     "output_type": "stream",
     "text": [
      " 16%|█▋        | 113/694 [01:29<07:00,  1.38it/s]"
     ]
    },
    {
     "name": "stdout",
     "output_type": "stream",
     "text": [
      "Processed ./arxiv_downloads_processed\\1709.06990v1.Text_Compression_for_Sentiment_Analysis_via_Evolutionary_Algorithms.pkl\n"
     ]
    },
    {
     "name": "stderr",
     "output_type": "stream",
     "text": [
      " 16%|█▋        | 114/694 [01:29<06:17,  1.54it/s]"
     ]
    },
    {
     "name": "stdout",
     "output_type": "stream",
     "text": [
      "Processed ./arxiv_downloads_processed\\1709.07224v2.Local_Communication_Protocols_for_Learning_Complex_Swarm_Behaviors_with_Deep_Reinforcement_Learning.pkl\n"
     ]
    },
    {
     "name": "stderr",
     "output_type": "stream",
     "text": [
      " 17%|█▋        | 115/694 [01:30<07:12,  1.34it/s]"
     ]
    },
    {
     "name": "stdout",
     "output_type": "stream",
     "text": [
      "Processed ./arxiv_downloads_processed\\1709.08878v2.Generating_Sentences_by_Editing_Prototypes.pkl\n"
     ]
    },
    {
     "name": "stderr",
     "output_type": "stream",
     "text": [
      " 17%|█▋        | 116/694 [01:31<07:41,  1.25it/s]"
     ]
    },
    {
     "name": "stdout",
     "output_type": "stream",
     "text": [
      "Processed ./arxiv_downloads_processed\\1710.05381v2.A_systematic_study_of_the_class_imbalance_problem_in_convolutional_neural_networks.pkl\n"
     ]
    },
    {
     "name": "stderr",
     "output_type": "stream",
     "text": [
      " 17%|█▋        | 117/694 [01:32<08:41,  1.11it/s]"
     ]
    },
    {
     "name": "stdout",
     "output_type": "stream",
     "text": [
      "Processed ./arxiv_downloads_processed\\1710.05468v9.Generalization_in_Deep_Learning.pkl\n"
     ]
    },
    {
     "name": "stderr",
     "output_type": "stream",
     "text": [
      " 17%|█▋        | 118/694 [01:33<09:29,  1.01it/s]"
     ]
    },
    {
     "name": "stdout",
     "output_type": "stream",
     "text": [
      "Processed ./arxiv_downloads_processed\\1710.08177v1.Progressive_Learning_for_Systematic_Design_of_Large_Neural_Networks.pkl\n"
     ]
    },
    {
     "name": "stderr",
     "output_type": "stream",
     "text": [
      " 17%|█▋        | 119/694 [01:34<08:20,  1.15it/s]"
     ]
    },
    {
     "name": "stdout",
     "output_type": "stream",
     "text": [
      "Processed ./arxiv_downloads_processed\\1710.10248v2.Tensor_network_language_model.pkl\n"
     ]
    },
    {
     "name": "stderr",
     "output_type": "stream",
     "text": [
      " 17%|█▋        | 120/694 [01:35<08:12,  1.17it/s]"
     ]
    },
    {
     "name": "stdout",
     "output_type": "stream",
     "text": [
      "Processed ./arxiv_downloads_processed\\1710.10686v1.Regularization_for_Deep_Learning__A_Taxonomy.pkl\n"
     ]
    },
    {
     "name": "stderr",
     "output_type": "stream",
     "text": [
      " 17%|█▋        | 121/694 [01:36<07:26,  1.28it/s]"
     ]
    },
    {
     "name": "stdout",
     "output_type": "stream",
     "text": [
      "Processed ./arxiv_downloads_processed\\1710.10704v3.Training_Probabilistic_Spiking_Neural_Networks_with_First_to_spike_Decoding.pkl\n"
     ]
    },
    {
     "name": "stderr",
     "output_type": "stream",
     "text": [
      " 18%|█▊        | 122/694 [01:36<06:29,  1.47it/s]"
     ]
    },
    {
     "name": "stdout",
     "output_type": "stream",
     "text": [
      "Processed ./arxiv_downloads_processed\\1711.01416v1.Language_as_a_matrix_product_state.pkl\n"
     ]
    },
    {
     "name": "stderr",
     "output_type": "stream",
     "text": [
      " 18%|█▊        | 123/694 [01:37<06:24,  1.48it/s]"
     ]
    },
    {
     "name": "stdout",
     "output_type": "stream",
     "text": [
      "Processed ./arxiv_downloads_processed\\1711.01577v3.Wider_and_Deeper__Cheaper_and_Faster__Tensorized_LSTMs_for_Sequence_Learning.pkl\n"
     ]
    },
    {
     "name": "stderr",
     "output_type": "stream",
     "text": [
      " 18%|█▊        | 124/694 [01:37<05:21,  1.77it/s]"
     ]
    },
    {
     "name": "stdout",
     "output_type": "stream",
     "text": [
      "Processed ./arxiv_downloads_processed\\1711.03640v1.Stochastic_Deep_Learning_in_Memristive_Networks.pkl\n"
     ]
    },
    {
     "name": "stderr",
     "output_type": "stream",
     "text": [
      " 18%|█▊        | 125/694 [01:37<04:39,  2.03it/s]"
     ]
    },
    {
     "name": "stdout",
     "output_type": "stream",
     "text": [
      "Processed ./arxiv_downloads_processed\\1711.11486v1.Uncertainty_Estimates_for_Efficient_Neural_Network_based_Dialogue_Policy_Optimisation.pkl\n"
     ]
    },
    {
     "name": "stderr",
     "output_type": "stream",
     "text": [
      " 18%|█▊        | 126/694 [01:38<05:37,  1.68it/s]"
     ]
    },
    {
     "name": "stdout",
     "output_type": "stream",
     "text": [
      "Processed ./arxiv_downloads_processed\\1712.00725v1.Sentiment_Classification_using_Images_and_Label_Embeddings.pkl\n"
     ]
    },
    {
     "name": "stderr",
     "output_type": "stream",
     "text": [
      " 18%|█▊        | 127/694 [01:39<05:14,  1.80it/s]"
     ]
    },
    {
     "name": "stdout",
     "output_type": "stream",
     "text": [
      "Processed ./arxiv_downloads_processed\\1712.05695v1.Lightweight_Neural_Networks.pkl\n"
     ]
    },
    {
     "name": "stderr",
     "output_type": "stream",
     "text": [
      " 18%|█▊        | 128/694 [01:39<04:35,  2.05it/s]"
     ]
    },
    {
     "name": "stdout",
     "output_type": "stream",
     "text": [
      "Processed ./arxiv_downloads_processed\\1801.03143v1.Comparing_heterogeneous_entities_using_artificial_neural_networks_of_trainable_weighted_structural_components_and_machine_learned_activation_functions.pkl\n"
     ]
    },
    {
     "name": "stderr",
     "output_type": "stream",
     "text": [
      " 19%|█▊        | 129/694 [01:39<04:22,  2.15it/s]"
     ]
    },
    {
     "name": "stdout",
     "output_type": "stream",
     "text": [
      "Processed ./arxiv_downloads_processed\\1801.06700v1.A_Deep_Reinforcement_Learning_Chatbot__Short_Version_.pkl\n"
     ]
    },
    {
     "name": "stderr",
     "output_type": "stream",
     "text": [
      " 19%|█▊        | 130/694 [01:40<05:36,  1.67it/s]"
     ]
    },
    {
     "name": "stdout",
     "output_type": "stream",
     "text": [
      "Processed ./arxiv_downloads_processed\\1801.07648v2.Clustering_with_Deep_Learning__Taxonomy_and_New_Methods.pkl\n"
     ]
    },
    {
     "name": "stderr",
     "output_type": "stream",
     "text": [
      " 19%|█▉        | 131/694 [01:41<05:51,  1.60it/s]"
     ]
    },
    {
     "name": "stdout",
     "output_type": "stream",
     "text": [
      "Processed ./arxiv_downloads_processed\\1802.00209v3.Dual_Recurrent_Attention_Units_for_Visual_Question_Answering.pkl\n"
     ]
    },
    {
     "name": "stderr",
     "output_type": "stream",
     "text": [
      " 19%|█▉        | 132/694 [01:42<06:04,  1.54it/s]"
     ]
    },
    {
     "name": "stdout",
     "output_type": "stream",
     "text": [
      "Processed ./arxiv_downloads_processed\\1802.03268v2.Efficient_Neural_Architecture_Search_via_Parameter_Sharing.pkl\n"
     ]
    },
    {
     "name": "stderr",
     "output_type": "stream",
     "text": [
      " 19%|█▉        | 133/694 [01:43<07:17,  1.28it/s]"
     ]
    },
    {
     "name": "stdout",
     "output_type": "stream",
     "text": [
      "Processed ./arxiv_downloads_processed\\1802.07426v3.Generalization_in_Machine_Learning_via_Analytical_Learning_Theory.pkl\n"
     ]
    },
    {
     "name": "stderr",
     "output_type": "stream",
     "text": [
      " 19%|█▉        | 134/694 [01:43<06:35,  1.42it/s]"
     ]
    },
    {
     "name": "stdout",
     "output_type": "stream",
     "text": [
      "Processed ./arxiv_downloads_processed\\1802.09816v1.Coarse_to_fine_non_rigid_registration__a_chain_of_scale_specific_neural_networks_for_multimodal_image_alignment_with_application_to_remote_sensing.pkl\n"
     ]
    },
    {
     "name": "stderr",
     "output_type": "stream",
     "text": [
      " 19%|█▉        | 135/694 [01:44<05:51,  1.59it/s]"
     ]
    },
    {
     "name": "stdout",
     "output_type": "stream",
     "text": [
      "Processed ./arxiv_downloads_processed\\1802.09914v1.High_Dimensional_Vector_Semantics.pkl\n"
     ]
    },
    {
     "name": "stderr",
     "output_type": "stream",
     "text": [
      " 20%|█▉        | 136/694 [01:44<05:35,  1.67it/s]"
     ]
    },
    {
     "name": "stdout",
     "output_type": "stream",
     "text": [
      "Processed ./arxiv_downloads_processed\\1803.08375v2.Deep_Learning_using_Rectified_Linear_Units__ReLU_.pkl\n"
     ]
    },
    {
     "name": "stderr",
     "output_type": "stream",
     "text": [
      " 20%|█▉        | 137/694 [01:45<06:07,  1.52it/s]"
     ]
    },
    {
     "name": "stdout",
     "output_type": "stream",
     "text": [
      "Processed ./arxiv_downloads_processed\\1804.01712v1.Variational_Rejection_Sampling.pkl\n"
     ]
    },
    {
     "name": "stderr",
     "output_type": "stream",
     "text": [
      " 20%|█▉        | 138/694 [01:46<06:21,  1.46it/s]"
     ]
    },
    {
     "name": "stdout",
     "output_type": "stream",
     "text": [
      "Processed ./arxiv_downloads_processed\\1804.01756v3.The_Kanerva_Machine__A_Generative_Distributed_Memory.pkl\n"
     ]
    },
    {
     "name": "stderr",
     "output_type": "stream",
     "text": [
      " 20%|██        | 139/694 [01:46<06:10,  1.50it/s]"
     ]
    },
    {
     "name": "stdout",
     "output_type": "stream",
     "text": [
      "Processed ./arxiv_downloads_processed\\1804.02698v1.Hierarchical_Modular_Reinforcement_Learning_Method_and_Knowledge_Acquisition_of_State_Action_Rule_for_Multi_target_Problem.pkl\n"
     ]
    },
    {
     "name": "stderr",
     "output_type": "stream",
     "text": [
      " 20%|██        | 140/694 [01:47<06:29,  1.42it/s]"
     ]
    },
    {
     "name": "stdout",
     "output_type": "stream",
     "text": [
      "Processed ./arxiv_downloads_processed\\1804.02884v1.Policy_Gradient_With_Value_Function_Approximation_For_Collective_Multiagent_Planning.pkl\n"
     ]
    },
    {
     "name": "stderr",
     "output_type": "stream",
     "text": [
      " 20%|██        | 141/694 [01:48<05:55,  1.56it/s]"
     ]
    },
    {
     "name": "stdout",
     "output_type": "stream",
     "text": [
      "Processed ./arxiv_downloads_processed\\1804.03980v1.Emergent_Communication_through_Negotiation.pkl\n"
     ]
    },
    {
     "name": "stderr",
     "output_type": "stream",
     "text": [
      " 20%|██        | 142/694 [01:48<05:15,  1.75it/s]"
     ]
    },
    {
     "name": "stdout",
     "output_type": "stream",
     "text": [
      "Processed ./arxiv_downloads_processed\\1804.03984v1.Emergence_of_Linguistic_Communication_from_Referential_Games_with_Symbolic_and_Pixel_Input.pkl\n"
     ]
    },
    {
     "name": "stderr",
     "output_type": "stream",
     "text": [
      " 21%|██        | 143/694 [01:49<05:17,  1.74it/s]"
     ]
    },
    {
     "name": "stdout",
     "output_type": "stream",
     "text": [
      "Processed ./arxiv_downloads_processed\\1804.09558v2.A_Visual_Distance_for_WordNet.pkl\n"
     ]
    },
    {
     "name": "stderr",
     "output_type": "stream",
     "text": [
      " 21%|██        | 144/694 [01:49<04:42,  1.94it/s]"
     ]
    },
    {
     "name": "stdout",
     "output_type": "stream",
     "text": [
      "Processed ./arxiv_downloads_processed\\1805.01837v1.Towards_a_Spectrum_of_Graph_Convolutional_Networks.pkl\n"
     ]
    },
    {
     "name": "stderr",
     "output_type": "stream",
     "text": [
      " 21%|██        | 145/694 [01:50<05:13,  1.75it/s]"
     ]
    },
    {
     "name": "stdout",
     "output_type": "stream",
     "text": [
      "Processed ./arxiv_downloads_processed\\1805.01890v2.RMDL__Random_Multimodel_Deep_Learning_for_Classification.pkl\n"
     ]
    },
    {
     "name": "stderr",
     "output_type": "stream",
     "text": [
      " 21%|██        | 146/694 [01:50<05:40,  1.61it/s]"
     ]
    },
    {
     "name": "stdout",
     "output_type": "stream",
     "text": [
      "Processed ./arxiv_downloads_processed\\1805.07443v1.Multi_view_Sentence_Representation_Learning.pkl\n"
     ]
    },
    {
     "name": "stderr",
     "output_type": "stream",
     "text": [
      " 21%|██        | 147/694 [01:51<06:00,  1.52it/s]"
     ]
    },
    {
     "name": "stdout",
     "output_type": "stream",
     "text": [
      "Processed ./arxiv_downloads_processed\\1805.07475v3.Learning_to_Repair_Software_Vulnerabilities_with_Generative_Adversarial_Networks.pkl\n"
     ]
    },
    {
     "name": "stderr",
     "output_type": "stream",
     "text": [
      " 21%|██▏       | 148/694 [01:52<05:46,  1.58it/s]"
     ]
    },
    {
     "name": "stdout",
     "output_type": "stream",
     "text": [
      "Processed ./arxiv_downloads_processed\\1805.08249v3.Classifier_agnostic_saliency_map_extraction.pkl\n"
     ]
    },
    {
     "name": "stderr",
     "output_type": "stream",
     "text": [
      " 21%|██▏       | 149/694 [01:52<05:32,  1.64it/s]"
     ]
    },
    {
     "name": "stdout",
     "output_type": "stream",
     "text": [
      "Processed ./arxiv_downloads_processed\\1805.08311v1.AgileNet__Lightweight_Dictionary_based_Few_shot_Learning.pkl\n"
     ]
    },
    {
     "name": "stderr",
     "output_type": "stream",
     "text": [
      " 22%|██▏       | 150/694 [01:53<05:36,  1.62it/s]"
     ]
    },
    {
     "name": "stdout",
     "output_type": "stream",
     "text": [
      "Processed ./arxiv_downloads_processed\\1805.08776v1.Scalable_Centralized_Deep_Multi_Agent_Reinforcement_Learning_via_Policy_Gradients.pkl\n"
     ]
    },
    {
     "name": "stderr",
     "output_type": "stream",
     "text": [
      " 22%|██▏       | 151/694 [01:54<05:25,  1.67it/s]"
     ]
    },
    {
     "name": "stdout",
     "output_type": "stream",
     "text": [
      "Processed ./arxiv_downloads_processed\\1805.09692v2.Been_There__Done_That__Meta_Learning_with_Episodic_Recall.pkl\n"
     ]
    },
    {
     "name": "stderr",
     "output_type": "stream",
     "text": [
      " 22%|██▏       | 152/694 [01:54<05:23,  1.67it/s]"
     ]
    },
    {
     "name": "stdout",
     "output_type": "stream",
     "text": [
      "Processed ./arxiv_downloads_processed\\1805.10255v1.Parallel_Architecture_and_Hyperparameter_Search_via_Successive_Halving_and_Classification.pkl\n"
     ]
    },
    {
     "name": "stderr",
     "output_type": "stream",
     "text": [
      " 22%|██▏       | 153/694 [01:55<05:05,  1.77it/s]"
     ]
    },
    {
     "name": "stdout",
     "output_type": "stream",
     "text": [
      "Processed ./arxiv_downloads_processed\\1805.10636v2.Contextual_Graph_Markov_Model__A_Deep_and_Generative_Approach_to_Graph_Processing.pkl\n"
     ]
    },
    {
     "name": "stderr",
     "output_type": "stream",
     "text": [
      " 22%|██▏       | 154/694 [01:55<04:59,  1.80it/s]"
     ]
    },
    {
     "name": "stdout",
     "output_type": "stream",
     "text": [
      "Processed ./arxiv_downloads_processed\\1805.11752v5.Multi_turn_Dialogue_Response_Generation_in_an_Adversarial_Learning_Framework.pkl\n"
     ]
    },
    {
     "name": "stderr",
     "output_type": "stream",
     "text": [
      " 22%|██▏       | 155/694 [01:56<05:35,  1.61it/s]"
     ]
    },
    {
     "name": "stdout",
     "output_type": "stream",
     "text": [
      "Processed ./arxiv_downloads_processed\\1805.11818v1.Visual_Referring_Expression_Recognition__What_Do_Systems_Actually_Learn_.pkl\n"
     ]
    },
    {
     "name": "stderr",
     "output_type": "stream",
     "text": [
      " 22%|██▏       | 156/694 [01:56<04:44,  1.89it/s]"
     ]
    },
    {
     "name": "stdout",
     "output_type": "stream",
     "text": [
      "Processed ./arxiv_downloads_processed\\1805.12024v1.Privacy_Aware_Offloading_of_Deep_Neural_Networks.pkl\n"
     ]
    },
    {
     "name": "stderr",
     "output_type": "stream",
     "text": [
      " 23%|██▎       | 157/694 [01:57<06:13,  1.44it/s]"
     ]
    },
    {
     "name": "stdout",
     "output_type": "stream",
     "text": [
      "Processed ./arxiv_downloads_processed\\1806.02256v1.Adversarial_Regression_with_Multiple_Learners.pkl\n"
     ]
    },
    {
     "name": "stderr",
     "output_type": "stream",
     "text": [
      " 23%|██▎       | 158/694 [01:58<05:43,  1.56it/s]"
     ]
    },
    {
     "name": "stdout",
     "output_type": "stream",
     "text": [
      "Processed ./arxiv_downloads_processed\\1806.02997v2.q_Space_Novelty_Detection_with_Variational_Autoencoders.pkl\n"
     ]
    },
    {
     "name": "stderr",
     "output_type": "stream",
     "text": [
      " 23%|██▎       | 159/694 [01:59<05:50,  1.52it/s]"
     ]
    },
    {
     "name": "stdout",
     "output_type": "stream",
     "text": [
      "Processed ./arxiv_downloads_processed\\1806.03497v1.Generalized_Earley_Parser__Bridging_Symbolic_Grammars_and_Sequence_Data_for_Future_Prediction.pkl\n"
     ]
    },
    {
     "name": "stderr",
     "output_type": "stream",
     "text": [
      " 23%|██▎       | 160/694 [01:59<06:40,  1.33it/s]"
     ]
    },
    {
     "name": "stdout",
     "output_type": "stream",
     "text": [
      "Processed ./arxiv_downloads_processed\\1806.04552v1.Combining_Model_Free_Q_Ensembles_and_Model_Based_Approaches_for_Informed_Exploration.pkl\n"
     ]
    },
    {
     "name": "stderr",
     "output_type": "stream",
     "text": [
      " 23%|██▎       | 161/694 [02:01<08:29,  1.05it/s]"
     ]
    },
    {
     "name": "stdout",
     "output_type": "stream",
     "text": [
      "Processed ./arxiv_downloads_processed\\1806.05337v2.Hierarchical_interpretations_for_neural_network_predictions.pkl\n"
     ]
    },
    {
     "name": "stderr",
     "output_type": "stream",
     "text": [
      " 23%|██▎       | 162/694 [02:02<08:08,  1.09it/s]"
     ]
    },
    {
     "name": "stdout",
     "output_type": "stream",
     "text": [
      "Processed ./arxiv_downloads_processed\\1806.05759v3.Insights_on_representational_similarity_in_neural_networks_with_canonical_correlation.pkl\n"
     ]
    },
    {
     "name": "stderr",
     "output_type": "stream",
     "text": [
      " 23%|██▎       | 163/694 [02:02<07:23,  1.20it/s]"
     ]
    },
    {
     "name": "stdout",
     "output_type": "stream",
     "text": [
      "Processed ./arxiv_downloads_processed\\1806.06464v2.Learning_Policy_Representations_in_Multiagent_Systems.pkl\n"
     ]
    },
    {
     "name": "stderr",
     "output_type": "stream",
     "text": [
      " 24%|██▎       | 164/694 [02:03<07:11,  1.23it/s]"
     ]
    },
    {
     "name": "stdout",
     "output_type": "stream",
     "text": [
      "Processed ./arxiv_downloads_processed\\1806.07550v2.Binary_Ensemble_Neural_Network__More_Bits_per_Network_or_More_Networks_per_Bit_.pkl\n"
     ]
    },
    {
     "name": "stderr",
     "output_type": "stream",
     "text": [
      " 24%|██▍       | 165/694 [02:05<08:44,  1.01it/s]"
     ]
    },
    {
     "name": "stdout",
     "output_type": "stream",
     "text": [
      "Processed ./arxiv_downloads_processed\\1806.08568v3.Continuous_Learning_in_Single_Incremental_Task_Scenarios.pkl\n"
     ]
    },
    {
     "name": "stderr",
     "output_type": "stream",
     "text": [
      " 24%|██▍       | 166/694 [02:05<07:16,  1.21it/s]"
     ]
    },
    {
     "name": "stdout",
     "output_type": "stream",
     "text": [
      "Processed ./arxiv_downloads_processed\\1807.01697v5.Benchmarking_Neural_Network_Robustness_to_Common_Corruptions_and_Surface_Variations.pkl\n"
     ]
    },
    {
     "name": "stderr",
     "output_type": "stream",
     "text": [
      " 24%|██▍       | 167/694 [02:07<09:03,  1.03s/it]"
     ]
    },
    {
     "name": "stdout",
     "output_type": "stream",
     "text": [
      "Processed ./arxiv_downloads_processed\\1807.04723v1.The_Bottleneck_Simulator__A_Model_based_Deep_Reinforcement_Learning_Approach.pkl\n"
     ]
    },
    {
     "name": "stderr",
     "output_type": "stream",
     "text": [
      " 24%|██▍       | 168/694 [02:07<07:26,  1.18it/s]"
     ]
    },
    {
     "name": "stdout",
     "output_type": "stream",
     "text": [
      "Processed ./arxiv_downloads_processed\\1807.05076v1.Metalearning_with_Hebbian_Fast_Weights.pkl\n"
     ]
    },
    {
     "name": "stderr",
     "output_type": "stream",
     "text": [
      " 24%|██▍       | 169/694 [02:08<08:33,  1.02it/s]"
     ]
    },
    {
     "name": "stdout",
     "output_type": "stream",
     "text": [
      "Processed ./arxiv_downloads_processed\\1807.06538v6.Cavity_Filling__Pseudo_Feature_Generation_for_Multi_Class_Imbalanced_Data_Problems_in_Deep_Learning.pkl\n"
     ]
    },
    {
     "name": "stderr",
     "output_type": "stream",
     "text": [
      " 24%|██▍       | 170/694 [02:09<07:15,  1.20it/s]"
     ]
    },
    {
     "name": "stdout",
     "output_type": "stream",
     "text": [
      "Processed ./arxiv_downloads_processed\\1807.06540v1.Icing_on_the_Cake__An_Easy_and_Quick_Post_Learnig_Method_You_Can_Try_After_Deep_Learning.pkl\n"
     ]
    },
    {
     "name": "stderr",
     "output_type": "stream",
     "text": [
      " 25%|██▍       | 171/694 [02:10<07:31,  1.16it/s]"
     ]
    },
    {
     "name": "stdout",
     "output_type": "stream",
     "text": [
      "Processed ./arxiv_downloads_processed\\1807.06613v3.Deep_Reinforcement_Learning_for_Swarm_Systems.pkl\n"
     ]
    },
    {
     "name": "stderr",
     "output_type": "stream",
     "text": [
      " 25%|██▍       | 172/694 [02:11<07:31,  1.16it/s]"
     ]
    },
    {
     "name": "stdout",
     "output_type": "stream",
     "text": [
      "Processed ./arxiv_downloads_processed\\1807.06699v5.Adaptive_Neural_Trees.pkl\n"
     ]
    },
    {
     "name": "stderr",
     "output_type": "stream",
     "text": [
      " 25%|██▍       | 173/694 [02:11<06:30,  1.33it/s]"
     ]
    },
    {
     "name": "stdout",
     "output_type": "stream",
     "text": [
      "Processed ./arxiv_downloads_processed\\1807.08133v1.What_is_not_where__the_challenge_of_integrating_spatial_representations_into_deep_learning_architectures.pkl\n"
     ]
    },
    {
     "name": "stderr",
     "output_type": "stream",
     "text": [
      "Ignoring wrong pointing object 39 0 (offset 0)\n",
      " 25%|██▌       | 174/694 [02:12<06:58,  1.24it/s]"
     ]
    },
    {
     "name": "stdout",
     "output_type": "stream",
     "text": [
      "Processed ./arxiv_downloads_processed\\1807.09341v1.Learning_Plannable_Representations_with_Causal_InfoGAN.pkl\n"
     ]
    },
    {
     "name": "stderr",
     "output_type": "stream",
     "text": [
      " 25%|██▌       | 175/694 [02:13<06:21,  1.36it/s]"
     ]
    },
    {
     "name": "stdout",
     "output_type": "stream",
     "text": [
      "Processed ./arxiv_downloads_processed\\1807.09844v2.Modular_Mechanistic_Networks__On_Bridging_Mechanistic_and_Phenomenological_Models_with_Deep_Neural_Networks_in_Natural_Language_Processing.pkl\n"
     ]
    },
    {
     "name": "stderr",
     "output_type": "stream",
     "text": [
      " 25%|██▌       | 176/694 [02:13<06:36,  1.31it/s]"
     ]
    },
    {
     "name": "stdout",
     "output_type": "stream",
     "text": [
      "Processed ./arxiv_downloads_processed\\1807.09936v1.Multi_Agent_Generative_Adversarial_Imitation_Learning.pkl\n"
     ]
    },
    {
     "name": "stderr",
     "output_type": "stream",
     "text": [
      " 26%|██▌       | 177/694 [02:14<06:19,  1.36it/s]"
     ]
    },
    {
     "name": "stdout",
     "output_type": "stream",
     "text": [
      "Processed ./arxiv_downloads_processed\\1808.00260v1.A_Review_on_the_Application_of_Natural_Computing_in_Environmental_Informatics.pkl\n"
     ]
    },
    {
     "name": "stderr",
     "output_type": "stream",
     "text": [
      " 26%|██▌       | 178/694 [02:15<06:17,  1.37it/s]"
     ]
    },
    {
     "name": "stdout",
     "output_type": "stream",
     "text": [
      "Processed ./arxiv_downloads_processed\\1808.00300v1.Learning_Visual_Question_Answering_by_Bootstrapping_Hard_Attention.pkl\n"
     ]
    },
    {
     "name": "stderr",
     "output_type": "stream",
     "text": [
      " 26%|██▌       | 179/694 [02:15<05:56,  1.44it/s]"
     ]
    },
    {
     "name": "stdout",
     "output_type": "stream",
     "text": [
      "Processed ./arxiv_downloads_processed\\1808.00783v1.The_Quest_for_the_Golden_Activation_Function.pkl\n"
     ]
    },
    {
     "name": "stderr",
     "output_type": "stream",
     "text": [
      " 26%|██▌       | 180/694 [02:17<07:37,  1.12it/s]"
     ]
    },
    {
     "name": "stdout",
     "output_type": "stream",
     "text": [
      "Processed ./arxiv_downloads_processed\\1808.02093v2.Learning_to_Share_and_Hide_Intentions_using_Information_Regularization.pkl\n"
     ]
    },
    {
     "name": "stderr",
     "output_type": "stream",
     "text": [
      " 26%|██▌       | 181/694 [02:17<06:15,  1.37it/s]"
     ]
    },
    {
     "name": "stdout",
     "output_type": "stream",
     "text": [
      "Processed ./arxiv_downloads_processed\\1808.02668v1.An_Occam_s_Razor_View_on_Learning_Audiovisual_Emotion_Recognition_with_Small_Training_Sets.pkl\n"
     ]
    },
    {
     "name": "stderr",
     "output_type": "stream",
     "text": [
      " 26%|██▌       | 182/694 [02:18<06:07,  1.39it/s]"
     ]
    },
    {
     "name": "stdout",
     "output_type": "stream",
     "text": [
      "Processed ./arxiv_downloads_processed\\1808.03920v1.Multimodal_Language_Analysis_with_Recurrent_Multistage_Fusion.pkl\n"
     ]
    },
    {
     "name": "stderr",
     "output_type": "stream",
     "text": [
      " 26%|██▋       | 183/694 [02:18<06:12,  1.37it/s]"
     ]
    },
    {
     "name": "stdout",
     "output_type": "stream",
     "text": [
      "Processed ./arxiv_downloads_processed\\1808.04359v2.Community_Regularization_of_Visually_Grounded_Dialog.pkl\n"
     ]
    },
    {
     "name": "stderr",
     "output_type": "stream",
     "text": [
      " 27%|██▋       | 184/694 [02:19<05:39,  1.50it/s]"
     ]
    },
    {
     "name": "stdout",
     "output_type": "stream",
     "text": [
      "Processed ./arxiv_downloads_processed\\1809.07066v1.Prosocial_or_Selfish__Agents_with_different_behaviors_for_Contract_Negotiation_using_Reinforcement_Learning.pkl\n"
     ]
    },
    {
     "name": "stderr",
     "output_type": "stream",
     "text": [
      " 27%|██▋       | 185/694 [02:19<05:11,  1.64it/s]"
     ]
    },
    {
     "name": "stdout",
     "output_type": "stream",
     "text": [
      "Processed ./arxiv_downloads_processed\\1809.07098v1.Novelty_organizing_team_of_classifiers_in_noisy_and_dynamic_environments.pkl\n"
     ]
    },
    {
     "name": "stderr",
     "output_type": "stream",
     "text": [
      " 27%|██▋       | 186/694 [02:21<08:14,  1.03it/s]"
     ]
    },
    {
     "name": "stdout",
     "output_type": "stream",
     "text": [
      "Processed ./arxiv_downloads_processed\\1809.11044v1.Relational_Forward_Models_for_Multi_Agent_Learning.pkl\n"
     ]
    },
    {
     "name": "stderr",
     "output_type": "stream",
     "text": [
      " 27%|██▋       | 187/694 [02:22<07:25,  1.14it/s]"
     ]
    },
    {
     "name": "stdout",
     "output_type": "stream",
     "text": [
      "Processed ./arxiv_downloads_processed\\1810.01406v1.Super_Resolution_via_Conditional_Implicit_Maximum_Likelihood_Estimation.pkl\n"
     ]
    },
    {
     "name": "stderr",
     "output_type": "stream",
     "text": [
      " 27%|██▋       | 188/694 [02:22<06:24,  1.32it/s]"
     ]
    },
    {
     "name": "stdout",
     "output_type": "stream",
     "text": [
      "Processed ./arxiv_downloads_processed\\1810.01869v1.Machine_Learning_Suites_for_Online_Toxicity_Detection.pkl\n"
     ]
    },
    {
     "name": "stderr",
     "output_type": "stream",
     "text": [
      " 27%|██▋       | 189/694 [02:24<08:53,  1.06s/it]"
     ]
    },
    {
     "name": "stdout",
     "output_type": "stream",
     "text": [
      "Processed ./arxiv_downloads_processed\\1810.02244v5.Weisfeiler_and_Leman_Go_Neural__Higher_order_Graph_Neural_Networks.pkl\n"
     ]
    },
    {
     "name": "stderr",
     "output_type": "stream",
     "text": [
      " 27%|██▋       | 190/694 [02:26<09:33,  1.14s/it]"
     ]
    },
    {
     "name": "stdout",
     "output_type": "stream",
     "text": [
      "Processed ./arxiv_downloads_processed\\1810.02912v2.Actor_Attention_Critic_for_Multi_Agent_Reinforcement_Learning.pkl\n"
     ]
    },
    {
     "name": "stderr",
     "output_type": "stream",
     "text": [
      " 28%|██▊       | 191/694 [02:27<09:09,  1.09s/it]"
     ]
    },
    {
     "name": "stdout",
     "output_type": "stream",
     "text": [
      "Processed ./arxiv_downloads_processed\\1810.04903v2.MOANOFS__Multi_Objective_Automated_Negotiation_based_Online_Feature_Selection_System_for_Big_Data_Classification.pkl\n"
     ]
    },
    {
     "name": "stderr",
     "output_type": "stream",
     "text": [
      " 28%|██▊       | 192/694 [02:27<07:50,  1.07it/s]"
     ]
    },
    {
     "name": "stdout",
     "output_type": "stream",
     "text": [
      "Processed ./arxiv_downloads_processed\\1810.09202v5.Graph_Convolutional_Reinforcement_Learning.pkl\n"
     ]
    },
    {
     "name": "stderr",
     "output_type": "stream",
     "text": [
      " 28%|██▊       | 193/694 [02:27<06:27,  1.29it/s]"
     ]
    },
    {
     "name": "stdout",
     "output_type": "stream",
     "text": [
      "Processed ./arxiv_downloads_processed\\1810.11187v2.TarMAC__Targeted_Multi_Agent_Communication.pkl\n"
     ]
    },
    {
     "name": "stderr",
     "output_type": "stream",
     "text": [
      " 28%|██▊       | 194/694 [02:28<06:06,  1.37it/s]"
     ]
    },
    {
     "name": "stdout",
     "output_type": "stream",
     "text": [
      "Processed ./arxiv_downloads_processed\\1810.12754v1.Recurrent_Attention_Unit.pkl\n"
     ]
    },
    {
     "name": "stderr",
     "output_type": "stream",
     "text": [
      " 28%|██▊       | 195/694 [02:29<07:39,  1.09it/s]"
     ]
    },
    {
     "name": "stdout",
     "output_type": "stream",
     "text": [
      "Processed ./arxiv_downloads_processed\\1810.13166v1.Don_t_forget__there_is_more_than_forgetting__new_metrics_for_Continual_Learning.pkl\n"
     ]
    },
    {
     "name": "stderr",
     "output_type": "stream",
     "text": [
      " 28%|██▊       | 196/694 [02:30<06:25,  1.29it/s]"
     ]
    },
    {
     "name": "stdout",
     "output_type": "stream",
     "text": [
      "Processed ./arxiv_downloads_processed\\1811.00135v1.Dirichlet_Variational_Autoencoder_for_Text_Modeling.pkl\n"
     ]
    },
    {
     "name": "stderr",
     "output_type": "stream",
     "text": [
      " 28%|██▊       | 197/694 [02:35<17:35,  2.12s/it]"
     ]
    },
    {
     "name": "stdout",
     "output_type": "stream",
     "text": [
      "Processed ./arxiv_downloads_processed\\1811.02657v2.A_Bayesian_Perspective_of_Convolutional_Neural_Networks_through_a_Deconvolutional_Generative_Model.pkl\n"
     ]
    },
    {
     "name": "stderr",
     "output_type": "stream",
     "text": [
      " 29%|██▊       | 198/694 [02:36<13:17,  1.61s/it]"
     ]
    },
    {
     "name": "stdout",
     "output_type": "stream",
     "text": [
      "Processed ./arxiv_downloads_processed\\1811.03305v2.BAR__Bayesian_Activity_Recognition_using_variational_inference.pkl\n"
     ]
    },
    {
     "name": "stderr",
     "output_type": "stream",
     "text": [
      " 29%|██▊       | 199/694 [02:36<10:46,  1.31s/it]"
     ]
    },
    {
     "name": "stdout",
     "output_type": "stream",
     "text": [
      "Processed ./arxiv_downloads_processed\\1811.03539v2.Uncovering_the_Social_Interaction_in_Swarm_Intelligence_with_Network_Science.pkl\n"
     ]
    },
    {
     "name": "stderr",
     "output_type": "stream",
     "text": [
      " 29%|██▉       | 200/694 [02:40<16:16,  1.98s/it]"
     ]
    },
    {
     "name": "stdout",
     "output_type": "stream",
     "text": [
      "Processed ./arxiv_downloads_processed\\1811.03567v3.Biologically_plausible_learning_algorithms_can_scale_to_large_datasets.pkl\n"
     ]
    },
    {
     "name": "stderr",
     "output_type": "stream",
     "text": [
      " 29%|██▉       | 201/694 [02:43<19:26,  2.37s/it]"
     ]
    },
    {
     "name": "stdout",
     "output_type": "stream",
     "text": [
      "Processed ./arxiv_downloads_processed\\1811.07253v1.Quantifying_Uncertainties_in_Natural_Language_Processing_Tasks.pkl\n"
     ]
    },
    {
     "name": "stderr",
     "output_type": "stream",
     "text": [
      " 29%|██▉       | 202/694 [02:44<15:56,  1.94s/it]"
     ]
    },
    {
     "name": "stdout",
     "output_type": "stream",
     "text": [
      "Processed ./arxiv_downloads_processed\\1811.08225v1.Self_Organizing_Classifiers__First_Steps_in_Structured_Evolutionary_Machine_Learning.pkl\n"
     ]
    },
    {
     "name": "stderr",
     "output_type": "stream",
     "text": [
      " 29%|██▉       | 203/694 [02:44<12:22,  1.51s/it]"
     ]
    },
    {
     "name": "stdout",
     "output_type": "stream",
     "text": [
      "Processed ./arxiv_downloads_processed\\1811.08226v1.Self_Organizing_Classifiers_and_Niched_Fitness.pkl\n"
     ]
    },
    {
     "name": "stderr",
     "output_type": "stream",
     "text": [
      " 29%|██▉       | 204/694 [02:46<12:01,  1.47s/it]"
     ]
    },
    {
     "name": "stdout",
     "output_type": "stream",
     "text": [
      "Processed ./arxiv_downloads_processed\\1811.10792v3.Stochastic_Gradient_Push_for_Distributed_Deep_Learning.pkl\n"
     ]
    },
    {
     "name": "stderr",
     "output_type": "stream",
     "text": [
      " 30%|██▉       | 205/694 [02:47<10:40,  1.31s/it]"
     ]
    },
    {
     "name": "stdout",
     "output_type": "stream",
     "text": [
      "Processed ./arxiv_downloads_processed\\1812.01717v2.Towards_Accurate_Generative_Models_of_Video__A_New_Metric___Challenges.pkl\n"
     ]
    },
    {
     "name": "stderr",
     "output_type": "stream",
     "text": [
      " 30%|██▉       | 206/694 [02:47<09:10,  1.13s/it]"
     ]
    },
    {
     "name": "stdout",
     "output_type": "stream",
     "text": [
      "Processed ./arxiv_downloads_processed\\1812.09755v1.Learning_when_to_Communicate_at_Scale_in_Multiagent_Cooperative_and_Competitive_Tasks.pkl\n"
     ]
    },
    {
     "name": "stderr",
     "output_type": "stream",
     "text": [
      " 30%|██▉       | 207/694 [02:48<06:58,  1.16it/s]"
     ]
    },
    {
     "name": "stdout",
     "output_type": "stream",
     "text": [
      "Processed ./arxiv_downloads_processed\\1812.10549v1.Automatic_Summarization_of_Natural_Language.pkl\n"
     ]
    },
    {
     "name": "stderr",
     "output_type": "stream",
     "text": [
      " 30%|██▉       | 208/694 [02:49<07:09,  1.13it/s]"
     ]
    },
    {
     "name": "stdout",
     "output_type": "stream",
     "text": [
      "Processed ./arxiv_downloads_processed\\1812.11794v2.Deep_Reinforcement_Learning_for_Multi_Agent_Systems__A_Review_of_Challenges__Solutions_and_Applications.pkl\n"
     ]
    },
    {
     "name": "stderr",
     "output_type": "stream",
     "text": [
      " 30%|███       | 209/694 [02:49<06:11,  1.31it/s]"
     ]
    },
    {
     "name": "stdout",
     "output_type": "stream",
     "text": [
      "Processed ./arxiv_downloads_processed\\1901.09821v1.Squeezed_Very_Deep_Convolutional_Neural_Networks_for_Text_Classification.pkl\n"
     ]
    },
    {
     "name": "stderr",
     "output_type": "stream",
     "text": [
      " 30%|███       | 210/694 [02:50<05:18,  1.52it/s]"
     ]
    },
    {
     "name": "stdout",
     "output_type": "stream",
     "text": [
      "Processed ./arxiv_downloads_processed\\1901.09972v1.Heartbeat_Anomaly_Detection_using_Adversarial_Oversampling.pkl\n"
     ]
    },
    {
     "name": "stderr",
     "output_type": "stream",
     "text": [
      " 30%|███       | 211/694 [02:50<05:22,  1.50it/s]"
     ]
    },
    {
     "name": "stdout",
     "output_type": "stream",
     "text": [
      "Processed ./arxiv_downloads_processed\\1902.01722v1.Total_stochastic_gradient_algorithms_and_applications_in_reinforcement_learning.pkl\n"
     ]
    },
    {
     "name": "stderr",
     "output_type": "stream",
     "text": [
      " 31%|███       | 212/694 [02:52<07:32,  1.06it/s]"
     ]
    },
    {
     "name": "stdout",
     "output_type": "stream",
     "text": [
      "Processed ./arxiv_downloads_processed\\1902.02169v1.Learning_Taxonomies_of_Concepts_and_not_Words_using_Contextualized_Word_Representations__A_Position_Paper.pkl\n"
     ]
    },
    {
     "name": "stderr",
     "output_type": "stream",
     "text": [
      " 31%|███       | 213/694 [02:52<06:43,  1.19it/s]"
     ]
    },
    {
     "name": "stdout",
     "output_type": "stream",
     "text": [
      "Processed ./arxiv_downloads_processed\\1902.05546v2.Learning_to_Control_Self_Assembling_Morphologies__A_Study_of_Generalization_via_Modularity.pkl\n"
     ]
    },
    {
     "name": "stderr",
     "output_type": "stream",
     "text": [
      " 31%|███       | 214/694 [02:54<08:23,  1.05s/it]"
     ]
    },
    {
     "name": "stdout",
     "output_type": "stream",
     "text": [
      "Processed ./arxiv_downloads_processed\\1902.10178v1.Unmasking_Clever_Hans_Predictors_and_Assessing_What_Machines_Really_Learn.pkl\n"
     ]
    },
    {
     "name": "stderr",
     "output_type": "stream",
     "text": [
      " 31%|███       | 215/694 [02:54<06:44,  1.18it/s]"
     ]
    },
    {
     "name": "stdout",
     "output_type": "stream",
     "text": [
      "Processed ./arxiv_downloads_processed\\1903.02079v1.Optimizing_Software_Effort_Estimation_Models_Using_Firefly_Algorithm.pkl\n"
     ]
    },
    {
     "name": "stderr",
     "output_type": "stream",
     "text": [
      " 31%|███       | 216/694 [02:56<07:45,  1.03it/s]"
     ]
    },
    {
     "name": "stdout",
     "output_type": "stream",
     "text": [
      "Processed ./arxiv_downloads_processed\\1903.02080v1.Exploring_Deep_Spiking_Neural_Networks_for_Automated_Driving_Applications.pkl\n"
     ]
    },
    {
     "name": "stderr",
     "output_type": "stream",
     "text": [
      " 31%|███▏      | 217/694 [02:56<06:42,  1.19it/s]"
     ]
    },
    {
     "name": "stdout",
     "output_type": "stream",
     "text": [
      "Processed ./arxiv_downloads_processed\\1903.04959v1.Deep_Multi_Agent_Reinforcement_Learning_with_Discrete_Continuous_Hybrid_Action_Spaces.pkl\n"
     ]
    },
    {
     "name": "stderr",
     "output_type": "stream",
     "text": [
      " 31%|███▏      | 218/694 [02:58<08:05,  1.02s/it]"
     ]
    },
    {
     "name": "stdout",
     "output_type": "stream",
     "text": [
      "Processed ./arxiv_downloads_processed\\1903.10145v3.Cyclical_Annealing_Schedule__A_Simple_Approach_to_Mitigating_KL_Vanishing.pkl\n"
     ]
    },
    {
     "name": "stderr",
     "output_type": "stream",
     "text": [
      " 32%|███▏      | 219/694 [02:58<07:49,  1.01it/s]"
     ]
    },
    {
     "name": "stdout",
     "output_type": "stream",
     "text": [
      "Processed ./arxiv_downloads_processed\\1903.10545v5.Winning_Isn_t_Everything__Enhancing_Game_Development_with_Intelligent_Agents.pkl\n"
     ]
    },
    {
     "name": "stderr",
     "output_type": "stream",
     "text": [
      " 32%|███▏      | 220/694 [02:59<06:51,  1.15it/s]"
     ]
    },
    {
     "name": "stdout",
     "output_type": "stream",
     "text": [
      "Processed ./arxiv_downloads_processed\\1903.11421v1.Social_Behavioral_Phenotyping_of_Drosophila_with_a2D_3D_Hybrid_CNN_Framework.pkl\n"
     ]
    },
    {
     "name": "stderr",
     "output_type": "stream",
     "text": [
      " 32%|███▏      | 221/694 [03:00<08:00,  1.02s/it]"
     ]
    },
    {
     "name": "stdout",
     "output_type": "stream",
     "text": [
      "Processed ./arxiv_downloads_processed\\1904.02338v2.Consistency_by_Agreement_in_Zero_shot_Neural_Machine_Translation.pkl\n"
     ]
    },
    {
     "name": "stderr",
     "output_type": "stream",
     "text": [
      " 32%|███▏      | 222/694 [03:02<08:19,  1.06s/it]"
     ]
    },
    {
     "name": "stdout",
     "output_type": "stream",
     "text": [
      "Processed ./arxiv_downloads_processed\\1904.09317v2.Challenges_and_Prospects_in_Vision_and_Language_Research.pkl\n"
     ]
    },
    {
     "name": "stderr",
     "output_type": "stream",
     "text": [
      " 32%|███▏      | 223/694 [03:03<08:31,  1.09s/it]"
     ]
    },
    {
     "name": "stdout",
     "output_type": "stream",
     "text": [
      "Processed ./arxiv_downloads_processed\\1905.03389v1.Learning_to_Evolve.pkl\n"
     ]
    },
    {
     "name": "stderr",
     "output_type": "stream",
     "text": [
      " 32%|███▏      | 224/694 [03:05<10:17,  1.31s/it]"
     ]
    },
    {
     "name": "stdout",
     "output_type": "stream",
     "text": [
      "Processed ./arxiv_downloads_processed\\1905.04835v2.Multi_Agent_Image_Classification_via_Reinforcement_Learning.pkl\n"
     ]
    },
    {
     "name": "stderr",
     "output_type": "stream",
     "text": [
      " 32%|███▏      | 225/694 [03:06<09:30,  1.22s/it]"
     ]
    },
    {
     "name": "stdout",
     "output_type": "stream",
     "text": [
      "Processed ./arxiv_downloads_processed\\1905.04926v1.Differentiable_Game_Mechanics.pkl\n"
     ]
    },
    {
     "name": "stderr",
     "output_type": "stream",
     "text": [
      " 33%|███▎      | 226/694 [03:07<10:11,  1.31s/it]"
     ]
    },
    {
     "name": "stdout",
     "output_type": "stream",
     "text": [
      "Processed ./arxiv_downloads_processed\\1905.05408v1.QTRAN__Learning_to_Factorize_with_Transformation_for_Cooperative_Multi_Agent_Reinforcement_Learning.pkl\n"
     ]
    },
    {
     "name": "stderr",
     "output_type": "stream",
     "text": [
      " 33%|███▎      | 227/694 [03:08<09:39,  1.24s/it]"
     ]
    },
    {
     "name": "stdout",
     "output_type": "stream",
     "text": [
      "Processed ./arxiv_downloads_processed\\1905.05849v2.Consensus_based_Interpretable_Deep_Neural_Networks_with_Application_to_Mortality_Prediction.pkl\n"
     ]
    },
    {
     "name": "stderr",
     "output_type": "stream",
     "text": [
      " 33%|███▎      | 228/694 [03:09<08:24,  1.08s/it]"
     ]
    },
    {
     "name": "stdout",
     "output_type": "stream",
     "text": [
      "Processed ./arxiv_downloads_processed\\1905.07320v3.EENA__Efficient_Evolution_of_Neural_Architecture.pkl\n"
     ]
    },
    {
     "name": "stderr",
     "output_type": "stream",
     "text": [
      " 33%|███▎      | 229/694 [03:10<07:21,  1.05it/s]"
     ]
    },
    {
     "name": "stdout",
     "output_type": "stream",
     "text": [
      "Processed ./arxiv_downloads_processed\\1905.12127v3.Coordinated_Exploration_via_Intrinsic_Rewards_for_Multi_Agent_Reinforcement_Learning.pkl\n"
     ]
    },
    {
     "name": "stderr",
     "output_type": "stream",
     "text": [
      " 33%|███▎      | 230/694 [03:11<07:25,  1.04it/s]"
     ]
    },
    {
     "name": "stdout",
     "output_type": "stream",
     "text": [
      "Processed ./arxiv_downloads_processed\\1905.13211v4.What_Can_Neural_Networks_Reason_About_.pkl\n"
     ]
    },
    {
     "name": "stderr",
     "output_type": "stream",
     "text": [
      " 33%|███▎      | 231/694 [03:11<06:59,  1.10it/s]"
     ]
    },
    {
     "name": "stdout",
     "output_type": "stream",
     "text": [
      "Processed ./arxiv_downloads_processed\\1906.01035v1.A_Perspective_on_Objects_and_Systematic_Generalization_in_Model_Based_RL.pkl\n"
     ]
    },
    {
     "name": "stderr",
     "output_type": "stream",
     "text": [
      " 33%|███▎      | 232/694 [03:12<06:05,  1.27it/s]"
     ]
    },
    {
     "name": "stdout",
     "output_type": "stream",
     "text": [
      "Processed ./arxiv_downloads_processed\\1906.01470v3.Options_as_responses__Grounding_behavioural_hierarchies_in_multi_agent_RL.pkl\n"
     ]
    },
    {
     "name": "stderr",
     "output_type": "stream",
     "text": [
      " 34%|███▎      | 233/694 [03:13<06:39,  1.15it/s]"
     ]
    },
    {
     "name": "stdout",
     "output_type": "stream",
     "text": [
      "Processed ./arxiv_downloads_processed\\1906.01983v1.The_Computational_Structure_of_Unintentional_Meaning.pkl\n"
     ]
    },
    {
     "name": "stderr",
     "output_type": "stream",
     "text": [
      " 34%|███▎      | 234/694 [03:13<06:07,  1.25it/s]"
     ]
    },
    {
     "name": "stdout",
     "output_type": "stream",
     "text": [
      "Processed ./arxiv_downloads_processed\\1906.02010v1.A_Hybrid_Algorithm_for_Metaheuristic_Optimization.pkl\n"
     ]
    },
    {
     "name": "stderr",
     "output_type": "stream",
     "text": [
      " 34%|███▍      | 235/694 [03:14<06:02,  1.27it/s]"
     ]
    },
    {
     "name": "stdout",
     "output_type": "stream",
     "text": [
      "Processed ./arxiv_downloads_processed\\1906.02403v2.Ease_of_Teaching_and_Language_Structure_from_Emergent_Communication.pkl\n"
     ]
    },
    {
     "name": "stderr",
     "output_type": "stream",
     "text": [
      " 34%|███▍      | 236/694 [03:15<05:09,  1.48it/s]"
     ]
    },
    {
     "name": "stdout",
     "output_type": "stream",
     "text": [
      "Processed ./arxiv_downloads_processed\\1906.02568v1.Localizing_Catastrophic_Forgetting_in_Neural_Networks.pkl\n"
     ]
    },
    {
     "name": "stderr",
     "output_type": "stream",
     "text": [
      " 34%|███▍      | 237/694 [03:15<04:56,  1.54it/s]"
     ]
    },
    {
     "name": "stdout",
     "output_type": "stream",
     "text": [
      "Processed ./arxiv_downloads_processed\\1906.04585v2.Gossip_based_Actor_Learner_Architectures_for_Deep_Reinforcement_Learning.pkl\n"
     ]
    },
    {
     "name": "stderr",
     "output_type": "stream",
     "text": [
      " 34%|███▍      | 238/694 [03:16<05:00,  1.52it/s]"
     ]
    },
    {
     "name": "stdout",
     "output_type": "stream",
     "text": [
      "Processed ./arxiv_downloads_processed\\1906.04737v1.Dealing_with_Non_Stationarity_in_Multi_Agent_Deep_Reinforcement_Learning.pkl\n"
     ]
    },
    {
     "name": "stderr",
     "output_type": "stream",
     "text": [
      " 34%|███▍      | 239/694 [03:16<04:09,  1.83it/s]"
     ]
    },
    {
     "name": "stdout",
     "output_type": "stream",
     "text": [
      "Processed ./arxiv_downloads_processed\\1906.12350v2.Split_Q_Learning__Reinforcement_Learning_with_Two_Stream_Rewards.pkl\n"
     ]
    },
    {
     "name": "stderr",
     "output_type": "stream",
     "text": [
      " 35%|███▍      | 240/694 [03:17<05:08,  1.47it/s]"
     ]
    },
    {
     "name": "stdout",
     "output_type": "stream",
     "text": [
      "Processed ./arxiv_downloads_processed\\1907.02124v2.Non_Structured_DNN_Weight_Pruning____Is_It_Beneficial_in_Any_Platform_.pkl\n"
     ]
    },
    {
     "name": "stderr",
     "output_type": "stream",
     "text": [
      " 35%|███▍      | 241/694 [03:18<05:17,  1.43it/s]"
     ]
    },
    {
     "name": "stdout",
     "output_type": "stream",
     "text": [
      "Processed ./arxiv_downloads_processed\\1907.03141v2.AutoCompress__An_Automatic_DNN_Structured_Pruning_Framework_for_Ultra_High_Compression_Rates.pkl\n"
     ]
    },
    {
     "name": "stderr",
     "output_type": "stream",
     "text": [
      " 35%|███▍      | 242/694 [03:19<05:14,  1.44it/s]"
     ]
    },
    {
     "name": "stdout",
     "output_type": "stream",
     "text": [
      "Processed ./arxiv_downloads_processed\\1907.07804v2.OmniNet__A_unified_architecture_for_multi_modal_multi_task_learning.pkl\n"
     ]
    },
    {
     "name": "stderr",
     "output_type": "stream",
     "text": [
      " 35%|███▌      | 243/694 [03:21<08:34,  1.14s/it]"
     ]
    },
    {
     "name": "stdout",
     "output_type": "stream",
     "text": [
      "Processed ./arxiv_downloads_processed\\1908.01022v4.Health_Informed_Policy_Gradients_for_Multi_Agent_Reinforcement_Learning.pkl\n"
     ]
    },
    {
     "name": "stderr",
     "output_type": "stream",
     "text": [
      " 35%|███▌      | 244/694 [03:22<08:05,  1.08s/it]"
     ]
    },
    {
     "name": "stdout",
     "output_type": "stream",
     "text": [
      "Processed ./arxiv_downloads_processed\\1908.02138v1.Robby_is_Not_a_Robber__anymore___On_the_Use_of_Institutions_for_Learning_Normative_Behavior.pkl\n"
     ]
    },
    {
     "name": "stderr",
     "output_type": "stream",
     "text": [
      " 35%|███▌      | 245/694 [03:24<10:39,  1.42s/it]"
     ]
    },
    {
     "name": "stdout",
     "output_type": "stream",
     "text": [
      "Processed ./arxiv_downloads_processed\\1908.03963v4.A_Review_of_Cooperative_Multi_Agent_Deep_Reinforcement_Learning.pkl\n"
     ]
    },
    {
     "name": "stderr",
     "output_type": "stream",
     "text": [
      " 35%|███▌      | 246/694 [03:25<08:42,  1.17s/it]"
     ]
    },
    {
     "name": "stdout",
     "output_type": "stream",
     "text": [
      "Processed ./arxiv_downloads_processed\\1909.02950v2.Supervised_Multimodal_Bitransformers_for_Classifying_Images_and_Text.pkl\n"
     ]
    },
    {
     "name": "stderr",
     "output_type": "stream",
     "text": [
      " 36%|███▌      | 247/694 [03:28<13:22,  1.79s/it]"
     ]
    },
    {
     "name": "stdout",
     "output_type": "stream",
     "text": [
      "Processed ./arxiv_downloads_processed\\1909.03569v1.Neural_Gaussian_Copula_for_Variational_Autoencoder.pkl\n"
     ]
    },
    {
     "name": "stderr",
     "output_type": "stream",
     "text": [
      " 36%|███▌      | 248/694 [03:29<10:55,  1.47s/it]"
     ]
    },
    {
     "name": "stdout",
     "output_type": "stream",
     "text": [
      "Processed ./arxiv_downloads_processed\\1909.07490v1.They_Might_NOT_Be_Giants__Crafting_Black_Box_Adversarial_Examples_with_Fewer_Queries_Using_Particle_Swarm_Optimization.pkl\n"
     ]
    },
    {
     "name": "stderr",
     "output_type": "stream",
     "text": [
      " 36%|███▌      | 249/694 [03:30<10:10,  1.37s/it]"
     ]
    },
    {
     "name": "stdout",
     "output_type": "stream",
     "text": [
      "Processed ./arxiv_downloads_processed\\1909.07528v2.Emergent_Tool_Use_From_Multi_Agent_Autocurricula.pkl\n"
     ]
    },
    {
     "name": "stderr",
     "output_type": "stream",
     "text": [
      " 36%|███▌      | 250/694 [03:31<09:09,  1.24s/it]"
     ]
    },
    {
     "name": "stdout",
     "output_type": "stream",
     "text": [
      "Processed ./arxiv_downloads_processed\\1909.07543v3.Attraction_Repulsion_Actor_Critic_for_Continuous_Control_Reinforcement_Learning.pkl\n"
     ]
    },
    {
     "name": "stderr",
     "output_type": "stream",
     "text": [
      " 36%|███▌      | 251/694 [03:31<07:46,  1.05s/it]"
     ]
    },
    {
     "name": "stdout",
     "output_type": "stream",
     "text": [
      "Processed ./arxiv_downloads_processed\\1909.07930v1.Ludwig__a_type_based_declarative_deep_learning_toolbox.pkl\n"
     ]
    },
    {
     "name": "stderr",
     "output_type": "stream",
     "text": [
      " 36%|███▋      | 252/694 [03:32<07:53,  1.07s/it]"
     ]
    },
    {
     "name": "stdout",
     "output_type": "stream",
     "text": [
      "Processed ./arxiv_downloads_processed\\1909.08996v3.Voting_with_Random_Classifiers__VORACE___Theoretical_and_Experimental_Analysis.pkl\n"
     ]
    },
    {
     "name": "stderr",
     "output_type": "stream",
     "text": [
      " 36%|███▋      | 253/694 [03:33<06:49,  1.08it/s]"
     ]
    },
    {
     "name": "stdout",
     "output_type": "stream",
     "text": [
      "Processed ./arxiv_downloads_processed\\1909.10447v1.On_Model_Stability_as_a_Function_of_Random_Seed.pkl\n"
     ]
    },
    {
     "name": "stderr",
     "output_type": "stream",
     "text": [
      " 37%|███▋      | 254/694 [03:34<08:05,  1.10s/it]"
     ]
    },
    {
     "name": "stdout",
     "output_type": "stream",
     "text": [
      "Processed ./arxiv_downloads_processed\\1909.10470v2.Improving_Generative_Visual_Dialog_by_Answering_Diverse_Questions.pkl\n"
     ]
    },
    {
     "name": "stderr",
     "output_type": "stream",
     "text": [
      " 37%|███▋      | 255/694 [03:35<06:07,  1.19it/s]"
     ]
    },
    {
     "name": "stdout",
     "output_type": "stream",
     "text": [
      "Processed ./arxiv_downloads_processed\\1909.10476v1.Research_Directions_in_Democratizing_Innovation_through_Design_Automation__One_Click_Manufacturing_Services_and_Intelligent_Machines.pkl\n"
     ]
    },
    {
     "name": "stderr",
     "output_type": "stream",
     "text": [
      " 37%|███▋      | 256/694 [03:36<06:30,  1.12it/s]"
     ]
    },
    {
     "name": "stdout",
     "output_type": "stream",
     "text": [
      "Processed ./arxiv_downloads_processed\\1909.12557v2.Multi_Agent_Actor_Critic_with_Hierarchical_Graph_Attention_Network.pkl\n"
     ]
    },
    {
     "name": "stderr",
     "output_type": "stream",
     "text": [
      " 37%|███▋      | 257/694 [03:36<05:21,  1.36it/s]"
     ]
    },
    {
     "name": "stdout",
     "output_type": "stream",
     "text": [
      "Processed ./arxiv_downloads_processed\\1910.00741v1.Emergence_of_Writing_Systems_Through_Multi_Agent_Cooperation.pkl\n"
     ]
    },
    {
     "name": "stderr",
     "output_type": "stream",
     "text": [
      " 37%|███▋      | 258/694 [03:36<04:40,  1.56it/s]"
     ]
    },
    {
     "name": "stdout",
     "output_type": "stream",
     "text": [
      "Processed ./arxiv_downloads_processed\\1910.01465v2.Reducing_Overestimation_Bias_in_Multi_Agent_Domains_Using_Double_Centralized_Critics.pkl\n"
     ]
    },
    {
     "name": "stderr",
     "output_type": "stream",
     "text": [
      " 37%|███▋      | 259/694 [03:37<05:23,  1.34it/s]"
     ]
    },
    {
     "name": "stdout",
     "output_type": "stream",
     "text": [
      "Processed ./arxiv_downloads_processed\\1910.03094v3.Combining_No_regret_and_Q_learning.pkl\n"
     ]
    },
    {
     "name": "stderr",
     "output_type": "stream",
     "text": [
      " 37%|███▋      | 260/694 [03:38<04:40,  1.55it/s]"
     ]
    },
    {
     "name": "stdout",
     "output_type": "stream",
     "text": [
      "Processed ./arxiv_downloads_processed\\1910.03492v1.Neural_Language_Priors.pkl\n"
     ]
    },
    {
     "name": "stderr",
     "output_type": "stream",
     "text": [
      " 38%|███▊      | 261/694 [03:39<05:20,  1.35it/s]"
     ]
    },
    {
     "name": "stdout",
     "output_type": "stream",
     "text": [
      "Processed ./arxiv_downloads_processed\\1910.11424v3.Capacity__Bandwidth__and_Compositionality_in_Emergent_Language_Learning.pkl\n"
     ]
    },
    {
     "name": "stderr",
     "output_type": "stream",
     "text": [
      " 38%|███▊      | 262/694 [03:40<05:28,  1.31it/s]"
     ]
    },
    {
     "name": "stdout",
     "output_type": "stream",
     "text": [
      "Processed ./arxiv_downloads_processed\\1910.13351v1.Admiring_the_Great_Mountain__A_Celebration_Special_Issue_in_Honor_of_Stephen_Grossbergs_80th_Birthday.pkl\n"
     ]
    },
    {
     "name": "stderr",
     "output_type": "stream",
     "text": [
      " 38%|███▊      | 263/694 [03:40<05:17,  1.36it/s]"
     ]
    },
    {
     "name": "stdout",
     "output_type": "stream",
     "text": [
      "Processed ./arxiv_downloads_processed\\1910.14472v1.Learning_Fairness_in_Multi_Agent_Systems.pkl\n"
     ]
    },
    {
     "name": "stderr",
     "output_type": "stream",
     "text": [
      " 38%|███▊      | 264/694 [03:41<04:54,  1.46it/s]"
     ]
    },
    {
     "name": "stdout",
     "output_type": "stream",
     "text": [
      "Processed ./arxiv_downloads_processed\\1911.00926v2.Learning_Algorithmic_Solutions_to_Symbolic_Planning_Tasks_with_a_Neural_Computer_Architecture.pkl\n"
     ]
    },
    {
     "name": "stderr",
     "output_type": "stream",
     "text": [
      " 38%|███▊      | 265/694 [03:43<07:34,  1.06s/it]"
     ]
    },
    {
     "name": "stdout",
     "output_type": "stream",
     "text": [
      "Processed ./arxiv_downloads_processed\\1911.00997v2.Multiple_Futures_Prediction.pkl\n"
     ]
    },
    {
     "name": "stderr",
     "output_type": "stream",
     "text": [
      " 38%|███▊      | 266/694 [03:43<06:12,  1.15it/s]"
     ]
    },
    {
     "name": "stdout",
     "output_type": "stream",
     "text": [
      "Processed ./arxiv_downloads_processed\\1911.03743v1.A_perspective_on_multi_agent_communication_for_information_fusion.pkl\n"
     ]
    },
    {
     "name": "stderr",
     "output_type": "stream",
     "text": [
      " 38%|███▊      | 267/694 [03:44<05:28,  1.30it/s]"
     ]
    },
    {
     "name": "stdout",
     "output_type": "stream",
     "text": [
      "Processed ./arxiv_downloads_processed\\1911.04870v1.Network_Classifiers_With_Output_Smoothing.pkl\n"
     ]
    },
    {
     "name": "stderr",
     "output_type": "stream",
     "text": [
      " 39%|███▊      | 268/694 [03:45<05:23,  1.32it/s]"
     ]
    },
    {
     "name": "stdout",
     "output_type": "stream",
     "text": [
      "Processed ./arxiv_downloads_processed\\1911.13044v6.Learning_Structured_Representations_of_Spatial_and_Interactive_Dynamics_for_Trajectory_Prediction_in_Crowded_Scenes.pkl\n"
     ]
    },
    {
     "name": "stderr",
     "output_type": "stream",
     "text": [
      " 39%|███▉      | 269/694 [03:45<05:05,  1.39it/s]"
     ]
    },
    {
     "name": "stdout",
     "output_type": "stream",
     "text": [
      "Processed ./arxiv_downloads_processed\\1912.00949v1.Multi_Agent_Deep_Reinforcement_Learning_with_Adaptive_Policies.pkl\n"
     ]
    },
    {
     "name": "stderr",
     "output_type": "stream",
     "text": [
      " 39%|███▉      | 270/694 [03:49<10:50,  1.53s/it]"
     ]
    },
    {
     "name": "stdout",
     "output_type": "stream",
     "text": [
      "Processed ./arxiv_downloads_processed\\1912.10729v1.TextNAS__A_Neural_Architecture_Search_Space_tailored_for_Text_Representation.pkl\n"
     ]
    },
    {
     "name": "stderr",
     "output_type": "stream",
     "text": [
      " 39%|███▉      | 271/694 [03:49<09:03,  1.28s/it]"
     ]
    },
    {
     "name": "stdout",
     "output_type": "stream",
     "text": [
      "Processed ./arxiv_downloads_processed\\2001.04678v2.Smooth_markets__A_basic_mechanism_for_organizing_gradient_based_learners.pkl\n"
     ]
    },
    {
     "name": "stderr",
     "output_type": "stream",
     "text": [
      " 39%|███▉      | 272/694 [03:50<07:07,  1.01s/it]"
     ]
    },
    {
     "name": "stdout",
     "output_type": "stream",
     "text": [
      "Processed ./arxiv_downloads_processed\\2001.07527v1.Model_based_Multi_Agent_Reinforcement_Learning_with_Cooperative_Prioritized_Sweeping.pkl\n"
     ]
    },
    {
     "name": "stderr",
     "output_type": "stream",
     "text": [
      " 39%|███▉      | 273/694 [03:51<07:00,  1.00it/s]"
     ]
    },
    {
     "name": "stdout",
     "output_type": "stream",
     "text": [
      "Processed ./arxiv_downloads_processed\\2001.08357v2.BLK_REW__A_Unified_Block_based_DNN_Pruning_Framework_using_Reweighted_Regularization_Method.pkl\n"
     ]
    },
    {
     "name": "stderr",
     "output_type": "stream",
     "text": [
      " 39%|███▉      | 274/694 [03:51<05:36,  1.25it/s]"
     ]
    },
    {
     "name": "stdout",
     "output_type": "stream",
     "text": [
      "Processed ./arxiv_downloads_processed\\2001.09063v2.Towards_Graph_Representation_Learning_in_Emergent_Communication.pkl\n"
     ]
    },
    {
     "name": "stderr",
     "output_type": "stream",
     "text": [
      " 40%|███▉      | 275/694 [03:53<07:15,  1.04s/it]"
     ]
    },
    {
     "name": "stdout",
     "output_type": "stream",
     "text": [
      "Processed ./arxiv_downloads_processed\\2001.09977v3.Towards_a_Human_like_Open_Domain_Chatbot.pkl\n"
     ]
    },
    {
     "name": "stderr",
     "output_type": "stream",
     "text": [
      " 40%|███▉      | 276/694 [03:53<06:27,  1.08it/s]"
     ]
    },
    {
     "name": "stdout",
     "output_type": "stream",
     "text": [
      "Processed ./arxiv_downloads_processed\\2001.10468v1.Incorporating_Joint_Embeddings_into_Goal_Oriented_Dialogues_with_Multi_Task_Learning.pkl\n"
     ]
    },
    {
     "name": "stderr",
     "output_type": "stream",
     "text": [
      " 40%|███▉      | 277/694 [03:58<15:25,  2.22s/it]"
     ]
    },
    {
     "name": "stdout",
     "output_type": "stream",
     "text": [
      "Processed ./arxiv_downloads_processed\\2001.12004v2.Neural_MMO_v1_3__A_Massively_Multiagent_Game_Environment_for_Training_and_Evaluating_Neural_Networks.pkl\n"
     ]
    },
    {
     "name": "stderr",
     "output_type": "stream",
     "text": [
      " 40%|████      | 278/694 [03:59<12:05,  1.74s/it]"
     ]
    },
    {
     "name": "stdout",
     "output_type": "stream",
     "text": [
      "Processed ./arxiv_downloads_processed\\2002.01093v2.On_the_interaction_between_supervision_and_self_play_in_emergent_communication.pkl\n"
     ]
    },
    {
     "name": "stderr",
     "output_type": "stream",
     "text": [
      " 40%|████      | 279/694 [03:59<09:09,  1.32s/it]"
     ]
    },
    {
     "name": "stdout",
     "output_type": "stream",
     "text": [
      "Processed ./arxiv_downloads_processed\\2002.01335v4.Structural_Inductive_Biases_in_Emergent_Communication.pkl\n"
     ]
    },
    {
     "name": "stderr",
     "output_type": "stream",
     "text": [
      " 40%|████      | 280/694 [04:00<07:19,  1.06s/it]"
     ]
    },
    {
     "name": "stdout",
     "output_type": "stream",
     "text": [
      "Processed ./arxiv_downloads_processed\\2002.01464v1.Visual_Concept_Metaconcept_Learning.pkl\n"
     ]
    },
    {
     "name": "stderr",
     "output_type": "stream",
     "text": [
      " 40%|████      | 281/694 [04:01<06:28,  1.06it/s]"
     ]
    },
    {
     "name": "stdout",
     "output_type": "stream",
     "text": [
      "Processed ./arxiv_downloads_processed\\2002.07143v2.Identifying_the_Development_and_Application_of_Artificial_Intelligence_in_Scientific_Text.pkl\n"
     ]
    },
    {
     "name": "stderr",
     "output_type": "stream",
     "text": [
      " 41%|████      | 282/694 [04:07<16:56,  2.47s/it]"
     ]
    },
    {
     "name": "stdout",
     "output_type": "stream",
     "text": [
      "Processed ./arxiv_downloads_processed\\2003.04310v1.Advancing_Renewable_Electricity_Consumption_With_Reinforcement_Learning.pkl\n"
     ]
    },
    {
     "name": "stderr",
     "output_type": "stream",
     "text": [
      " 41%|████      | 283/694 [04:08<13:54,  2.03s/it]"
     ]
    },
    {
     "name": "stdout",
     "output_type": "stream",
     "text": [
      "Processed ./arxiv_downloads_processed\\2003.06212v1.Accelerating_and_Improving_AlphaZero_Using_Population_Based_Training.pkl\n"
     ]
    },
    {
     "name": "stderr",
     "output_type": "stream",
     "text": [
      " 41%|████      | 284/694 [04:09<12:25,  1.82s/it]"
     ]
    },
    {
     "name": "stdout",
     "output_type": "stream",
     "text": [
      "Processed ./arxiv_downloads_processed\\2003.06513v2.A_Privacy_Preserving_Oriented_DNN_Pruning_and_Mobile_Acceleration_Framework.pkl\n"
     ]
    },
    {
     "name": "stderr",
     "output_type": "stream",
     "text": [
      " 41%|████      | 285/694 [04:10<11:53,  1.74s/it]"
     ]
    },
    {
     "name": "stdout",
     "output_type": "stream",
     "text": [
      "Processed ./arxiv_downloads_processed\\2003.07631v2.Explaining_Deep_Neural_Networks_and_Beyond__A_Review_of_Methods_and_Applications.pkl\n"
     ]
    },
    {
     "name": "stderr",
     "output_type": "stream",
     "text": [
      " 41%|████      | 286/694 [04:11<09:46,  1.44s/it]"
     ]
    },
    {
     "name": "stdout",
     "output_type": "stream",
     "text": [
      "Processed ./arxiv_downloads_processed\\2003.08353v2.A_Deep_Multi_Agent_Reinforcement_Learning_Approach_to_Autonomous_Separation_Assurance.pkl\n"
     ]
    },
    {
     "name": "stderr",
     "output_type": "stream",
     "text": [
      " 41%|████▏     | 287/694 [04:12<08:28,  1.25s/it]"
     ]
    },
    {
     "name": "stdout",
     "output_type": "stream",
     "text": [
      "Processed ./arxiv_downloads_processed\\2003.10903v2.Distributional_Reinforcement_Learning_with_Ensembles.pkl\n"
     ]
    },
    {
     "name": "stderr",
     "output_type": "stream",
     "text": [
      " 41%|████▏     | 288/694 [04:13<07:15,  1.07s/it]"
     ]
    },
    {
     "name": "stdout",
     "output_type": "stream",
     "text": [
      "Processed ./arxiv_downloads_processed\\2003.12857v3.NPENAS__Neural_Predictor_Guided_Evolution_for_Neural_Architecture_Search.pkl\n"
     ]
    },
    {
     "name": "stderr",
     "output_type": "stream",
     "text": [
      " 42%|████▏     | 289/694 [04:13<06:14,  1.08it/s]"
     ]
    },
    {
     "name": "stdout",
     "output_type": "stream",
     "text": [
      "Processed ./arxiv_downloads_processed\\2004.01097v2.Learning_to_cooperate__Emergent_communication_in_multi_agent_navigation.pkl\n"
     ]
    },
    {
     "name": "stderr",
     "output_type": "stream",
     "text": [
      " 42%|████▏     | 290/694 [04:14<05:00,  1.35it/s]"
     ]
    },
    {
     "name": "stdout",
     "output_type": "stream",
     "text": [
      "Processed ./arxiv_downloads_processed\\2004.04722v1.Re_conceptualising_the_Language_Game_Paradigm_in_the_Framework_of_Multi_Agent_Reinforcement_Learning.pkl\n"
     ]
    },
    {
     "name": "stderr",
     "output_type": "stream",
     "text": [
      " 42%|████▏     | 291/694 [04:14<04:21,  1.54it/s]"
     ]
    },
    {
     "name": "stdout",
     "output_type": "stream",
     "text": [
      "Processed ./arxiv_downloads_processed\\2004.05930v1.Technical_Report__NEMO_DNN_Quantization_for_Deployment_Model.pkl\n"
     ]
    },
    {
     "name": "stderr",
     "output_type": "stream",
     "text": [
      " 42%|████▏     | 292/694 [04:14<03:52,  1.73it/s]"
     ]
    },
    {
     "name": "stdout",
     "output_type": "stream",
     "text": [
      "Processed ./arxiv_downloads_processed\\2004.07707v1.Analyzing_Reinforcement_Learning_Benchmarks_with_Random_Weight_Guessing.pkl\n"
     ]
    },
    {
     "name": "stderr",
     "output_type": "stream",
     "text": [
      " 42%|████▏     | 293/694 [04:15<03:32,  1.89it/s]"
     ]
    },
    {
     "name": "stdout",
     "output_type": "stream",
     "text": [
      "Processed ./arxiv_downloads_processed\\2005.00110v1.On_the_Spontaneous_Emergence_of_Discrete_and_Compositional_Signals.pkl\n"
     ]
    },
    {
     "name": "stderr",
     "output_type": "stream",
     "text": [
      " 42%|████▏     | 294/694 [04:17<06:03,  1.10it/s]"
     ]
    },
    {
     "name": "stdout",
     "output_type": "stream",
     "text": [
      "Processed ./arxiv_downloads_processed\\2005.04153v1.A_Hybrid_Method_for_Training_Convolutional_Neural_Networks.pkl\n"
     ]
    },
    {
     "name": "stderr",
     "output_type": "stream",
     "text": [
      " 43%|████▎     | 295/694 [04:18<07:41,  1.16s/it]"
     ]
    },
    {
     "name": "stdout",
     "output_type": "stream",
     "text": [
      "Processed ./arxiv_downloads_processed\\2005.04364v1.It_s_Morphin__Time__Combating_Linguistic_Discrimination_with_Inflectional_Perturbations.pkl\n"
     ]
    },
    {
     "name": "stderr",
     "output_type": "stream",
     "text": [
      " 43%|████▎     | 296/694 [04:19<06:58,  1.05s/it]"
     ]
    },
    {
     "name": "stdout",
     "output_type": "stream",
     "text": [
      "Processed ./arxiv_downloads_processed\\2005.05960v2.Planning_to_Explore_via_Self_Supervised_World_Models.pkl\n"
     ]
    },
    {
     "name": "stderr",
     "output_type": "stream",
     "text": [
      " 43%|████▎     | 297/694 [04:21<08:42,  1.32s/it]"
     ]
    },
    {
     "name": "stdout",
     "output_type": "stream",
     "text": [
      "Processed ./arxiv_downloads_processed\\2006.00587v5.Towards_Understanding_Cooperative_Multi_Agent_Q_Learning_with_Value_Factorization.pkl\n"
     ]
    },
    {
     "name": "stderr",
     "output_type": "stream",
     "text": [
      " 43%|████▎     | 298/694 [04:23<10:12,  1.55s/it]"
     ]
    },
    {
     "name": "stdout",
     "output_type": "stream",
     "text": [
      "Processed ./arxiv_downloads_processed\\2006.01112v2.Cascaded_Text_Generation_with_Markov_Transformers.pkl\n"
     ]
    },
    {
     "name": "stderr",
     "output_type": "stream",
     "text": [
      " 43%|████▎     | 299/694 [04:25<10:11,  1.55s/it]"
     ]
    },
    {
     "name": "stdout",
     "output_type": "stream",
     "text": [
      "Processed ./arxiv_downloads_processed\\2006.03553v2.Logical_Team_Q_learning__An_approach_towards_factored_policies_in_cooperative_MARL.pkl\n"
     ]
    },
    {
     "name": "stderr",
     "output_type": "stream",
     "text": [
      " 43%|████▎     | 300/694 [04:26<08:43,  1.33s/it]"
     ]
    },
    {
     "name": "stdout",
     "output_type": "stream",
     "text": [
      "Processed ./arxiv_downloads_processed\\2006.04037v1.Reinforcement_Learning_for_Multi_Product_Multi_Node_Inventory_Management_in_Supply_Chains.pkl\n"
     ]
    },
    {
     "name": "stderr",
     "output_type": "stream",
     "text": [
      " 43%|████▎     | 301/694 [04:27<08:51,  1.35s/it]"
     ]
    },
    {
     "name": "stdout",
     "output_type": "stream",
     "text": [
      "Processed ./arxiv_downloads_processed\\2006.05842v2.The_Emergence_of_Individuality.pkl\n"
     ]
    },
    {
     "name": "stderr",
     "output_type": "stream",
     "text": [
      " 44%|████▎     | 302/694 [04:28<08:12,  1.26s/it]"
     ]
    },
    {
     "name": "stdout",
     "output_type": "stream",
     "text": [
      "Processed ./arxiv_downloads_processed\\2006.07228v2.FedGAN__Federated_Generative_Adversarial_Networks_for_Distributed_Data.pkl\n"
     ]
    },
    {
     "name": "stderr",
     "output_type": "stream",
     "text": [
      " 44%|████▎     | 303/694 [04:30<08:51,  1.36s/it]"
     ]
    },
    {
     "name": "stdout",
     "output_type": "stream",
     "text": [
      "Processed ./arxiv_downloads_processed\\2006.07869v4.Benchmarking_Multi_Agent_Deep_Reinforcement_Learning_Algorithms_in_Cooperative_Tasks.pkl\n"
     ]
    },
    {
     "name": "stderr",
     "output_type": "stream",
     "text": [
      " 44%|████▍     | 304/694 [04:30<07:24,  1.14s/it]"
     ]
    },
    {
     "name": "stdout",
     "output_type": "stream",
     "text": [
      "Processed ./arxiv_downloads_processed\\2006.08761v1.Towards_Understanding_the_Effect_of_Leak_in_Spiking_Neural_Networks.pkl\n"
     ]
    },
    {
     "name": "stderr",
     "output_type": "stream",
     "text": [
      " 44%|████▍     | 305/694 [04:34<13:00,  2.01s/it]"
     ]
    },
    {
     "name": "stdout",
     "output_type": "stream",
     "text": [
      "Processed ./arxiv_downloads_processed\\2006.11524v3.Neuro_Symbolic_Visual_Reasoning__Disentangling__Visual__from__Reasoning_.pkl\n"
     ]
    },
    {
     "name": "stderr",
     "output_type": "stream",
     "text": [
      " 44%|████▍     | 306/694 [04:35<10:47,  1.67s/it]"
     ]
    },
    {
     "name": "stdout",
     "output_type": "stream",
     "text": [
      "Processed ./arxiv_downloads_processed\\2006.11671v1.Collective_Learning_by_Ensembles_of_Altruistic_Diversifying_Neural_Networks.pkl\n"
     ]
    },
    {
     "name": "stderr",
     "output_type": "stream",
     "text": [
      " 44%|████▍     | 307/694 [04:36<09:23,  1.46s/it]"
     ]
    },
    {
     "name": "stdout",
     "output_type": "stream",
     "text": [
      "Processed ./arxiv_downloads_processed\\2006.13760v2.The_NetHack_Learning_Environment.pkl\n"
     ]
    },
    {
     "name": "stderr",
     "output_type": "stream",
     "text": [
      " 44%|████▍     | 308/694 [04:40<14:09,  2.20s/it]"
     ]
    },
    {
     "name": "stdout",
     "output_type": "stream",
     "text": [
      "Processed ./arxiv_downloads_processed\\2006.14032v2.Compositional_Explanations_of_Neurons.pkl\n"
     ]
    },
    {
     "name": "stderr",
     "output_type": "stream",
     "text": [
      " 45%|████▍     | 309/694 [04:40<10:41,  1.67s/it]"
     ]
    },
    {
     "name": "stdout",
     "output_type": "stream",
     "text": [
      "Processed ./arxiv_downloads_processed\\2006.16823v1.Technical_Report__Auxiliary_Tuning_and_its_Application_to_Conditional_Text_Generation.pkl\n"
     ]
    },
    {
     "name": "stderr",
     "output_type": "stream",
     "text": [
      " 45%|████▍     | 310/694 [04:42<10:03,  1.57s/it]"
     ]
    },
    {
     "name": "stdout",
     "output_type": "stream",
     "text": [
      "Processed ./arxiv_downloads_processed\\2007.01388v2.Learn_Faster_and_Forget_Slower_via_Fast_and_Stable_Task_Adaptation.pkl\n"
     ]
    },
    {
     "name": "stderr",
     "output_type": "stream",
     "text": [
      " 45%|████▍     | 311/694 [04:43<08:23,  1.31s/it]"
     ]
    },
    {
     "name": "stdout",
     "output_type": "stream",
     "text": [
      "Processed ./arxiv_downloads_processed\\2007.02382v2.Decentralized_Reinforcement_Learning__Global_Decision_Making_via_Local_Economic_Transactions.pkl\n"
     ]
    },
    {
     "name": "stderr",
     "output_type": "stream",
     "text": [
      " 45%|████▍     | 312/694 [04:43<06:57,  1.09s/it]"
     ]
    },
    {
     "name": "stdout",
     "output_type": "stream",
     "text": [
      "Processed ./arxiv_downloads_processed\\2007.05096v2.Multi_Agent_Routing_Value_Iteration_Network.pkl\n"
     ]
    },
    {
     "name": "stderr",
     "output_type": "stream",
     "text": [
      " 45%|████▌     | 313/694 [04:45<08:57,  1.41s/it]"
     ]
    },
    {
     "name": "stdout",
     "output_type": "stream",
     "text": [
      "Processed ./arxiv_downloads_processed\\2007.09820v1.Reinforcement_Communication_Learning_in_Different_Social_Network_Structures.pkl\n"
     ]
    },
    {
     "name": "stderr",
     "output_type": "stream",
     "text": [
      " 45%|████▌     | 314/694 [04:46<07:08,  1.13s/it]"
     ]
    },
    {
     "name": "stdout",
     "output_type": "stream",
     "text": [
      "Processed ./arxiv_downloads_processed\\2008.00386v1.Bayesian_Optimization_for_Selecting_Efficient_Machine_Learning_Models.pkl\n"
     ]
    },
    {
     "name": "stderr",
     "output_type": "stream",
     "text": [
      " 45%|████▌     | 315/694 [04:47<06:53,  1.09s/it]"
     ]
    },
    {
     "name": "stdout",
     "output_type": "stream",
     "text": [
      "Processed ./arxiv_downloads_processed\\2008.01062v3.QPLEX__Duplex_Dueling_Multi_Agent_Q_Learning.pkl\n"
     ]
    },
    {
     "name": "stderr",
     "output_type": "stream",
     "text": [
      " 46%|████▌     | 316/694 [04:48<06:48,  1.08s/it]"
     ]
    },
    {
     "name": "stdout",
     "output_type": "stream",
     "text": [
      "Processed ./arxiv_downloads_processed\\2009.01803v1.Sparse_Meta_Networks_for_Sequential_Adaptation_and_its_Application_to_Adaptive_Language_Modelling.pkl\n"
     ]
    },
    {
     "name": "stderr",
     "output_type": "stream",
     "text": [
      " 46%|████▌     | 317/694 [04:48<05:34,  1.13it/s]"
     ]
    },
    {
     "name": "stdout",
     "output_type": "stream",
     "text": [
      "Processed ./arxiv_downloads_processed\\2009.03863v1.TanhSoft____a_family_of_activation_functions_combining_Tanh_and_Softplus.pkl\n"
     ]
    },
    {
     "name": "stderr",
     "output_type": "stream",
     "text": [
      " 46%|████▌     | 318/694 [04:51<09:36,  1.53s/it]"
     ]
    },
    {
     "name": "stdout",
     "output_type": "stream",
     "text": [
      "Processed ./arxiv_downloads_processed\\2009.06202v1.Risk_Bounds_for_Robust_Deep_Learning.pkl\n",
      "Processed ./arxiv_downloads_processed\\2009.08801v1.SciBERT_based_Semantification_of_Bioassays_in_the_Open_Research_Knowledge_Graph.pkl\n"
     ]
    },
    {
     "name": "stderr",
     "output_type": "stream",
     "text": [
      " 46%|████▌     | 320/694 [04:53<07:15,  1.16s/it]"
     ]
    },
    {
     "name": "stdout",
     "output_type": "stream",
     "text": [
      "Processed ./arxiv_downloads_processed\\2010.07693v2.Linking_average__and_worst_case_perturbation_robustness_via_class_selectivity_and_dimensionality.pkl\n"
     ]
    },
    {
     "name": "stderr",
     "output_type": "stream",
     "text": [
      " 46%|████▋     | 321/694 [04:54<06:37,  1.06s/it]"
     ]
    },
    {
     "name": "stdout",
     "output_type": "stream",
     "text": [
      "Processed ./arxiv_downloads_processed\\2010.07773v1.NUIG_Shubhanker_Dravidian_CodeMix_FIRE2020__Sentiment_Analysis_of_Code_Mixed_Dravidian_text_using_XLNet.pkl\n"
     ]
    },
    {
     "name": "stderr",
     "output_type": "stream",
     "text": [
      " 46%|████▋     | 322/694 [04:54<05:59,  1.04it/s]"
     ]
    },
    {
     "name": "stdout",
     "output_type": "stream",
     "text": [
      "Processed ./arxiv_downloads_processed\\2010.08262v5.Local_plasticity_rules_can_learn_deep_representations_using_self_supervised_contrastive_predictions.pkl\n"
     ]
    },
    {
     "name": "stderr",
     "output_type": "stream",
     "text": [
      " 47%|████▋     | 323/694 [04:55<05:08,  1.20it/s]"
     ]
    },
    {
     "name": "stdout",
     "output_type": "stream",
     "text": [
      "Processed ./arxiv_downloads_processed\\2010.14616v1.Lineage_Evolution_Reinforcement_Learning.pkl\n"
     ]
    },
    {
     "name": "stderr",
     "output_type": "stream",
     "text": [
      " 47%|████▋     | 324/694 [04:55<04:29,  1.37it/s]"
     ]
    },
    {
     "name": "stdout",
     "output_type": "stream",
     "text": [
      "Processed ./arxiv_downloads_processed\\2011.05281v2.A_Genetic_Algorithm_Based_Approach_for_Satellite_Autonomy.pkl\n"
     ]
    },
    {
     "name": "stderr",
     "output_type": "stream",
     "text": [
      " 47%|████▋     | 325/694 [04:57<06:07,  1.00it/s]"
     ]
    },
    {
     "name": "stdout",
     "output_type": "stream",
     "text": [
      "Processed ./arxiv_downloads_processed\\2011.05605v2.Decentralized_Motion_Planning_for_Multi_Robot_Navigation_using_Deep_Reinforcement_Learning.pkl\n"
     ]
    },
    {
     "name": "stderr",
     "output_type": "stream",
     "text": [
      " 47%|████▋     | 326/694 [04:59<07:45,  1.27s/it]"
     ]
    },
    {
     "name": "stdout",
     "output_type": "stream",
     "text": [
      "Processed ./arxiv_downloads_processed\\2011.07661v1.hyper_sinh__An_Accurate_and_Reliable_Function_from_Shallow_to_Deep_Learning_in_TensorFlow_and_Keras.pkl\n"
     ]
    },
    {
     "name": "stderr",
     "output_type": "stream",
     "text": [
      " 47%|████▋     | 327/694 [05:00<07:43,  1.26s/it]"
     ]
    },
    {
     "name": "stdout",
     "output_type": "stream",
     "text": [
      "Processed ./arxiv_downloads_processed\\2012.08858v1.Lévy_walks_derived_from_a_Bayesian_decision_making_model_in_non_stationary_environments.pkl\n"
     ]
    },
    {
     "name": "stderr",
     "output_type": "stream",
     "text": [
      " 47%|████▋     | 328/694 [05:01<07:35,  1.25s/it]"
     ]
    },
    {
     "name": "stdout",
     "output_type": "stream",
     "text": [
      "Processed ./arxiv_downloads_processed\\2012.08859v3.Distilling_Optimal_Neural_Networks__Rapid_Search_in_Diverse_Spaces.pkl\n"
     ]
    },
    {
     "name": "stderr",
     "output_type": "stream",
     "text": [
      " 47%|████▋     | 329/694 [05:02<07:21,  1.21s/it]"
     ]
    },
    {
     "name": "stdout",
     "output_type": "stream",
     "text": [
      "Processed ./arxiv_downloads_processed\\2101.09957v1.Activation_Functions_in_Artificial_Neural_Networks__A_Systematic_Overview.pkl\n"
     ]
    },
    {
     "name": "stderr",
     "output_type": "stream",
     "text": [
      " 48%|████▊     | 330/694 [05:03<06:43,  1.11s/it]"
     ]
    },
    {
     "name": "stdout",
     "output_type": "stream",
     "text": [
      "Processed ./arxiv_downloads_processed\\2102.06358v1.Min_Max_Plus_Neural_Networks.pkl\n"
     ]
    },
    {
     "name": "stderr",
     "output_type": "stream",
     "text": [
      " 48%|████▊     | 331/694 [05:04<06:09,  1.02s/it]"
     ]
    },
    {
     "name": "stdout",
     "output_type": "stream",
     "text": [
      "Processed ./arxiv_downloads_processed\\2102.10362v3.Factored_Policy_Gradients__Leveraging_Structure_for_Efficient_Learning_in_MOMDPs.pkl\n"
     ]
    },
    {
     "name": "stderr",
     "output_type": "stream",
     "text": [
      " 48%|████▊     | 332/694 [05:05<05:11,  1.16it/s]"
     ]
    },
    {
     "name": "stdout",
     "output_type": "stream",
     "text": [
      "Processed ./arxiv_downloads_processed\\2102.13388v1.Zoetrope_Genetic_Programming_for_Regression.pkl\n"
     ]
    },
    {
     "name": "stderr",
     "output_type": "stream",
     "text": [
      " 48%|████▊     | 333/694 [05:05<04:30,  1.34it/s]"
     ]
    },
    {
     "name": "stdout",
     "output_type": "stream",
     "text": [
      "Processed ./arxiv_downloads_processed\\2103.01636v1.Sparse_Training_Theory_for_Scalable_and_Efficient_Agents.pkl\n"
     ]
    },
    {
     "name": "stderr",
     "output_type": "stream",
     "text": [
      " 48%|████▊     | 334/694 [05:06<05:23,  1.11it/s]"
     ]
    },
    {
     "name": "stdout",
     "output_type": "stream",
     "text": [
      "Processed ./arxiv_downloads_processed\\2103.03359v1.Cognitive_Homeostatic_Agents.pkl\n"
     ]
    },
    {
     "name": "stderr",
     "output_type": "stream",
     "text": [
      " 48%|████▊     | 335/694 [05:07<05:00,  1.19it/s]"
     ]
    },
    {
     "name": "stdout",
     "output_type": "stream",
     "text": [
      "Processed ./arxiv_downloads_processed\\2103.03905v3.Kanerva____extending_The_Kanerva_Machine_with_differentiable__locally_block_allocated_latent_memory.pkl\n"
     ]
    },
    {
     "name": "stderr",
     "output_type": "stream",
     "text": [
      " 48%|████▊     | 336/694 [05:08<05:17,  1.13it/s]"
     ]
    },
    {
     "name": "stdout",
     "output_type": "stream",
     "text": [
      "Processed ./arxiv_downloads_processed\\2105.01029v2.Initialization_and_Regularization_of_Factorized_Neural_Layers.pkl\n"
     ]
    },
    {
     "name": "stderr",
     "output_type": "stream",
     "text": [
      " 49%|████▊     | 337/694 [05:08<04:32,  1.31it/s]"
     ]
    },
    {
     "name": "stdout",
     "output_type": "stream",
     "text": [
      "Processed ./arxiv_downloads_processed\\2105.01129v1.Towards_A_Multi_agent_System_for_Online_Hate_Speech_Detection.pkl\n"
     ]
    },
    {
     "name": "stderr",
     "output_type": "stream",
     "text": [
      " 49%|████▊     | 338/694 [05:09<04:19,  1.37it/s]"
     ]
    },
    {
     "name": "stdout",
     "output_type": "stream",
     "text": [
      "Processed ./arxiv_downloads_processed\\2106.00958v2.A_Generalizable_Approach_to_Learning_Optimizers.pkl\n"
     ]
    },
    {
     "name": "stderr",
     "output_type": "stream",
     "text": [
      " 49%|████▉     | 339/694 [05:10<05:11,  1.14it/s]"
     ]
    },
    {
     "name": "stdout",
     "output_type": "stream",
     "text": [
      "Processed ./arxiv_downloads_processed\\2106.01920v1.Convolutional_Neural_Network_CNN_ConvNet__in_Stock_Price_Movement_Prediction.pkl\n"
     ]
    },
    {
     "name": "stderr",
     "output_type": "stream",
     "text": [
      " 49%|████▉     | 340/694 [05:22<24:51,  4.21s/it]"
     ]
    },
    {
     "name": "stdout",
     "output_type": "stream",
     "text": [
      "Processed ./arxiv_downloads_processed\\2106.04258v3.Interpretable_agent_communication_from_scratch__with_a_generic_visual_processor_emerging_on_the_side_.pkl\n"
     ]
    },
    {
     "name": "stderr",
     "output_type": "stream",
     "text": [
      " 49%|████▉     | 341/694 [05:23<19:16,  3.28s/it]"
     ]
    },
    {
     "name": "stdout",
     "output_type": "stream",
     "text": [
      "Processed ./arxiv_downloads_processed\\2106.05521v1.Swarm_Intelligence_for_Self_Organized_Clustering.pkl\n"
     ]
    },
    {
     "name": "stderr",
     "output_type": "stream",
     "text": [
      " 49%|████▉     | 342/694 [05:28<20:50,  3.55s/it]"
     ]
    },
    {
     "name": "stdout",
     "output_type": "stream",
     "text": [
      "Processed ./arxiv_downloads_processed\\2106.07847v4.Learning_Stable_Classifiers_by_Transferring_Unstable_Features.pkl\n"
     ]
    },
    {
     "name": "stderr",
     "output_type": "stream",
     "text": [
      " 49%|████▉     | 343/694 [05:28<15:41,  2.68s/it]"
     ]
    },
    {
     "name": "stdout",
     "output_type": "stream",
     "text": [
      "Processed ./arxiv_downloads_processed\\2106.09693v1.Orthogonal_Padé_Activation_Functions__Trainable_Activation_functions_for_smooth_and_faster_convergence_in_deep_networks.pkl\n"
     ]
    },
    {
     "name": "stderr",
     "output_type": "stream",
     "text": [
      " 50%|████▉     | 344/694 [05:30<13:28,  2.31s/it]"
     ]
    },
    {
     "name": "stdout",
     "output_type": "stream",
     "text": [
      "Processed ./arxiv_downloads_processed\\2106.12423v4.Alias_Free_Generative_Adversarial_Networks.pkl\n"
     ]
    },
    {
     "name": "stderr",
     "output_type": "stream",
     "text": [
      " 50%|████▉     | 345/694 [05:31<11:01,  1.90s/it]Ignoring wrong pointing object 6 0 (offset 0)\n",
      "Ignoring wrong pointing object 8 0 (offset 0)\n",
      "Ignoring wrong pointing object 10 0 (offset 0)\n",
      "Ignoring wrong pointing object 12 0 (offset 0)\n",
      "Ignoring wrong pointing object 14 0 (offset 0)\n",
      "Ignoring wrong pointing object 16 0 (offset 0)\n",
      "Ignoring wrong pointing object 18 0 (offset 0)\n",
      "Ignoring wrong pointing object 20 0 (offset 0)\n",
      "Ignoring wrong pointing object 28 0 (offset 0)\n",
      "Ignoring wrong pointing object 30 0 (offset 0)\n",
      "Ignoring wrong pointing object 37 0 (offset 0)\n",
      "Ignoring wrong pointing object 39 0 (offset 0)\n",
      "Ignoring wrong pointing object 41 0 (offset 0)\n",
      "Ignoring wrong pointing object 43 0 (offset 0)\n",
      "Ignoring wrong pointing object 52 0 (offset 0)\n",
      "Ignoring wrong pointing object 64 0 (offset 0)\n",
      "Ignoring wrong pointing object 83 0 (offset 0)\n"
     ]
    },
    {
     "name": "stdout",
     "output_type": "stream",
     "text": [
      "Processed ./arxiv_downloads_processed\\2106.15691v2.Deep_Multiagent_Reinforcement_Learning__Challenges_and_Directions.pkl\n"
     ]
    },
    {
     "name": "stderr",
     "output_type": "stream",
     "text": [
      " 50%|████▉     | 346/694 [05:31<09:04,  1.57s/it]"
     ]
    },
    {
     "name": "stdout",
     "output_type": "stream",
     "text": [
      "Processed ./arxiv_downloads_processed\\2107.06475v1.Generative_and_reproducible_benchmarks_for_comprehensive_evaluation_of_machine_learning_classifiers.pkl\n"
     ]
    },
    {
     "name": "stderr",
     "output_type": "stream",
     "text": [
      " 50%|█████     | 347/694 [05:32<07:06,  1.23s/it]"
     ]
    },
    {
     "name": "stdout",
     "output_type": "stream",
     "text": [
      "Processed ./arxiv_downloads_processed\\2107.06862v1.Differentiable_Programming_of_Reaction_Diffusion_Patterns.pkl\n"
     ]
    },
    {
     "name": "stderr",
     "output_type": "stream",
     "text": [
      " 50%|█████     | 348/694 [05:33<06:15,  1.09s/it]"
     ]
    },
    {
     "name": "stdout",
     "output_type": "stream",
     "text": [
      "Processed ./arxiv_downloads_processed\\2108.03857v2.GAN_Computers_Generate_Arts__A_Survey_on_Visual_Arts__Music__and_Literary_Text_Generation_using_Generative_Adversarial_Network.pkl\n"
     ]
    },
    {
     "name": "stderr",
     "output_type": "stream",
     "text": [
      " 50%|█████     | 349/694 [05:34<06:11,  1.08s/it]"
     ]
    },
    {
     "name": "stdout",
     "output_type": "stream",
     "text": [
      "Processed ./arxiv_downloads_processed\\2109.04386v4.ErfAct_and_Pserf__Non_monotonic_Smooth_Trainable_Activation_Functions.pkl\n"
     ]
    },
    {
     "name": "stderr",
     "output_type": "stream",
     "text": [
      " 50%|█████     | 350/694 [05:35<06:29,  1.13s/it]"
     ]
    },
    {
     "name": "stdout",
     "output_type": "stream",
     "text": [
      "Processed ./arxiv_downloads_processed\\2109.09371v1.Learning_Natural_Language_Generation_from_Scratch.pkl\n"
     ]
    },
    {
     "name": "stderr",
     "output_type": "stream",
     "text": [
      " 51%|█████     | 351/694 [05:36<06:28,  1.13s/it]"
     ]
    },
    {
     "name": "stdout",
     "output_type": "stream",
     "text": [
      "Processed ./arxiv_downloads_processed\\2109.10632v1.Locality_Matters__A_Scalable_Value_Decomposition_Approach_for_Cooperative_Multi_Agent_Reinforcement_Learning.pkl\n"
     ]
    },
    {
     "name": "stderr",
     "output_type": "stream",
     "text": [
      " 51%|█████     | 352/694 [05:37<05:47,  1.02s/it]"
     ]
    },
    {
     "name": "stdout",
     "output_type": "stream",
     "text": [
      "Processed ./arxiv_downloads_processed\\2110.01445v3.Robust_and_Decomposable_Average_Precision_for_Image_Retrieval.pkl\n"
     ]
    },
    {
     "name": "stderr",
     "output_type": "stream",
     "text": [
      " 51%|█████     | 353/694 [05:38<05:18,  1.07it/s]"
     ]
    },
    {
     "name": "stdout",
     "output_type": "stream",
     "text": [
      "Processed ./arxiv_downloads_processed\\2110.03861v3.QTN_VQC__An_End_to_End_Learning_framework_for_Quantum_Neural_Networks.pkl\n"
     ]
    },
    {
     "name": "stderr",
     "output_type": "stream",
     "text": [
      " 51%|█████     | 354/694 [05:38<04:43,  1.20it/s]"
     ]
    },
    {
     "name": "stdout",
     "output_type": "stream",
     "text": [
      "Processed ./arxiv_downloads_processed\\2110.05422v1.Calibrate_your_listeners__Robust_communication_based_training_for_pragmatic_speakers.pkl\n"
     ]
    },
    {
     "name": "stderr",
     "output_type": "stream",
     "text": [
      " 51%|█████     | 355/694 [05:39<04:40,  1.21it/s]"
     ]
    },
    {
     "name": "stdout",
     "output_type": "stream",
     "text": [
      "Processed ./arxiv_downloads_processed\\2110.12894v2.The_Efficiency_Misnomer.pkl\n"
     ]
    },
    {
     "name": "stderr",
     "output_type": "stream",
     "text": [
      " 51%|█████▏    | 356/694 [05:41<06:42,  1.19s/it]"
     ]
    },
    {
     "name": "stdout",
     "output_type": "stream",
     "text": [
      "Processed ./arxiv_downloads_processed\\2110.14182v1.Evidential_Softmax_for_Sparse_Multimodal_Distributions_in_Deep_Generative_Models.pkl\n"
     ]
    },
    {
     "name": "stderr",
     "output_type": "stream",
     "text": [
      " 51%|█████▏    | 357/694 [05:42<06:09,  1.10s/it]"
     ]
    },
    {
     "name": "stdout",
     "output_type": "stream",
     "text": [
      "Processed ./arxiv_downloads_processed\\2110.14241v1.Dynamic_population_based_meta_learning_for_multi_agent_communication_with_natural_language.pkl\n"
     ]
    },
    {
     "name": "stderr",
     "output_type": "stream",
     "text": [
      " 52%|█████▏    | 358/694 [05:44<08:40,  1.55s/it]"
     ]
    },
    {
     "name": "stdout",
     "output_type": "stream",
     "text": [
      "Processed ./arxiv_downloads_processed\\2110.15349v1.Learning_to_Ground_Multi_Agent_Communication_with_Autoencoders.pkl\n"
     ]
    },
    {
     "name": "stderr",
     "output_type": "stream",
     "text": [
      " 52%|█████▏    | 359/694 [05:46<07:46,  1.39s/it]"
     ]
    },
    {
     "name": "stdout",
     "output_type": "stream",
     "text": [
      "Processed ./arxiv_downloads_processed\\2111.14375v1.Final_Adaptation_Reinforcement_Learning_for_N_Player_Games.pkl\n"
     ]
    },
    {
     "name": "stderr",
     "output_type": "stream",
     "text": [
      " 52%|█████▏    | 360/694 [05:46<06:38,  1.19s/it]"
     ]
    },
    {
     "name": "stdout",
     "output_type": "stream",
     "text": [
      "Processed ./arxiv_downloads_processed\\2111.14934v2.Generative_Adversarial_Networks_with_Conditional_Neural_Movement_Primitives_for_An_Interactive_Generative_Drawing_Tool.pkl\n"
     ]
    },
    {
     "name": "stderr",
     "output_type": "stream",
     "text": [
      " 52%|█████▏    | 361/694 [05:47<05:28,  1.02it/s]"
     ]
    },
    {
     "name": "stdout",
     "output_type": "stream",
     "text": [
      "Processed ./arxiv_downloads_processed\\2203.01544v1.Rethinking_the_role_of_normalization_and_residual_blocks_for_spiking_neural_networks.pkl\n"
     ]
    },
    {
     "name": "stderr",
     "output_type": "stream",
     "text": [
      " 52%|█████▏    | 362/694 [05:48<05:13,  1.06it/s]"
     ]
    },
    {
     "name": "stdout",
     "output_type": "stream",
     "text": [
      "Processed ./arxiv_downloads_processed\\2203.06026v3.The_Role_of_ImageNet_Classes_in_Fréchet_Inception_Distance.pkl\n"
     ]
    },
    {
     "name": "stderr",
     "output_type": "stream",
     "text": [
      " 52%|█████▏    | 363/694 [05:48<04:40,  1.18it/s]"
     ]
    },
    {
     "name": "stdout",
     "output_type": "stream",
     "text": [
      "Processed ./arxiv_downloads_processed\\2203.06855v2.DIAS__A_Domain_Independent_Alife_Based_Problem_Solving_System.pkl\n"
     ]
    },
    {
     "name": "stderr",
     "output_type": "stream",
     "text": [
      " 52%|█████▏    | 364/694 [05:49<04:09,  1.32it/s]"
     ]
    },
    {
     "name": "stdout",
     "output_type": "stream",
     "text": [
      "Processed ./arxiv_downloads_processed\\2203.08559v1.Learning_to_Generate_Synthetic_Training_Data_using_Gradient_Matching_and_Implicit_Differentiation.pkl\n"
     ]
    },
    {
     "name": "stderr",
     "output_type": "stream",
     "text": [
      " 53%|█████▎    | 365/694 [05:50<04:58,  1.10it/s]"
     ]
    },
    {
     "name": "stdout",
     "output_type": "stream",
     "text": [
      "Processed ./arxiv_downloads_processed\\2205.07076v1.Spiking_Approximations_of_the_MaxPooling_Operation_in_Deep_SNNs.pkl\n"
     ]
    },
    {
     "name": "stderr",
     "output_type": "stream",
     "text": [
      " 53%|█████▎    | 366/694 [05:51<04:55,  1.11it/s]"
     ]
    },
    {
     "name": "stdout",
     "output_type": "stream",
     "text": [
      "Processed ./arxiv_downloads_processed\\2205.10113v1.Evolutionary_Multi_Armed_Bandits_with_Genetic_Thompson_Sampling.pkl\n"
     ]
    },
    {
     "name": "stderr",
     "output_type": "stream",
     "text": [
      " 53%|█████▎    | 367/694 [05:53<06:25,  1.18s/it]"
     ]
    },
    {
     "name": "stdout",
     "output_type": "stream",
     "text": [
      "Processed ./arxiv_downloads_processed\\2206.00364v2.Elucidating_the_Design_Space_of_Diffusion_Based_Generative_Models.pkl\n"
     ]
    },
    {
     "name": "stderr",
     "output_type": "stream",
     "text": [
      " 53%|█████▎    | 368/694 [05:54<06:06,  1.13s/it]"
     ]
    },
    {
     "name": "stdout",
     "output_type": "stream",
     "text": [
      "Processed ./arxiv_downloads_processed\\2206.04016v1.SYNERgy_between_SYNaptic_consolidation_and_Experience_Replay_for_general_continual_learning.pkl\n"
     ]
    },
    {
     "name": "stderr",
     "output_type": "stream",
     "text": [
      " 53%|█████▎    | 369/694 [05:55<05:50,  1.08s/it]"
     ]
    },
    {
     "name": "stdout",
     "output_type": "stream",
     "text": [
      "Processed ./arxiv_downloads_processed\\2207.09238v1.Formal_Algorithms_for_Transformers.pkl\n"
     ]
    },
    {
     "name": "stderr",
     "output_type": "stream",
     "text": [
      " 53%|█████▎    | 370/694 [05:56<05:50,  1.08s/it]"
     ]
    },
    {
     "name": "stdout",
     "output_type": "stream",
     "text": [
      "Processed ./arxiv_downloads_processed\\2208.04957v3.Heterogeneous_Multi_agent_Zero_Shot_Coordination_by_Coevolution.pkl\n"
     ]
    },
    {
     "name": "stderr",
     "output_type": "stream",
     "text": [
      " 53%|█████▎    | 371/694 [05:57<06:20,  1.18s/it]"
     ]
    },
    {
     "name": "stdout",
     "output_type": "stream",
     "text": [
      "Processed ./arxiv_downloads_processed\\2209.03942v1.Data_Feedback_Loops__Model_driven_Amplification_of_Dataset_Biases.pkl\n"
     ]
    },
    {
     "name": "stderr",
     "output_type": "stream",
     "text": [
      " 54%|█████▎    | 372/694 [05:58<05:48,  1.08s/it]"
     ]
    },
    {
     "name": "stdout",
     "output_type": "stream",
     "text": [
      "Processed ./arxiv_downloads_processed\\2209.12951v1.Liquid_Structural_State_Space_Models.pkl\n"
     ]
    },
    {
     "name": "stderr",
     "output_type": "stream",
     "text": [
      " 54%|█████▎    | 373/694 [06:00<07:40,  1.43s/it]"
     ]
    },
    {
     "name": "stdout",
     "output_type": "stream",
     "text": [
      "Processed ./arxiv_downloads_processed\\2209.13400v2.Activation_Learning_by_Local_Competitions.pkl\n"
     ]
    },
    {
     "name": "stderr",
     "output_type": "stream",
     "text": [
      " 54%|█████▍    | 374/694 [06:01<07:16,  1.36s/it]"
     ]
    },
    {
     "name": "stdout",
     "output_type": "stream",
     "text": [
      "Processed ./arxiv_downloads_processed\\2209.14745v2.A_Multiagent_Framework_for_the_Asynchronous_and_Collaborative_Extension_of_Multitask_ML_Systems.pkl\n"
     ]
    },
    {
     "name": "stderr",
     "output_type": "stream",
     "text": [
      " 54%|█████▍    | 375/694 [06:03<07:25,  1.40s/it]"
     ]
    },
    {
     "name": "stdout",
     "output_type": "stream",
     "text": [
      "Processed ./arxiv_downloads_processed\\2210.06835v1.Multi_agent_Dynamic_Algorithm_Configuration.pkl\n"
     ]
    },
    {
     "name": "stderr",
     "output_type": "stream",
     "text": [
      " 54%|█████▍    | 376/694 [06:04<06:18,  1.19s/it]"
     ]
    },
    {
     "name": "stdout",
     "output_type": "stream",
     "text": [
      "Processed ./arxiv_downloads_processed\\2210.08031v2.Neural_Attentive_Circuits.pkl\n"
     ]
    },
    {
     "name": "stderr",
     "output_type": "stream",
     "text": [
      " 54%|█████▍    | 377/694 [06:04<05:12,  1.01it/s]"
     ]
    },
    {
     "name": "stdout",
     "output_type": "stream",
     "text": [
      "Processed ./arxiv_downloads_processed\\2210.14593v1.Scaling_Laws_Beyond_Backpropagation.pkl\n"
     ]
    },
    {
     "name": "stderr",
     "output_type": "stream",
     "text": [
      " 54%|█████▍    | 378/694 [06:05<04:17,  1.23it/s]"
     ]
    },
    {
     "name": "stdout",
     "output_type": "stream",
     "text": [
      "Processed ./arxiv_downloads_processed\\2211.02403v1.The_Path_to_Autonomous_Learners.pkl\n"
     ]
    },
    {
     "name": "stderr",
     "output_type": "stream",
     "text": [
      " 55%|█████▍    | 379/694 [06:05<03:40,  1.43it/s]"
     ]
    },
    {
     "name": "stdout",
     "output_type": "stream",
     "text": [
      "Processed ./arxiv_downloads_processed\\2211.08407v4.Trust_Awareness_to_Secure_Swarm_Intelligence_from_Data_Injection_Attack.pkl\n"
     ]
    },
    {
     "name": "stderr",
     "output_type": "stream",
     "text": [
      " 55%|█████▍    | 380/694 [06:05<03:00,  1.74it/s]"
     ]
    },
    {
     "name": "stdout",
     "output_type": "stream",
     "text": [
      "Processed ./arxiv_downloads_processed\\2211.16846v1.Universal_Feature_Selection_Tool__UniFeat___An_Open_Source_Tool_for_Dimensionality_Reduction.pkl\n"
     ]
    },
    {
     "name": "stderr",
     "output_type": "stream",
     "text": [
      " 55%|█████▍    | 381/694 [06:06<03:26,  1.51it/s]"
     ]
    },
    {
     "name": "stdout",
     "output_type": "stream",
     "text": [
      "Processed ./arxiv_downloads_processed\\2211.17132v1.Targets_in_Reinforcement_Learning_to_solve_Stackelberg_Security_Games.pkl\n"
     ]
    },
    {
     "name": "stderr",
     "output_type": "stream",
     "text": [
      " 55%|█████▌    | 382/694 [06:07<03:17,  1.58it/s]Ignoring wrong pointing object 6 0 (offset 0)\n",
      "Ignoring wrong pointing object 32 0 (offset 0)\n",
      "Ignoring wrong pointing object 42 0 (offset 0)\n",
      "Ignoring wrong pointing object 63 0 (offset 0)\n"
     ]
    },
    {
     "name": "stdout",
     "output_type": "stream",
     "text": [
      "Processed ./arxiv_downloads_processed\\2212.03869v1.Pre_Training_With_Scientific_Text_Improves_Educational_Question_Generation.pkl\n"
     ]
    },
    {
     "name": "stderr",
     "output_type": "stream",
     "text": [
      " 55%|█████▌    | 383/694 [06:08<04:10,  1.24it/s]"
     ]
    },
    {
     "name": "stdout",
     "output_type": "stream",
     "text": [
      "Processed ./arxiv_downloads_processed\\2212.06279v1.Decentralized_Stochastic_Multi_Player_Multi_Armed_Walking_Bandits.pkl\n"
     ]
    },
    {
     "name": "stderr",
     "output_type": "stream",
     "text": [
      " 55%|█████▌    | 384/694 [06:09<04:28,  1.16it/s]"
     ]
    },
    {
     "name": "stdout",
     "output_type": "stream",
     "text": [
      "Processed ./arxiv_downloads_processed\\2301.05058v1.Sparse_Coding_in_a_Dual_Memory_System_for_Lifelong_Learning.pkl\n"
     ]
    },
    {
     "name": "stderr",
     "output_type": "stream",
     "text": [
      " 55%|█████▌    | 385/694 [06:10<04:34,  1.13it/s]"
     ]
    },
    {
     "name": "stdout",
     "output_type": "stream",
     "text": [
      "Processed ./arxiv_downloads_processed\\2302.01676v2.Show_me_your_NFT_and_I_tell_you_how_it_will_perform__Multimodal_representation_learning_for_NFT_selling_price_prediction.pkl\n"
     ]
    },
    {
     "name": "stderr",
     "output_type": "stream",
     "text": [
      " 56%|█████▌    | 386/694 [06:11<04:47,  1.07it/s]"
     ]
    },
    {
     "name": "stdout",
     "output_type": "stream",
     "text": [
      "Processed ./arxiv_downloads_processed\\2302.02571v1.Offline_Learning_in_Markov_Games_with_General_Function_Approximation.pkl\n"
     ]
    },
    {
     "name": "stderr",
     "output_type": "stream",
     "text": [
      " 56%|█████▌    | 387/694 [06:12<05:22,  1.05s/it]"
     ]
    },
    {
     "name": "stdout",
     "output_type": "stream",
     "text": [
      "Processed ./arxiv_downloads_processed\\2302.06675v4.Symbolic_Discovery_of_Optimization_Algorithms.pkl\n"
     ]
    },
    {
     "name": "stderr",
     "output_type": "stream",
     "text": [
      " 56%|█████▌    | 388/694 [06:13<04:14,  1.20it/s]"
     ]
    },
    {
     "name": "stdout",
     "output_type": "stream",
     "text": [
      "Processed ./arxiv_downloads_processed\\2302.07328v1.Hybrid_Spiking_Neural_Network_Fine_tuning_for_Hippocampus_Segmentation.pkl\n"
     ]
    },
    {
     "name": "stderr",
     "output_type": "stream",
     "text": [
      " 56%|█████▌    | 389/694 [06:13<04:15,  1.19it/s]"
     ]
    },
    {
     "name": "stdout",
     "output_type": "stream",
     "text": [
      "Processed ./arxiv_downloads_processed\\2302.11793v2.Revisiting_the_Gumbel_Softmax_in_MADDPG.pkl\n"
     ]
    },
    {
     "name": "stderr",
     "output_type": "stream",
     "text": [
      " 56%|█████▌    | 390/694 [06:14<03:43,  1.36it/s]"
     ]
    },
    {
     "name": "stdout",
     "output_type": "stream",
     "text": [
      "Processed ./arxiv_downloads_processed\\2302.12794v1.HULAT_at_SemEval_2023_Task_9__Data_augmentation_for_pre_trained_transformers_applied_to_Multilingual_Tweet_Intimacy_Analysis.pkl\n"
     ]
    },
    {
     "name": "stderr",
     "output_type": "stream",
     "text": [
      " 56%|█████▋    | 391/694 [06:15<03:36,  1.40it/s]"
     ]
    },
    {
     "name": "stdout",
     "output_type": "stream",
     "text": [
      "Processed ./arxiv_downloads_processed\\2303.08127v3.CB2__Collaborative_Natural_Language_Interaction_Research_Platform.pkl\n"
     ]
    },
    {
     "name": "stderr",
     "output_type": "stream",
     "text": [
      " 56%|█████▋    | 392/694 [06:16<05:00,  1.01it/s]"
     ]
    },
    {
     "name": "stdout",
     "output_type": "stream",
     "text": [
      "Processed ./arxiv_downloads_processed\\2303.10761v1.Calibration_of_Neural_Networks.pkl\n"
     ]
    },
    {
     "name": "stderr",
     "output_type": "stream",
     "text": [
      " 57%|█████▋    | 393/694 [06:17<05:11,  1.03s/it]"
     ]
    },
    {
     "name": "stdout",
     "output_type": "stream",
     "text": [
      "Processed ./arxiv_downloads_processed\\2304.06738v1.A_Study_of_Biologically_Plausible_Neural_Network__The_Role_and_Interactions_of_Brain_Inspired_Mechanisms_in_Continual_Learning.pkl\n"
     ]
    },
    {
     "name": "stderr",
     "output_type": "stream",
     "text": [
      " 57%|█████▋    | 394/694 [06:18<05:14,  1.05s/it]"
     ]
    },
    {
     "name": "stdout",
     "output_type": "stream",
     "text": [
      "Processed ./arxiv_downloads_processed\\2304.06767v4.RAFT__Reward_rAnked_FineTuning_for_Generative_Foundation_Model_Alignment.pkl\n"
     ]
    },
    {
     "name": "stderr",
     "output_type": "stream",
     "text": [
      " 57%|█████▋    | 395/694 [06:19<05:04,  1.02s/it]"
     ]
    },
    {
     "name": "stdout",
     "output_type": "stream",
     "text": [
      "Processed ./arxiv_downloads_processed\\2304.07297v2.Language_Instructed_Reinforcement_Learning_for_Human_AI_Coordination.pkl\n"
     ]
    },
    {
     "name": "stderr",
     "output_type": "stream",
     "text": [
      " 57%|█████▋    | 396/694 [06:20<04:34,  1.08it/s]"
     ]
    },
    {
     "name": "stdout",
     "output_type": "stream",
     "text": [
      "Processed ./arxiv_downloads_processed\\2304.10191v1.Efficient_Uncertainty_Estimation_in_Spiking_Neural_Networks_via_MC_dropout.pkl\n"
     ]
    },
    {
     "name": "stderr",
     "output_type": "stream",
     "text": [
      " 57%|█████▋    | 397/694 [06:21<04:37,  1.07it/s]"
     ]
    },
    {
     "name": "stdout",
     "output_type": "stream",
     "text": [
      "Processed ./arxiv_downloads_processed\\2305.00350v1.POUF__Prompt_oriented_unsupervised_fine_tuning_for_large_pre_trained_models.pkl\n"
     ]
    },
    {
     "name": "stderr",
     "output_type": "stream",
     "text": [
      " 57%|█████▋    | 398/694 [06:22<05:18,  1.07s/it]"
     ]
    },
    {
     "name": "stdout",
     "output_type": "stream",
     "text": [
      "Processed ./arxiv_downloads_processed\\2305.02499v1.AutoML_GPT__Automatic_Machine_Learning_with_GPT.pkl\n"
     ]
    },
    {
     "name": "stderr",
     "output_type": "stream",
     "text": [
      " 57%|█████▋    | 399/694 [06:23<04:47,  1.02it/s]"
     ]
    },
    {
     "name": "stdout",
     "output_type": "stream",
     "text": [
      "Processed ./arxiv_downloads_processed\\2305.08291v1.Large_Language_Model_Guided_Tree_of_Thought.pkl\n"
     ]
    },
    {
     "name": "stderr",
     "output_type": "stream",
     "text": [
      " 58%|█████▊    | 400/694 [06:26<07:00,  1.43s/it]"
     ]
    },
    {
     "name": "stdout",
     "output_type": "stream",
     "text": [
      "Processed ./arxiv_downloads_processed\\2305.17066v1.Mindstorms_in_Natural_Language_Based_Societies_of_Mind.pkl\n"
     ]
    },
    {
     "name": "stderr",
     "output_type": "stream",
     "text": [
      " 58%|█████▊    | 401/694 [06:27<06:05,  1.25s/it]"
     ]
    },
    {
     "name": "stdout",
     "output_type": "stream",
     "text": [
      "Processed ./arxiv_downloads_processed\\2305.17390v2.SwiftSage__A_Generative_Agent_with_Fast_and_Slow_Thinking_for_Complex_Interactive_Tasks.pkl\n"
     ]
    },
    {
     "name": "stderr",
     "output_type": "stream",
     "text": [
      " 58%|█████▊    | 402/694 [06:36<18:02,  3.71s/it]"
     ]
    },
    {
     "name": "stdout",
     "output_type": "stream",
     "text": [
      "Processed ./arxiv_downloads_processed\\2306.10640v2.Evolving_Strategies_for_Competitive_Multi_Agent_Search.pkl\n"
     ]
    },
    {
     "name": "stderr",
     "output_type": "stream",
     "text": [
      " 58%|█████▊    | 403/694 [06:42<21:24,  4.41s/it]"
     ]
    },
    {
     "name": "stdout",
     "output_type": "stream",
     "text": [
      "Processed ./arxiv_downloads_processed\\2307.00039v1.Towards_Brain_Inspired_Design_for_Addressing_the_Shortcomings_of_ANNs.pkl\n"
     ]
    },
    {
     "name": "stderr",
     "output_type": "stream",
     "text": [
      " 58%|█████▊    | 404/694 [06:43<16:40,  3.45s/it]"
     ]
    },
    {
     "name": "stdout",
     "output_type": "stream",
     "text": [
      "Processed ./arxiv_downloads_processed\\2307.03906v1.ScriptWorld__Text_Based_Environment_For_Learning_Procedural_Knowledge.pkl\n"
     ]
    },
    {
     "name": "stderr",
     "output_type": "stream",
     "text": [
      " 58%|█████▊    | 405/694 [06:44<13:02,  2.71s/it]"
     ]
    },
    {
     "name": "stdout",
     "output_type": "stream",
     "text": [
      "Processed ./arxiv_downloads_processed\\2307.04287v1.Generalizing_Graph_ODE_for_Learning_Complex_System_Dynamics_across_Environments.pkl\n"
     ]
    },
    {
     "name": "stderr",
     "output_type": "stream",
     "text": [
      " 59%|█████▊    | 406/694 [06:45<10:33,  2.20s/it]"
     ]
    },
    {
     "name": "stdout",
     "output_type": "stream",
     "text": [
      "Processed ./arxiv_downloads_processed\\2307.16235v1.Spiking_Neural_Networks_and_Bio_Inspired_Supervised_Deep_Learning__A_Survey.pkl\n"
     ]
    },
    {
     "name": "stderr",
     "output_type": "stream",
     "text": [
      " 59%|█████▊    | 407/694 [06:46<08:59,  1.88s/it]"
     ]
    },
    {
     "name": "stdout",
     "output_type": "stream",
     "text": [
      "Processed ./arxiv_downloads_processed\\2307.16236v1.Synaptic_Plasticity_Models_and_Bio_Inspired_Unsupervised_Deep_Learning__A_Survey.pkl\n"
     ]
    },
    {
     "name": "stderr",
     "output_type": "stream",
     "text": [
      " 59%|█████▉    | 408/694 [06:47<07:51,  1.65s/it]"
     ]
    },
    {
     "name": "stdout",
     "output_type": "stream",
     "text": [
      "Processed ./arxiv_downloads_processed\\2307.16389v1.STL__A_Signed_and_Truncated_Logarithm_Activation_Function_for_Neural_Networks.pkl\n"
     ]
    },
    {
     "name": "stderr",
     "output_type": "stream",
     "text": [
      " 59%|█████▉    | 409/694 [06:48<06:51,  1.44s/it]"
     ]
    },
    {
     "name": "stdout",
     "output_type": "stream",
     "text": [
      "Processed ./arxiv_downloads_processed\\2310.02168v4.Editing_Personality_for_Large_Language_Models.pkl\n"
     ]
    },
    {
     "name": "stderr",
     "output_type": "stream",
     "text": [
      " 59%|█████▉    | 410/694 [06:49<06:15,  1.32s/it]"
     ]
    },
    {
     "name": "stdout",
     "output_type": "stream",
     "text": [
      "Processed ./arxiv_downloads_processed\\2310.02984v2.Scaling_Laws_for_Associative_Memories.pkl\n"
     ]
    },
    {
     "name": "stderr",
     "output_type": "stream",
     "text": [
      " 59%|█████▉    | 411/694 [06:51<06:08,  1.30s/it]"
     ]
    },
    {
     "name": "stdout",
     "output_type": "stream",
     "text": [
      "Processed ./arxiv_downloads_processed\\2310.03635v1.CLEVRER_Humans__Describing_Physical_and_Causal_Events_the_Human_Way.pkl\n"
     ]
    },
    {
     "name": "stderr",
     "output_type": "stream",
     "text": [
      " 59%|█████▉    | 412/694 [06:51<05:04,  1.08s/it]"
     ]
    },
    {
     "name": "stdout",
     "output_type": "stream",
     "text": [
      "Processed ./arxiv_downloads_processed\\2310.05976v1.An_evolutionary_model_of_personality_traits_related_to_cooperative_behavior_using_a_large_language_model.pkl\n"
     ]
    },
    {
     "name": "stderr",
     "output_type": "stream",
     "text": [
      " 60%|█████▉    | 413/694 [06:53<05:35,  1.19s/it]"
     ]
    },
    {
     "name": "stdout",
     "output_type": "stream",
     "text": [
      "Processed ./arxiv_downloads_processed\\2310.09952v1.Seeking_Next_Layer_Neurons__Attention_for_Error_Backpropagation_Like_Training_in_a_Multi_Agent_Network_Framework.pkl\n"
     ]
    },
    {
     "name": "stderr",
     "output_type": "stream",
     "text": [
      " 60%|█████▉    | 414/694 [06:53<04:38,  1.01it/s]"
     ]
    },
    {
     "name": "stdout",
     "output_type": "stream",
     "text": [
      "Processed ./arxiv_downloads_processed\\2310.11884v2.From_Neural_Activations_to_Concepts__A_Survey_on_Explaining_Concepts_in_Neural_Networks.pkl\n"
     ]
    },
    {
     "name": "stderr",
     "output_type": "stream",
     "text": [
      " 60%|█████▉    | 415/694 [06:54<03:57,  1.17it/s]"
     ]
    },
    {
     "name": "stdout",
     "output_type": "stream",
     "text": [
      "Processed ./arxiv_downloads_processed\\2310.16035v1.What_s_Left__Concept_Grounding_with_Logic_Enhanced_Foundation_Models.pkl\n"
     ]
    },
    {
     "name": "stderr",
     "output_type": "stream",
     "text": [
      " 60%|█████▉    | 416/694 [06:54<03:19,  1.40it/s]"
     ]
    },
    {
     "name": "stdout",
     "output_type": "stream",
     "text": [
      "Processed ./arxiv_downloads_processed\\2311.00049v1.On_the_Kolmogorov_neural_networks.pkl\n"
     ]
    },
    {
     "name": "stderr",
     "output_type": "stream",
     "text": [
      " 60%|██████    | 417/694 [06:56<05:08,  1.11s/it]"
     ]
    },
    {
     "name": "stdout",
     "output_type": "stream",
     "text": [
      "Processed ./arxiv_downloads_processed\\2311.01463v1.Creating_Trustworthy_LLMs__Dealing_with_Hallucinations_in_Healthcare_AI.pkl\n"
     ]
    },
    {
     "name": "stderr",
     "output_type": "stream",
     "text": [
      " 60%|██████    | 418/694 [06:58<05:57,  1.30s/it]"
     ]
    },
    {
     "name": "stdout",
     "output_type": "stream",
     "text": [
      "Processed ./arxiv_downloads_processed\\2311.02314v1.Thermal_Face_Image_Classification_using_Deep_Learning_Techniques.pkl\n"
     ]
    }
   ],
   "source": [
    "import tqdm\n",
    "import threading\n",
    "from concurrent.futures import ThreadPoolExecutor, as_completed\n",
    "\n",
    "from rolling.pdf import read_pdf\n",
    "from rolling.paper import create_paper, save_paper\n",
    "\n",
    "lock = threading.Lock()\n",
    "\n",
    "def sync_encode(args):\n",
    "    global lock\n",
    "\n",
    "    with lock:\n",
    "        return model.encode(args)\n",
    "\n",
    "def process_paper(pdf_path):\n",
    "    file_name = os.path.basename(pdf_path)\n",
    "    file_name = file_name.replace('.pdf', '.pkl')\n",
    "    file_name = os.path.join(output_dir, file_name)\n",
    "    \n",
    "    if os.path.exists(file_name):\n",
    "        return (False, file_name)\n",
    "    \n",
    "    text = read_pdf(pdf_path)\n",
    "    title = pdf_path\n",
    "    paper = create_paper(title, text, embedding_function=sync_encode)\n",
    "\n",
    "    save_paper(paper, file_name)\n",
    "    return file_name\n",
    "\n",
    "\n",
    "with ThreadPoolExecutor(max_workers=3) as executor:\n",
    "    futures = [executor.submit(process_paper, pdf_path) for pdf_path in files]\n",
    "\n",
    "    for future in tqdm.tqdm(as_completed(futures), total=len(files)):\n",
    "        print(f'Processed {future.result()}')"
   ]
  }
 ],
 "metadata": {
  "kernelspec": {
   "display_name": ".venv",
   "language": "python",
   "name": "python3"
  },
  "language_info": {
   "codemirror_mode": {
    "name": "ipython",
    "version": 3
   },
   "file_extension": ".py",
   "mimetype": "text/x-python",
   "name": "python",
   "nbconvert_exporter": "python",
   "pygments_lexer": "ipython3",
   "version": "3.12.8"
  }
 },
 "nbformat": 4,
 "nbformat_minor": 2
}
