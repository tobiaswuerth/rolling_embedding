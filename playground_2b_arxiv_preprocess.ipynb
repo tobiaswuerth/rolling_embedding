{
 "cells": [
  {
   "cell_type": "code",
   "execution_count": 1,
   "metadata": {},
   "outputs": [
    {
     "data": {
      "text/plain": [
       "(['./arxiv_downloads\\\\0812.0743v2.A_Novel_Clustering_Algorithm_Based_on_Quantum_Games.pdf',\n",
       "  './arxiv_downloads\\\\1103.4487v1.Handwritten_Digit_Recognition_with_a_Committee_of_Deep_Neural_Nets_on_GPUs.pdf',\n",
       "  './arxiv_downloads\\\\1106.4509v1.Machine_Learning_Markets.pdf'],\n",
       " 694)"
      ]
     },
     "execution_count": 1,
     "metadata": {},
     "output_type": "execute_result"
    }
   ],
   "source": [
    "from rolling.pdf import list_pdfs\n",
    "files = list_pdfs()\n",
    "files[:3], len(files)"
   ]
  },
  {
   "cell_type": "code",
   "execution_count": 2,
   "metadata": {},
   "outputs": [],
   "source": [
    "output_dir = './arxiv_downloads_processed'\n",
    "import os\n",
    "os.makedirs(output_dir, exist_ok=True)"
   ]
  },
  {
   "cell_type": "code",
   "execution_count": 3,
   "metadata": {},
   "outputs": [],
   "source": [
    "from rolling.embedding import GTEEmbeddingModel\n",
    "model = GTEEmbeddingModel()"
   ]
  },
  {
   "cell_type": "code",
   "execution_count": 8,
   "metadata": {},
   "outputs": [
    {
     "name": "stderr",
     "output_type": "stream",
     "text": [
      "100%|██████████| 694/694 [00:01<00:00, 605.55it/s] "
     ]
    },
    {
     "name": "stdout",
     "output_type": "stream",
     "text": [
      "Error processing ./arxiv_downloads_processed\\2401.10510v3.When_Large_Language_Models_Meet_Evolutionary_Algorithms__Potential_Enhancements_and_Challenges.pkl: TextEncodeInput must be Union[TextInputSequence, Tuple[InputSequence, InputSequence]]\n",
      "ok\n"
     ]
    },
    {
     "name": "stderr",
     "output_type": "stream",
     "text": [
      "\n"
     ]
    }
   ],
   "source": [
    "import tqdm\n",
    "import threading\n",
    "from concurrent.futures import ThreadPoolExecutor, as_completed\n",
    "\n",
    "from rolling.pdf import read_pdf\n",
    "from rolling.paper import create_paper, save_paper\n",
    "\n",
    "lock = threading.Lock()\n",
    "\n",
    "def sync_encode(args):\n",
    "    global lock\n",
    "\n",
    "    with lock:\n",
    "        return model.encode(args)\n",
    "\n",
    "def process_paper(pdf_path):\n",
    "    file_name = os.path.basename(pdf_path)\n",
    "    file_name = file_name.replace('.pdf', '.pkl')\n",
    "    file_name = os.path.join(output_dir, file_name)\n",
    "    \n",
    "    if os.path.exists(file_name):\n",
    "        return False\n",
    "    \n",
    "    try:\n",
    "        text = read_pdf(pdf_path)\n",
    "        title = pdf_path\n",
    "        paper = create_paper(title, text, embedding_function=sync_encode)\n",
    "        save_paper(paper, file_name)\n",
    "    except Exception as e:\n",
    "        print(f'Error processing {file_name}: {e}')\n",
    "        return False\n",
    "\n",
    "    return file_name\n",
    "\n",
    "\n",
    "with ThreadPoolExecutor(max_workers=3) as executor:\n",
    "    futures = [executor.submit(process_paper, pdf_path) for pdf_path in files]\n",
    "\n",
    "    for future in tqdm.tqdm(as_completed(futures), total=len(files)):\n",
    "        pass\n",
    "\n",
    "print('ok')"
   ]
  },
  {
   "cell_type": "code",
   "execution_count": 5,
   "metadata": {},
   "outputs": [
    {
     "name": "stdout",
     "output_type": "stream",
     "text": [
      "WARNING: file 2401.10510v3.When_Large_Language_Models_Meet_Evolutionary_Algorithms__Potential_Enhancements_and_Challenges.pkl not found\n"
     ]
    }
   ],
   "source": [
    "# Compare directories\n",
    "import os\n",
    "for file in files:\n",
    "    basename = os.path.basename(file)\n",
    "    target_file = basename.replace('.pdf', '.pkl')\n",
    "    target_path = os.path.join('./arxiv_downloads_processed', target_file)\n",
    "    if not os.path.exists(target_path):\n",
    "        print(f'WARNING: file {target_file} not found')"
   ]
  }
 ],
 "metadata": {
  "kernelspec": {
   "display_name": ".venv",
   "language": "python",
   "name": "python3"
  },
  "language_info": {
   "codemirror_mode": {
    "name": "ipython",
    "version": 3
   },
   "file_extension": ".py",
   "mimetype": "text/x-python",
   "name": "python",
   "nbconvert_exporter": "python",
   "pygments_lexer": "ipython3",
   "version": "3.12.8"
  }
 },
 "nbformat": 4,
 "nbformat_minor": 2
}
