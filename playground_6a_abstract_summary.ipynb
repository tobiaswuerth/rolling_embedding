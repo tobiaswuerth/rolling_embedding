{
 "cells": [
  {
   "cell_type": "code",
   "execution_count": 8,
   "metadata": {},
   "outputs": [],
   "source": [
    "from elasticsearch import Elasticsearch\n",
    "client = Elasticsearch(\"http://localhost:9200/\", api_key=\"a1VxLUZaWUJ6Q1VRYXlSWTJSX2U6RWx3X0xQbXZURnlsNGU5UmNFeWZhZw==\") # localhost"
   ]
  },
  {
   "cell_type": "code",
   "execution_count": 9,
   "metadata": {},
   "outputs": [],
   "source": [
    "index_name = \"summary\""
   ]
  },
  {
   "cell_type": "code",
   "execution_count": 3,
   "metadata": {},
   "outputs": [],
   "source": [
    "if not client.indices.exists(index=index_name):\n",
    "    client.indices.create(index=index_name)"
   ]
  },
  {
   "cell_type": "code",
   "execution_count": null,
   "metadata": {},
   "outputs": [],
   "source": [
    "# # Delete\n",
    "# if client.indices.exists(index=index_name):\n",
    "#     client.indices.delete(index=index_name)"
   ]
  },
  {
   "cell_type": "markdown",
   "metadata": {},
   "source": [
    "---"
   ]
  },
  {
   "cell_type": "code",
   "execution_count": 10,
   "metadata": {},
   "outputs": [],
   "source": [
    "from elasticsearch.helpers import scan\n",
    "\n",
    "index_base = \"arxiv\"\n",
    "\n",
    "\n",
    "def fetch_all_data():\n",
    "    for hit in scan(\n",
    "        client,\n",
    "        index=index_base,\n",
    "        query={\n",
    "            \"query\": {\n",
    "                \"prefix\": {\n",
    "                    \"categories.category\": \"cs\", # just fetch computer science for this test\n",
    "                },\n",
    "            },\n",
    "        }):\n",
    "        yield hit[\"_source\"]"
   ]
  },
  {
   "cell_type": "code",
   "execution_count": 5,
   "metadata": {},
   "outputs": [],
   "source": [
    "# paper = next(fetch_all_data())\n",
    "# paper['title'], paper['categories'] "
   ]
  },
  {
   "cell_type": "code",
   "execution_count": 6,
   "metadata": {},
   "outputs": [],
   "source": [
    "import ollama\n",
    "from rolling.embedding import GTEEmbeddingModel\n",
    "model = GTEEmbeddingModel()"
   ]
  },
  {
   "cell_type": "code",
   "execution_count": 7,
   "metadata": {},
   "outputs": [],
   "source": [
    "failed = []"
   ]
  },
  {
   "cell_type": "code",
   "execution_count": 8,
   "metadata": {},
   "outputs": [],
   "source": [
    "import json\n",
    "import pydantic\n",
    "\n",
    "class Summary(pydantic.BaseModel):\n",
    "    contributions: list[str]\n",
    "    problems_or_goals: list[str]\n",
    "\n",
    "def summarize(paper):\n",
    "    template = \"Given the following abstract of a scientific paper, summarize their stands:\\n\"\n",
    "\n",
    "    try:\n",
    "        prompt = f'{template}\\n{paper[\"title\"]}:\\n{paper[\"abstract\"]}'\n",
    "        response = ollama.generate(model=\"gemma3:latest\", prompt=prompt, format=Summary.model_json_schema())\n",
    "        response = Summary.model_validate_json(response['response'])\n",
    "        return response\n",
    "    except Exception as e:\n",
    "        global failed\n",
    "        failed.append(paper)\n",
    "        print(e)\n",
    "        return None"
   ]
  },
  {
   "cell_type": "code",
   "execution_count": 9,
   "metadata": {},
   "outputs": [],
   "source": [
    "def complete_summary(paper, summary: Summary):\n",
    "    try:\n",
    "        summary = {\n",
    "            \"contributions\": summary.contributions,\n",
    "            \"problems_or_goals\": summary.problems_or_goals,\n",
    "        }\n",
    "        embedding_data = {\n",
    "            \"title\": paper[\"title\"],\n",
    "        }\n",
    "        embedding_data.update(summary)\n",
    "        embedding_data = json.dumps(embedding_data)\n",
    "        embedding = model.encode(embedding_data)[0]\n",
    "\n",
    "        source = {\n",
    "            \"embedding\": embedding,\n",
    "            \"summary\": summary,\n",
    "        }\n",
    "        return source\n",
    "    except Exception as e:\n",
    "        global failed\n",
    "        failed.append(paper)\n",
    "        print(e)\n",
    "        return None"
   ]
  },
  {
   "cell_type": "code",
   "execution_count": 10,
   "metadata": {},
   "outputs": [],
   "source": [
    "# summary = summarize(paper)\n",
    "# complete_summary(paper, summary)"
   ]
  },
  {
   "cell_type": "code",
   "execution_count": 11,
   "metadata": {},
   "outputs": [],
   "source": [
    "def provide_all():\n",
    "    for i, paper in enumerate(fetch_all_data()):\n",
    "        if i % 10000 == 0:\n",
    "            print(f\"Processing {i}...\")\n",
    "\n",
    "        summary = summarize(paper)\n",
    "        if summary is None:\n",
    "            continue  # error\n",
    "\n",
    "        source = complete_summary(paper, summary)\n",
    "        if source is None:\n",
    "            continue  # error\n",
    "\n",
    "        yield {\n",
    "            \"_index\": index_name,\n",
    "            \"_id\": paper[\"id\"],\n",
    "            \"_source\": source,\n",
    "        }"
   ]
  },
  {
   "cell_type": "code",
   "execution_count": 12,
   "metadata": {},
   "outputs": [
    {
     "data": {
      "text/plain": [
       "0"
      ]
     },
     "execution_count": 12,
     "metadata": {},
     "output_type": "execute_result"
    }
   ],
   "source": [
    "len(failed)"
   ]
  },
  {
   "cell_type": "code",
   "execution_count": null,
   "metadata": {},
   "outputs": [],
   "source": [
    "from elasticsearch import helpers\n",
    "from elasticsearch.helpers import BulkIndexError\n",
    "\n",
    "try:\n",
    "    provider = provide_all()\n",
    "    helpers.bulk(client, provider, chunk_size=10)\n",
    "except BulkIndexError as e:\n",
    "    print(\"Bulk indexing failed with the following errors:\")\n",
    "    for error in e.errors:\n",
    "        print(error)\n"
   ]
  },
  {
   "cell_type": "code",
   "execution_count": 14,
   "metadata": {},
   "outputs": [
    {
     "data": {
      "text/plain": [
       "0"
      ]
     },
     "execution_count": 14,
     "metadata": {},
     "output_type": "execute_result"
    }
   ],
   "source": [
    "len(failed)"
   ]
  },
  {
   "cell_type": "markdown",
   "metadata": {},
   "source": [
    "---\n",
    "# check to see how different the embeddings actually are"
   ]
  },
  {
   "cell_type": "code",
   "execution_count": 4,
   "metadata": {},
   "outputs": [],
   "source": [
    "def fetch_summaries():\n",
    "    for hit in scan(\n",
    "        client,\n",
    "        index=index_name,\n",
    "        query={\n",
    "            \"query\": {\n",
    "                \"match_all\": {},\n",
    "            },\n",
    "        },\n",
    "    ):\n",
    "        yield hit\n",
    "\n",
    "\n",
    "def fetch_paper(id):\n",
    "    return client.get(\n",
    "        index=index_base,\n",
    "        id=id,\n",
    "    )"
   ]
  },
  {
   "cell_type": "code",
   "execution_count": 11,
   "metadata": {},
   "outputs": [],
   "source": [
    "embeddings = []\n",
    "for summary in fetch_summaries():\n",
    "    paper = fetch_paper(summary[\"_id\"])\n",
    "    emb1 = summary['_source']['embedding']\n",
    "    emb2 = paper['_source']['embedding']\n",
    "    embeddings.append((emb1, emb2))"
   ]
  },
  {
   "cell_type": "code",
   "execution_count": 12,
   "metadata": {},
   "outputs": [
    {
     "data": {
      "text/plain": [
       "540"
      ]
     },
     "execution_count": 12,
     "metadata": {},
     "output_type": "execute_result"
    }
   ],
   "source": [
    "len(embeddings)"
   ]
  },
  {
   "cell_type": "code",
   "execution_count": 13,
   "metadata": {},
   "outputs": [],
   "source": [
    "from rolling.embedding import get_similarity\n",
    "similarities = [\n",
    "    get_similarity(emb1, emb2)\n",
    "    for emb1, emb2 in embeddings\n",
    "]\n",
    "\n",
    "import numpy as np\n",
    "similarities = np.array(similarities)"
   ]
  },
  {
   "cell_type": "code",
   "execution_count": 21,
   "metadata": {},
   "outputs": [
    {
     "data": {
      "image/png": "[encoded data removed]",
      "text/plain": [
       "<Figure size 640x480 with 1 Axes>"
      ]
     },
     "metadata": {},
     "output_type": "display_data"
    }
   ],
   "source": [
    "import numpy as np\n",
    "import matplotlib.pyplot as plt\n",
    "\n",
    "mean = np.mean(similarities)\n",
    "std_dev = np.std(similarities)\n",
    "\n",
    "count, bins, _ = plt.hist(similarities, bins=100, density=True, alpha=0.6, color='g', label='Histogram')\n",
    "\n",
    "window_size = 20\n",
    "moving_avg = np.convolve(count, np.ones(window_size)/window_size, mode='same')\n",
    "bin_centers = 0.5 * (bins[1:] + bins[:-1])\n",
    "plt.plot(bin_centers, moving_avg, color='r', label='Moving Average', linewidth=2)\n",
    "\n",
    "plt.axvline(x=mean, color='b', linestyle='--', label=f'mean ({mean:.5f})')\n",
    "plt.axvline(x=mean - std_dev, color='orange', linestyle='--', label=f'±1σ ({std_dev:.5f})')\n",
    "plt.axvline(x=mean + std_dev, color='orange', linestyle='--', label=f'±1σ ({std_dev:.5f})')\n",
    "\n",
    "plt.xlabel('Similarity')\n",
    "plt.ylabel('Density')\n",
    "plt.title('Similarity Distribution')\n",
    "plt.legend()\n",
    "plt.show()"
   ]
  }
 ],
 "metadata": {
  "kernelspec": {
   "display_name": ".venv",
   "language": "python",
   "name": "python3"
  },
  "language_info": {
   "codemirror_mode": {
    "name": "ipython",
    "version": 3
   },
   "file_extension": ".py",
   "mimetype": "text/x-python",
   "name": "python",
   "nbconvert_exporter": "python",
   "pygments_lexer": "ipython3",
   "version": "3.12.8"
  }
 },
 "nbformat": 4,
 "nbformat_minor": 2
}
