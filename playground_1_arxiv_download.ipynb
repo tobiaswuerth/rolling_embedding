{
 "cells": [
  {
   "cell_type": "code",
   "execution_count": 1,
   "metadata": {},
   "outputs": [],
   "source": [
    "import os\n",
    "download_dir = './arxiv_downloads'\n",
    "if not os.path.exists(download_dir):\n",
    "    os.mkdir(download_dir)"
   ]
  },
  {
   "cell_type": "code",
   "execution_count": 2,
   "metadata": {},
   "outputs": [],
   "source": [
    "import arxiv\n",
    "from concurrent.futures import ThreadPoolExecutor, as_completed\n",
    "import tqdm\n",
    "\n",
    "def download_if_new(result:arxiv.Result):\n",
    "    filename = result._get_default_filename()\n",
    "    filepath = os.path.join(download_dir, filename)\n",
    "    if os.path.exists(filepath):\n",
    "        return False\n",
    "    \n",
    "    try:\n",
    "        result.download_pdf(dirpath=download_dir)\n",
    "    except Exception as e:\n",
    "        print(f\"Error downloading {filename}: {e}\")\n",
    "        return None\n",
    "    return filepath\n",
    "\n",
    "\n",
    "class BulkDownloader:\n",
    "    def __init__(self, threads: int = 10):\n",
    "        self.thread_pool: ThreadPoolExecutor = ThreadPoolExecutor(threads)\n",
    "\n",
    "    def download_all_parallel(self, search: arxiv.Search):\n",
    "        client = arxiv.Client(\n",
    "            page_size=1000,\n",
    "            delay_seconds=0.1,\n",
    "            num_retries=3,\n",
    "        )\n",
    "        results = client.results(search)\n",
    "\n",
    "        futures = [\n",
    "            self.thread_pool.submit(download_if_new, result) for result in results\n",
    "        ]\n",
    "\n",
    "        skipped = 0\n",
    "        for future in tqdm.tqdm(as_completed(futures), total=len(futures)):\n",
    "            result = future.result()\n",
    "            if result == None:\n",
    "                continue # error\n",
    "            if result == False:\n",
    "                skipped += 1\n",
    "                continue\n",
    "            print(f\"Downloaded {result}\")\n",
    "\n",
    "        print(f\"All downloads completed. skipped {skipped} in total\")"
   ]
  },
  {
   "cell_type": "code",
   "execution_count": 3,
   "metadata": {},
   "outputs": [],
   "source": [
    "downloader = BulkDownloader(threads=10)"
   ]
  },
  {
   "cell_type": "code",
   "execution_count": 4,
   "metadata": {},
   "outputs": [],
   "source": [
    "categories = [\n",
    "    # https://arxiv.org/help/api/user-manual#query_details\n",
    "    \"cs.AI\", # Artificial Intelligence, \n",
    "    \"cs.CL\", # Computation and Language\n",
    "    \"cs.LG\", # Machine Learning,\n",
    "    \"stat.ML\", # Machine Learning,\n",
    "    \"cs.CV\", # Computer Vision and Pattern Recognition,\n",
    "    \"cs.MA\", # Multiagent Systems,\n",
    "    \"cs.NE\", # Neural and Evolutionary Computing,\n",
    "]\n",
    "\n",
    "search = arxiv.Search(\n",
    "  query = ' OR '.join(categories),\n",
    "  max_results = 1000,\n",
    "  sort_by = arxiv.SortCriterion.Relevance,\n",
    ")"
   ]
  },
  {
   "cell_type": "code",
   "execution_count": 5,
   "metadata": {},
   "outputs": [
    {
     "name": "stderr",
     "output_type": "stream",
     "text": [
      " 80%|███████▉  | 797/1000 [00:01<00:00, 731.44it/s]"
     ]
    },
    {
     "name": "stdout",
     "output_type": "stream",
     "text": [
      "Downloaded ./arxiv_downloads\\2302.12840v2.HULAT_at_SemEval_2023_Task_10__Data_augmentation_for_pre_trained_transformers_applied_to_the_detection_of_sexism_in_social_media.pdf\n",
      "Downloaded ./arxiv_downloads\\1312.5845v7.Competitive_Learning_with_Feedforward_Supervisory_Signal_for_Pre_trained_Multilayered_Networks.pdf\n",
      "Downloaded ./arxiv_downloads\\1805.08180v2.Hierarchical_Reinforcement_Learning_with_Hindsight.pdf\n",
      "Downloaded ./arxiv_downloads\\2009.13051v3.Agent_Environment_Cycle_Games.pdf\n",
      "Downloaded ./arxiv_downloads\\1903.02172v1.AAAI_2019_Workshop_on_Games_and_Simulations_for_Artificial_Intelligence.pdf\n",
      "Downloaded ./arxiv_downloads\\1709.10204v2.A_Neural_Comprehensive_Ranker__NCR__for_Open_Domain_Question_Answering.pdf\n",
      "Downloaded ./arxiv_downloads\\1809.03721v2.Deep_Asymmetric_Networks_with_a_Set_of_Node_wise_Variant_Activation_Functions.pdf\n",
      "Downloaded ./arxiv_downloads\\1811.03403v1.ExGate__Externally_Controlled_Gating_for_Feature_based_Attention_in_Artificial_Neural_Networks.pdf\n",
      "Downloaded ./arxiv_downloads\\1906.02076v2.On_the_use_of_Pairwise_Distance_Learning_for_Brain_Signal_Classification_with_Limited_Observations.pdf\n",
      "Downloaded ./arxiv_downloads\\1810.09619v2.Sparse_DNNs_with_Improved_Adversarial_Robustness.pdf\n",
      "Downloaded ./arxiv_downloads\\1812.02956v2.LNEMLC__Label_Network_Embeddings_for_Multi_Label_Classification.pdf\n",
      "Downloaded ./arxiv_downloads\\1902.02947v1.Understanding_the_One_Pixel_Attack__Propagation_Maps_and_Locality_Analysis.pdf\n",
      "Downloaded ./arxiv_downloads\\1902.04615v3.Gauge_Equivariant_Convolutional_Networks_and_the_Icosahedral_CNN.pdf\n",
      "Downloaded ./arxiv_downloads\\2006.09363v2.Building_One_Shot_Semi_supervised__BOSS__Learning_up_to_Fully_Supervised_Performance.pdf\n",
      "Downloaded ./arxiv_downloads\\1909.02562v1.TFCheck___A_TensorFlow_Library_for_Detecting_Training_Issues_in_Neural_Network_Programs.pdf\n",
      "Downloaded ./arxiv_downloads\\2006.02797v1.Overcoming_Overfitting_and_Large_Weight_Update_Problem_in_Linear_Rectifiers__Thresholded_Exponential_Rectified_Linear_Units.pdf\n",
      "Downloaded ./arxiv_downloads\\2001.10422v2.NAS_Bench_1Shot1__Benchmarking_and_Dissecting_One_shot_Neural_Architecture_Search.pdf\n",
      "Downloaded ./arxiv_downloads\\2007.00970v2.MPLP__Learning_a_Message_Passing_Learning_Protocol.pdf\n",
      "Downloaded ./arxiv_downloads\\1909.00052v3.Learning_Digital_Circuits__A_Journey_Through_Weight_Invariant_Self_Pruning_Neural_Networks.pdf\n",
      "Downloaded ./arxiv_downloads\\1910.14594v2.Deep_Learning_for_2D_and_3D_Rotatable_Data__An_Overview_of_Methods.pdf\n",
      "Downloaded ./arxiv_downloads\\2007.01419v2.Persistent_Neurons.pdf\n",
      "Downloaded ./arxiv_downloads\\2006.02003v1.Open_Set_Recognition_with_Gaussian_Mixture_Variational_Autoencoders.pdf\n",
      "Downloaded ./arxiv_downloads\\1906.02909v5.AutoGrow__Automatic_Layer_Growing_in_Deep_Convolutional_Networks.pdf\n",
      "Downloaded ./arxiv_downloads\\2007.16149v1.HMCNAS__Neural_Architecture_Search_using_Hidden_Markov_Chains_and_Bayesian_Optimization.pdf\n",
      "Downloaded ./arxiv_downloads\\2010.06099v1.Similarity_Based_Stratified_Splitting__an_approach_to_train_better_classifiers.pdf\n",
      "Downloaded ./arxiv_downloads\\2007.10143v1.Contextualizing_Enhances_Gradient_Based_Meta_Learning.pdf\n",
      "Downloaded ./arxiv_downloads\\1905.01392v2.A_Survey_on_Neural_Architecture_Search.pdf\n",
      "Downloaded ./arxiv_downloads\\1905.03046v1.PiNet__A_Permutation_Invariant_Graph_Neural_Network_for_Graph_Classification.pdf\n",
      "Downloaded ./arxiv_downloads\\2007.09200v2.Neural_Networks_with_Recurrent_Generative_Feedback.pdf\n",
      "Downloaded ./arxiv_downloads\\1905.12797v1.Bandlimiting_Neural_Networks_Against_Adversarial_Attacks.pdf\n",
      "Downloaded ./arxiv_downloads\\1903.11359v2.Scaling_up_the_randomized_gradient_free_adversarial_attack_reveals_overestimation_of_robustness_using_established_attacks.pdf\n",
      "Downloaded ./arxiv_downloads\\2006.12486v3.Locally_Masked_Convolution_for_Autoregressive_Models.pdf\n",
      "Downloaded ./arxiv_downloads\\1905.12506v3.Are_Disentangled_Representations_Helpful_for_Abstract_Visual_Reasoning_.pdf\n",
      "Downloaded ./arxiv_downloads\\2007.05123v1.Improving_Adversarial_Robustness_by_Enforcing_Local_and_Global_Compactness.pdf\n",
      "Downloaded ./arxiv_downloads\\1907.00262v1.Dissecting_Pruned_Neural_Networks.pdf\n",
      "Downloaded ./arxiv_downloads\\1907.08307v1.XferNAS__Transfer_Neural_Architecture_Search.pdf\n",
      "Downloaded ./arxiv_downloads\\1912.01137v3.Mixing_autoencoder_with_classifier__conceptual_data_visualization.pdf\n",
      "Downloaded ./arxiv_downloads\\1912.10103v2.TentacleNet__A_Pseudo_Ensemble_Template_for_Accurate_Binary_Convolutional_Neural_Networks.pdf\n",
      "Downloaded ./arxiv_downloads\\1912.03201v1.A_Neural_Spiking_Approach_Compared_to_Deep_Feedforward_Networks_on_Stepwise_Pixel_Erasement.pdf\n"
     ]
    },
    {
     "name": "stderr",
     "output_type": "stream",
     "text": [
      " 84%|████████▎ | 836/1000 [00:22<00:06, 26.92it/s] "
     ]
    },
    {
     "name": "stdout",
     "output_type": "stream",
     "text": [
      "Downloaded ./arxiv_downloads\\2002.07224v2.Evolutionary_Optimization_of_Deep_Learning_Activation_Functions.pdf\n"
     ]
    },
    {
     "name": "stderr",
     "output_type": "stream",
     "text": [
      " 84%|████████▎ | 837/1000 [00:23<00:06, 25.69it/s]"
     ]
    },
    {
     "name": "stdout",
     "output_type": "stream",
     "text": [
      "Downloaded ./arxiv_downloads\\1901.10277v3.High_Quality_Self_Supervised_Deep_Image_Denoising.pdf\n",
      "Downloaded ./arxiv_downloads\\2002.08111v3.Hierarchical_Quantized_Autoencoders.pdf\n",
      "Downloaded ./arxiv_downloads\\2007.01807v2.Continuously_Indexed_Domain_Adaptation.pdf\n",
      "Downloaded ./arxiv_downloads\\1908.08681v3.Mish__A_Self_Regularized_Non_Monotonic_Activation_Function.pdf\n",
      "Downloaded ./arxiv_downloads\\2002.04289v2.To_Share_or_Not_To_Share__A_Comprehensive_Appraisal_of_Weight_Sharing.pdf\n",
      "Downloaded ./arxiv_downloads\\2306.06968v1.Can_Forward_Gradient_Match_Backpropagation_.pdf\n",
      "Downloaded ./arxiv_downloads\\2305.16150v3.Unifying_GANs_and_Score_Based_Diffusion_as_Generative_Particle_Models.pdf\n",
      "Downloaded ./arxiv_downloads\\1511.02799v4.Neural_Module_Networks.pdf\n",
      "Downloaded ./arxiv_downloads\\1609.04938v2.Image_to_Markup_Generation_with_Coarse_to_Fine_Attention.pdf\n",
      "Downloaded ./arxiv_downloads\\2002.09571v2.Learning_to_Continually_Learn.pdf\n",
      "Downloaded ./arxiv_downloads\\1606.03475v1.De_identification_of_Patient_Notes_with_Recurrent_Neural_Networks.pdf\n",
      "Downloaded ./arxiv_downloads\\1712.03133v1.Building_competitive_direct_acoustics_to_word_models_for_English_conversational_speech_recognition.pdf\n",
      "Downloaded ./arxiv_downloads\\2308.04832v1.TSSR__A_Truncated_and_Signed_Square_Root_Activation_Function_for_Neural_Networks.pdf\n",
      "Downloaded ./arxiv_downloads\\2301.09223v2.Doubly_Adversarial_Federated_Bandits.pdf\n"
     ]
    },
    {
     "name": "stderr",
     "output_type": "stream",
     "text": [
      " 85%|████████▌ | 851/1000 [00:41<00:14, 10.47it/s]"
     ]
    },
    {
     "name": "stdout",
     "output_type": "stream",
     "text": [
      "Downloaded ./arxiv_downloads\\1912.03310v1.Geometric_Capsule_Autoencoders_for_3D_Point_Clouds.pdf\n"
     ]
    },
    {
     "name": "stderr",
     "output_type": "stream",
     "text": [
      " 85%|████████▌ | 852/1000 [00:41<00:14, 10.40it/s]"
     ]
    },
    {
     "name": "stdout",
     "output_type": "stream",
     "text": [
      "Downloaded ./arxiv_downloads\\1912.02292v1.Deep_Double_Descent__Where_Bigger_Models_and_More_Data_Hurt.pdf\n",
      "Downloaded ./arxiv_downloads\\1706.01322v2.Deep_learning_evaluation_using_deep_linguistic_processing.pdf\n",
      "Downloaded ./arxiv_downloads\\1912.08866v2.Continuous_Meta_Learning_without_Tasks.pdf\n",
      "Downloaded ./arxiv_downloads\\1707.08559v1.Video_Highlight_Prediction_Using_Audience_Chat_Reactions.pdf\n",
      "Downloaded ./arxiv_downloads\\1808.10009v1.Learning_a_Policy_for_Opportunistic_Active_Learning.pdf\n",
      "Downloaded ./arxiv_downloads\\2008.08937v5.Institutional_Grammar_2_0_Codebook.pdf\n",
      "Downloaded ./arxiv_downloads\\2009.08576v2.Pruning_Neural_Networks_at_Initialization__Why_are_We_Missing_the_Mark_.pdf\n",
      "Downloaded ./arxiv_downloads\\1806.00738v1.Contextualize__Show_and_Tell__A_Neural_Visual_Storyteller.pdf\n",
      "Downloaded ./arxiv_downloads\\2110.06510v1.The_Dawn_of_Quantum_Natural_Language_Processing.pdf\n",
      "Downloaded ./arxiv_downloads\\1707.00703v1.Automated_Problem_Identification__Regression_vs_Classification_via_Evolutionary_Deep_Networks.pdf\n",
      "Downloaded ./arxiv_downloads\\2103.15664v1.Competing_Adaptive_Networks.pdf\n",
      "Downloaded ./arxiv_downloads\\2502.13487v1.Transferring_Textual_Preferences_to_Vision_Language_Understanding_through_Model_Merging.pdf\n",
      "Downloaded ./arxiv_downloads\\1711.05136v5.Deep_Rewiring__Training_very_sparse_deep_networks.pdf\n",
      "Downloaded ./arxiv_downloads\\2010.08127v2.The_Deep_Bootstrap_Framework__Good_Online_Learners_are_Good_Offline_Generalizers.pdf\n",
      "Downloaded ./arxiv_downloads\\2406.00252v6.Towards_Rationality_in_Language_and_Multimodal_Agents__A_Survey.pdf\n",
      "Downloaded ./arxiv_downloads\\1906.11826v1.Lattice_Map_Spiking_Neural_Networks__LM_SNNs__for_Clustering_and_Classifying_Image_Data.pdf\n"
     ]
    },
    {
     "name": "stderr",
     "output_type": "stream",
     "text": [
      " 87%|████████▋ | 868/1000 [01:00<00:26,  5.05it/s]"
     ]
    },
    {
     "name": "stdout",
     "output_type": "stream",
     "text": [
      "Downloaded ./arxiv_downloads\\1708.02977v1.Hierarchically_Attentive_RNN_for_Album_Summarization_and_Storytelling.pdf\n"
     ]
    },
    {
     "name": "stderr",
     "output_type": "stream",
     "text": [
      " 87%|████████▋ | 869/1000 [01:00<00:26,  4.95it/s]"
     ]
    },
    {
     "name": "stdout",
     "output_type": "stream",
     "text": [
      "Downloaded ./arxiv_downloads\\1511.02274v2.Stacked_Attention_Networks_for_Image_Question_Answering.pdf\n",
      "Downloaded ./arxiv_downloads\\1802.05300v4.Using_Trusted_Data_to_Train_Deep_Networks_on_Labels_Corrupted_by_Severe_Noise.pdf\n",
      "Downloaded ./arxiv_downloads\\1802.05415v2.Teaching_Machines_to_Code__Neural_Markup_Generation_with_Visual_Attention.pdf\n",
      "Downloaded ./arxiv_downloads\\2007.06898v1.Our_Evaluation_Metric_Needs_an_Update_to_Encourage_Generalization.pdf\n",
      "Downloaded ./arxiv_downloads\\2503.00162v1.PreMind__Multi_Agent_Video_Understanding_for_Advanced_Indexing_of_Presentation_style_Videos.pdf\n",
      "Downloaded ./arxiv_downloads\\1902.04186v1.Riemannian_joint_dimensionality_reduction_and_dictionary_learning_on_symmetric_positive_definite_manifold.pdf\n",
      "Downloaded ./arxiv_downloads\\1606.09163v1.Optimising_The_Input_Window_Alignment_in_CD_DNN_Based_Phoneme_Recognition_for_Low_Latency_Processing.pdf\n",
      "Downloaded ./arxiv_downloads\\2205.05739v3.Learning_to_Retrieve_Videos_by_Asking_Questions.pdf\n",
      "Downloaded ./arxiv_downloads\\1706.02490v1.Where_is_my_forearm__Clustering_of_body_parts_from_simultaneous_tactile_and_linguistic_input_using_sequential_mapping.pdf\n",
      "Downloaded ./arxiv_downloads\\2301.04120v1.BASPRO__a_balanced_script_producer_for_speech_corpus_collection_based_on_the_genetic_algorithm.pdf\n",
      "Downloaded ./arxiv_downloads\\2210.08495v1.Pareto_Set_Learning_for_Expensive_Multi_Objective_Optimization.pdf\n"
     ]
    },
    {
     "name": "stderr",
     "output_type": "stream",
     "text": [
      " 88%|████████▊ | 880/1000 [01:10<00:33,  3.58it/s]"
     ]
    },
    {
     "name": "stdout",
     "output_type": "stream",
     "text": [
      "Downloaded ./arxiv_downloads\\2302.14838v3.EvoPrompting__Language_Models_for_Code_Level_Neural_Architecture_Search.pdf\n",
      "Downloaded ./arxiv_downloads\\1806.02942v3.SupportNet__solving_catastrophic_forgetting_in_class_incremental_learning_with_support_data.pdf\n",
      "Downloaded ./arxiv_downloads\\1905.12561v4.Anti_efficient_encoding_in_emergent_communication.pdf\n",
      "Downloaded ./arxiv_downloads\\2206.07758v3.Reconstructing_Training_Data_from_Trained_Neural_Networks.pdf\n",
      "Downloaded ./arxiv_downloads\\2503.13205v1.MAP__Evaluation_and_Multi_Agent_Enhancement_of_Large_Language_Models_for_Inpatient_Pathways.pdf\n",
      "Downloaded ./arxiv_downloads\\2401.05268v4.AutoAct__Automatic_Agent_Learning_from_Scratch_for_QA_via_Self_Planning.pdf\n",
      "Downloaded ./arxiv_downloads\\2402.01586v4.TrustAgent__Towards_Safe_and_Trustworthy_LLM_based_Agents.pdf\n"
     ]
    },
    {
     "name": "stderr",
     "output_type": "stream",
     "text": [
      " 89%|████████▊ | 887/1000 [01:15<00:37,  3.02it/s]"
     ]
    },
    {
     "name": "stdout",
     "output_type": "stream",
     "text": [
      "Downloaded ./arxiv_downloads\\1809.00946v1.Twin_GAN____Unpaired_Cross_Domain_Image_Translation_with_Weight_Sharing_GANs.pdf\n",
      "Downloaded ./arxiv_downloads\\2105.07957v1.Evolutionary_Training_and_Abstraction_Yields_Algorithmic_Generalization_of_Neural_Computers.pdf\n",
      "Downloaded ./arxiv_downloads\\2412.15238v1.Dipper__Diversity_in_Prompts_for_Producing_Large_Language_Model_Ensembles_in_Reasoning_tasks.pdf\n",
      "Downloaded ./arxiv_downloads\\2409.19606v3.Hyper_Connections.pdf\n",
      "Downloaded ./arxiv_downloads\\1704.02882v2.Dynamic_Safe_Interruptibility_for_Decentralized_Multi_Agent_Reinforcement_Learning.pdf\n"
     ]
    },
    {
     "name": "stderr",
     "output_type": "stream",
     "text": [
      " 89%|████████▉ | 892/1000 [01:20<00:41,  2.62it/s]"
     ]
    },
    {
     "name": "stdout",
     "output_type": "stream",
     "text": [
      "Downloaded ./arxiv_downloads\\2310.06555v2.It_s_About_Time__Temporal_References_in_Emergent_Communication.pdf\n",
      "Downloaded ./arxiv_downloads\\1810.00510v1.Interactive_Agent_Modeling_by_Learning_to_Probe.pdf\n",
      "Downloaded ./arxiv_downloads\\2403.03101v3.KnowAgent__Knowledge_Augmented_Planning_for_LLM_Based_Agents.pdf\n"
     ]
    },
    {
     "name": "stderr",
     "output_type": "stream",
     "text": [
      " 90%|████████▉ | 895/1000 [01:29<00:59,  1.77it/s]"
     ]
    },
    {
     "name": "stdout",
     "output_type": "stream",
     "text": [
      "Downloaded ./arxiv_downloads\\2410.07869v3.Benchmarking_Agentic_Workflow_Generation.pdf\n",
      "Downloaded ./arxiv_downloads\\2501.09444v2.Solving_the_Unsolvable__Translating_Case_Law_in_Hong_Kong.pdf\n",
      "Downloaded ./arxiv_downloads\\1810.00147v3.M__3_RL__Mind_aware_Multi_agent_Management_Reinforcement_Learning.pdf\n"
     ]
    },
    {
     "name": "stderr",
     "output_type": "stream",
     "text": [
      " 90%|████████▉ | 898/1000 [01:30<00:55,  1.82it/s]"
     ]
    },
    {
     "name": "stdout",
     "output_type": "stream",
     "text": [
      "Downloaded ./arxiv_downloads\\2411.15243v1.Bio_inspired_AI__Integrating_Biological_Complexity_into_Artificial_Intelligence.pdf\n",
      "Downloaded ./arxiv_downloads\\2206.01900v4.Estimating_counterfactual_treatment_outcomes_over_time_in_complex_multiagent_scenarios.pdf\n"
     ]
    },
    {
     "name": "stderr",
     "output_type": "stream",
     "text": [
      " 90%|█████████ | 900/1000 [01:31<00:55,  1.80it/s]"
     ]
    },
    {
     "name": "stdout",
     "output_type": "stream",
     "text": [
      "Downloaded ./arxiv_downloads\\1511.01865v3.Convolutional_Neural_Network_for_Stereotypical_Motor_Movement_Detection_in_Autism.pdf\n",
      "Downloaded ./arxiv_downloads\\2406.04845v1.FedLLM_Bench__Realistic_Benchmarks_for_Federated_Learning_of_Large_Language_Models.pdf\n"
     ]
    },
    {
     "name": "stderr",
     "output_type": "stream",
     "text": [
      " 90%|█████████ | 902/1000 [01:32<00:53,  1.82it/s]"
     ]
    },
    {
     "name": "stdout",
     "output_type": "stream",
     "text": [
      "Downloaded ./arxiv_downloads\\2011.01926v4.Generating_Unobserved_Alternatives.pdf\n"
     ]
    },
    {
     "name": "stderr",
     "output_type": "stream",
     "text": [
      " 90%|█████████ | 903/1000 [01:32<00:51,  1.90it/s]"
     ]
    },
    {
     "name": "stdout",
     "output_type": "stream",
     "text": [
      "Downloaded ./arxiv_downloads\\2503.01829v2.Persuade_Me_if_You_Can__A_Framework_for_Evaluating_Persuasion_Effectiveness_and_Susceptibility_Among_Large_Language_Models.pdf\n"
     ]
    },
    {
     "name": "stderr",
     "output_type": "stream",
     "text": [
      " 90%|█████████ | 905/1000 [01:33<00:47,  2.02it/s]"
     ]
    },
    {
     "name": "stdout",
     "output_type": "stream",
     "text": [
      "Downloaded ./arxiv_downloads\\2501.03259v1.Toward_Inclusive_Educational_AI__Auditing_Frontier_LLMs_through_a_Multiplexity_Lens.pdf\n",
      "Downloaded ./arxiv_downloads\\1801.00318v2.Towards_Building_an_Intelligent_Anti_Malware_System__A_Deep_Learning_Approach_using_Support_Vector_Machine__SVM__for_Malware_Classification.pdf\n"
     ]
    },
    {
     "name": "stderr",
     "output_type": "stream",
     "text": [
      " 91%|█████████ | 906/1000 [01:34<00:45,  2.08it/s]"
     ]
    },
    {
     "name": "stdout",
     "output_type": "stream",
     "text": [
      "Downloaded ./arxiv_downloads\\1902.03871v5.Learning_V1_Simple_Cells_with_Vector_Representation_of_Local_Content_and_Matrix_Representation_of_Local_Motion.pdf\n"
     ]
    },
    {
     "name": "stderr",
     "output_type": "stream",
     "text": [
      " 91%|█████████ | 908/1000 [01:34<00:40,  2.30it/s]"
     ]
    },
    {
     "name": "stdout",
     "output_type": "stream",
     "text": [
      "Downloaded ./arxiv_downloads\\2006.09510v1.On_sparse_connectivity__adversarial_robustness__and_a_novel_model_of_the_artificial_neuron.pdf\n",
      "Downloaded ./arxiv_downloads\\2012.03391v1.Multivariate_Density_Estimation_with_Deep_Neural_Mixture_Models.pdf\n"
     ]
    },
    {
     "name": "stderr",
     "output_type": "stream",
     "text": [
      " 91%|█████████ | 909/1000 [01:35<00:49,  1.84it/s]"
     ]
    },
    {
     "name": "stdout",
     "output_type": "stream",
     "text": [
      "Downloaded ./arxiv_downloads\\2303.01936v1.Multi_Agent_Adversarial_Training_Using_Diffusion_Learning.pdf\n",
      "Downloaded ./arxiv_downloads\\1905.09788v3.Multi_Sample_Dropout_for_Accelerated_Training_and_Better_Generalization.pdf\n"
     ]
    },
    {
     "name": "stderr",
     "output_type": "stream",
     "text": [
      " 91%|█████████ | 910/1000 [01:35<00:41,  2.18it/s]"
     ]
    },
    {
     "name": "stdout",
     "output_type": "stream",
     "text": [
      "Downloaded ./arxiv_downloads\\2003.03229v5.Non_linear_Neurons_with_Human_like_Apical_Dendrite_Activations.pdf\n"
     ]
    },
    {
     "name": "stderr",
     "output_type": "stream",
     "text": [
      " 91%|█████████ | 912/1000 [01:36<00:37,  2.34it/s]"
     ]
    },
    {
     "name": "stdout",
     "output_type": "stream",
     "text": [
      "Downloaded ./arxiv_downloads\\1906.08861v1.Synthesizing_Images_from_Spatio_Temporal_Representations_using_Spike_based_Backpropagation.pdf\n"
     ]
    },
    {
     "name": "stderr",
     "output_type": "stream",
     "text": [
      " 91%|█████████▏| 913/1000 [01:37<00:42,  2.05it/s]"
     ]
    },
    {
     "name": "stdout",
     "output_type": "stream",
     "text": [
      "Downloaded ./arxiv_downloads\\2112.10143v1.RoboAssembly__Learning_Generalizable_Furniture_Assembly_Policy_in_a_Novel_Multi_robot_Contact_rich_Simulation_Environment.pdf\n"
     ]
    },
    {
     "name": "stderr",
     "output_type": "stream",
     "text": [
      " 91%|█████████▏| 914/1000 [01:37<00:37,  2.32it/s]"
     ]
    },
    {
     "name": "stdout",
     "output_type": "stream",
     "text": [
      "Downloaded ./arxiv_downloads\\1905.04232v6.Automatic_Programming_of_Cellular_Automata_and_Artificial_Neural_Networks_Guided_by_Philosophy.pdf\n",
      "Downloaded ./arxiv_downloads\\1511.07125v1.What_Happened_to_My_Dog_in_That_Network__Unraveling_Top_down_Generators_in_Convolutional_Neural_Networks.pdf\n"
     ]
    },
    {
     "name": "stderr",
     "output_type": "stream",
     "text": [
      " 92%|█████████▏| 916/1000 [01:38<00:27,  3.08it/s]"
     ]
    },
    {
     "name": "stdout",
     "output_type": "stream",
     "text": [
      "Downloaded ./arxiv_downloads\\2103.12710v1.Spatial_Intention_Maps_for_Multi_Agent_Mobile_Manipulation.pdf\n"
     ]
    },
    {
     "name": "stderr",
     "output_type": "stream",
     "text": [
      " 92%|█████████▏| 917/1000 [01:38<00:27,  2.98it/s]"
     ]
    },
    {
     "name": "stdout",
     "output_type": "stream",
     "text": [
      "Downloaded ./arxiv_downloads\\2307.10160v1.Robust_Driving_Policy_Learning_with_Guided_Meta_Reinforcement_Learning.pdf\n",
      "Downloaded ./arxiv_downloads\\2105.05145v1.Visual_Perspective_Taking_for_Opponent_Behavior_Modeling.pdf\n"
     ]
    },
    {
     "name": "stderr",
     "output_type": "stream",
     "text": [
      " 92%|█████████▏| 919/1000 [01:38<00:22,  3.52it/s]"
     ]
    },
    {
     "name": "stdout",
     "output_type": "stream",
     "text": [
      "Downloaded ./arxiv_downloads\\2007.04756v1.Learning_to_Prune_Deep_Neural_Networks_via_Reinforcement_Learning.pdf\n"
     ]
    },
    {
     "name": "stderr",
     "output_type": "stream",
     "text": [
      " 92%|█████████▏| 920/1000 [01:39<00:25,  3.17it/s]"
     ]
    },
    {
     "name": "stdout",
     "output_type": "stream",
     "text": [
      "Downloaded ./arxiv_downloads\\2012.02178v2.Steady_State_Planning_in_Expected_Reward_Multichain_MDPs.pdf\n"
     ]
    },
    {
     "name": "stderr",
     "output_type": "stream",
     "text": [
      " 92%|█████████▏| 921/1000 [01:39<00:28,  2.74it/s]"
     ]
    },
    {
     "name": "stdout",
     "output_type": "stream",
     "text": [
      "Downloaded ./arxiv_downloads\\1910.05448v1.Neural_Memory_Plasticity_for_Anomaly_Detection.pdf\n"
     ]
    },
    {
     "name": "stderr",
     "output_type": "stream",
     "text": [
      " 92%|█████████▏| 922/1000 [01:40<00:31,  2.51it/s]"
     ]
    },
    {
     "name": "stdout",
     "output_type": "stream",
     "text": [
      "Downloaded ./arxiv_downloads\\2303.02655v1.On_Modifying_a_Neural_Network_s_Perception.pdf\n"
     ]
    },
    {
     "name": "stderr",
     "output_type": "stream",
     "text": [
      " 92%|█████████▏| 924/1000 [01:40<00:24,  3.04it/s]"
     ]
    },
    {
     "name": "stdout",
     "output_type": "stream",
     "text": [
      "Downloaded ./arxiv_downloads\\1411.1784v1.Conditional_Generative_Adversarial_Nets.pdf\n",
      "Downloaded ./arxiv_downloads\\1708.01729v3.Inception_Score__Label_Smoothing__Gradient_Vanishing_and__log_D_x___Alternative.pdf\n"
     ]
    },
    {
     "name": "stderr",
     "output_type": "stream",
     "text": [
      " 92%|█████████▎| 925/1000 [01:41<00:27,  2.75it/s]"
     ]
    },
    {
     "name": "stdout",
     "output_type": "stream",
     "text": [
      "Downloaded ./arxiv_downloads\\2403.06041v1.MATRIX__Multi_Agent_Trajectory_Generation_with_Diverse_Contexts.pdf\n"
     ]
    },
    {
     "name": "stderr",
     "output_type": "stream",
     "text": [
      " 93%|█████████▎| 927/1000 [01:42<00:29,  2.50it/s]"
     ]
    },
    {
     "name": "stdout",
     "output_type": "stream",
     "text": [
      "Downloaded ./arxiv_downloads\\2007.05683v1.Batch_level_Experience_Replay_with_Review_for_Continual_Learning.pdf\n",
      "Downloaded ./arxiv_downloads\\2402.01607v3.Natural_Counterfactuals_With_Necessary_Backtracking.pdf\n"
     ]
    },
    {
     "name": "stderr",
     "output_type": "stream",
     "text": [
      " 93%|█████████▎| 928/1000 [01:42<00:22,  3.16it/s]"
     ]
    },
    {
     "name": "stdout",
     "output_type": "stream",
     "text": [
      "Downloaded ./arxiv_downloads\\1705.07215v5.On_Convergence_and_Stability_of_GANs.pdf\n"
     ]
    },
    {
     "name": "stderr",
     "output_type": "stream",
     "text": [
      " 93%|█████████▎| 932/1000 [01:43<00:15,  4.28it/s]"
     ]
    },
    {
     "name": "stdout",
     "output_type": "stream",
     "text": [
      "Downloaded ./arxiv_downloads\\1907.03077v1.Generative_Counterfactual_Introspection_for_Explainable_Deep_Learning.pdf\n",
      "Downloaded ./arxiv_downloads\\1808.04287v1.Visual_Sensor_Network_Reconfiguration_with_Deep_Reinforcement_Learning.pdf\n",
      "Downloaded ./arxiv_downloads\\1805.07798v2.Improved_Learning_of_One_hidden_layer_Convolutional_Neural_Networks_with_Overlaps.pdf\n",
      "Downloaded ./arxiv_downloads\\1412.6614v4.In_Search_of_the_Real_Inductive_Bias__On_the_Role_of_Implicit_Regularization_in_Deep_Learning.pdf\n"
     ]
    },
    {
     "name": "stderr",
     "output_type": "stream",
     "text": [
      " 93%|█████████▎| 933/1000 [01:43<00:20,  3.23it/s]"
     ]
    },
    {
     "name": "stdout",
     "output_type": "stream",
     "text": [
      "Downloaded ./arxiv_downloads\\1809.03363v1.Torchbearer__A_Model_Fitting_Library_for_PyTorch.pdf\n"
     ]
    },
    {
     "name": "stderr",
     "output_type": "stream",
     "text": [
      " 93%|█████████▎| 934/1000 [01:44<00:21,  3.06it/s]"
     ]
    },
    {
     "name": "stdout",
     "output_type": "stream",
     "text": [
      "Downloaded ./arxiv_downloads\\1806.08047v2.Flexible_Neural_Representation_for_Physics_Prediction.pdf\n"
     ]
    },
    {
     "name": "stderr",
     "output_type": "stream",
     "text": [
      " 94%|█████████▎| 935/1000 [01:44<00:21,  3.05it/s]"
     ]
    },
    {
     "name": "stdout",
     "output_type": "stream",
     "text": [
      "Downloaded ./arxiv_downloads\\1911.05275v1.Learning_from_a_Teacher_using_Unlabeled_Data.pdf\n"
     ]
    },
    {
     "name": "stderr",
     "output_type": "stream",
     "text": [
      " 94%|█████████▎| 936/1000 [01:45<00:24,  2.62it/s]"
     ]
    },
    {
     "name": "stdout",
     "output_type": "stream",
     "text": [
      "Downloaded ./arxiv_downloads\\2008.00103v3.F___An_Interpretable_Transformation_of_the_F_measure.pdf\n"
     ]
    },
    {
     "name": "stderr",
     "output_type": "stream",
     "text": [
      " 94%|█████████▎| 937/1000 [01:45<00:22,  2.85it/s]"
     ]
    },
    {
     "name": "stdout",
     "output_type": "stream",
     "text": [
      "Downloaded ./arxiv_downloads\\2105.07636v2.DOC3_Deep_One_Class_Classification_using_Contradictions.pdf\n"
     ]
    },
    {
     "name": "stderr",
     "output_type": "stream",
     "text": [
      " 94%|█████████▍| 938/1000 [01:46<00:28,  2.20it/s]"
     ]
    },
    {
     "name": "stdout",
     "output_type": "stream",
     "text": [
      "Downloaded ./arxiv_downloads\\2502.11756v1.On_the_Computation_of_the_Fisher_Information_in_Continual_Learning.pdf\n"
     ]
    },
    {
     "name": "stderr",
     "output_type": "stream",
     "text": [
      " 94%|█████████▍| 940/1000 [01:46<00:21,  2.85it/s]"
     ]
    },
    {
     "name": "stdout",
     "output_type": "stream",
     "text": [
      "Downloaded ./arxiv_downloads\\1809.10749v2.On_the_loss_landscape_of_a_class_of_deep_neural_networks_with_no_bad_local_valleys.pdf\n",
      "Downloaded ./arxiv_downloads\\2004.08900v1.The_Cost_of_Training_NLP_Models__A_Concise_Overview.pdf\n"
     ]
    },
    {
     "name": "stderr",
     "output_type": "stream",
     "text": [
      " 94%|█████████▍| 941/1000 [01:48<00:41,  1.41it/s]"
     ]
    },
    {
     "name": "stdout",
     "output_type": "stream",
     "text": [
      "Downloaded ./arxiv_downloads\\2001.07752v2.Emergence_of_Pragmatics_from_Referential_Game_between_Theory_of_Mind_Agents.pdf\n"
     ]
    },
    {
     "name": "stderr",
     "output_type": "stream",
     "text": [
      " 94%|█████████▍| 942/1000 [01:49<00:55,  1.04it/s]"
     ]
    },
    {
     "name": "stdout",
     "output_type": "stream",
     "text": [
      "Downloaded ./arxiv_downloads\\1705.10915v1.Unsupervised_Learning_of_Disentangled_Representations_from_Video.pdf\n"
     ]
    },
    {
     "name": "stderr",
     "output_type": "stream",
     "text": [
      " 94%|█████████▍| 943/1000 [01:51<01:12,  1.27s/it]"
     ]
    },
    {
     "name": "stdout",
     "output_type": "stream",
     "text": [
      "Downloaded ./arxiv_downloads\\1911.09017v1.Towards_a_Unified_Evaluation_of_Explanation_Methods_without_Ground_Truth.pdf\n"
     ]
    },
    {
     "name": "stderr",
     "output_type": "stream",
     "text": [
      " 94%|█████████▍| 944/1000 [01:52<00:56,  1.01s/it]"
     ]
    },
    {
     "name": "stdout",
     "output_type": "stream",
     "text": [
      "Downloaded ./arxiv_downloads\\2004.09218v1.A_Practical_Guide_to_Studying_Emergent_Communication_through_Grounded_Language_Games.pdf\n"
     ]
    },
    {
     "name": "stderr",
     "output_type": "stream",
     "text": [
      " 95%|█████████▍| 946/1000 [01:53<00:43,  1.23it/s]"
     ]
    },
    {
     "name": "stdout",
     "output_type": "stream",
     "text": [
      "Downloaded ./arxiv_downloads\\2410.22457v1.Advancing_Agentic_Systems__Dynamic_Task_Decomposition__Tool_Integration_and_Evaluation_using_Novel_Metrics_and_Dataset.pdf\n",
      "Downloaded ./arxiv_downloads\\2502.14815v1.Optimizing_Model_Selection_for_Compound_AI_Systems.pdf\n"
     ]
    },
    {
     "name": "stderr",
     "output_type": "stream",
     "text": [
      " 95%|█████████▍| 947/1000 [01:56<01:10,  1.33s/it]"
     ]
    },
    {
     "name": "stdout",
     "output_type": "stream",
     "text": [
      "Downloaded ./arxiv_downloads\\1611.03218v4.Learning_to_Play_Guess_Who__and_Inventing_a_Grounded_Language_as_a_Consequence.pdf\n"
     ]
    },
    {
     "name": "stderr",
     "output_type": "stream",
     "text": [
      " 95%|█████████▍| 948/1000 [01:56<00:53,  1.03s/it]"
     ]
    },
    {
     "name": "stdout",
     "output_type": "stream",
     "text": [
      "Downloaded ./arxiv_downloads\\2503.09501v2.ReMA__Learning_to_Meta_think_for_LLMs_with_Multi_Agent_Reinforcement_Learning.pdf\n"
     ]
    },
    {
     "name": "stderr",
     "output_type": "stream",
     "text": [
      " 95%|█████████▌| 950/1000 [01:57<00:33,  1.48it/s]"
     ]
    },
    {
     "name": "stdout",
     "output_type": "stream",
     "text": [
      "Downloaded ./arxiv_downloads\\2403.14443v1.Language_Models_Can_Reduce_Asymmetry_in_Information_Markets.pdf\n",
      "Downloaded ./arxiv_downloads\\2409.11411v1.AIvril__AI_Driven_RTL_Generation_With_Verification_In_The_Loop.pdf\n"
     ]
    },
    {
     "name": "stderr",
     "output_type": "stream",
     "text": [
      " 95%|█████████▌| 951/1000 [01:59<00:50,  1.04s/it]"
     ]
    },
    {
     "name": "stdout",
     "output_type": "stream",
     "text": [
      "Downloaded ./arxiv_downloads\\2205.12013v3.Naive_Few_Shot_Learning__Uncovering_the_fluid_intelligence_of_machines.pdf\n",
      "Downloaded ./arxiv_downloads\\2405.14314v2.Towards_Efficient_LLM_Grounding_for_Embodied_Multi_Agent_Collaboration.pdf\n"
     ]
    },
    {
     "name": "stderr",
     "output_type": "stream",
     "text": [
      " 95%|█████████▌| 953/1000 [01:59<00:32,  1.43it/s]"
     ]
    },
    {
     "name": "stdout",
     "output_type": "stream",
     "text": [
      "Downloaded ./arxiv_downloads\\2003.01848v2.On_Emergent_Communication_in_Competitive_Multi_Agent_Teams.pdf\n"
     ]
    },
    {
     "name": "stderr",
     "output_type": "stream",
     "text": [
      " 95%|█████████▌| 954/1000 [02:01<00:39,  1.16it/s]"
     ]
    },
    {
     "name": "stdout",
     "output_type": "stream",
     "text": [
      "Downloaded ./arxiv_downloads\\1811.05013v1.Blindfold_Baselines_for_Embodied_QA.pdf\n"
     ]
    },
    {
     "name": "stderr",
     "output_type": "stream",
     "text": [
      " 96%|█████████▌| 955/1000 [02:02<00:45,  1.01s/it]"
     ]
    },
    {
     "name": "stdout",
     "output_type": "stream",
     "text": [
      "Downloaded ./arxiv_downloads\\2312.17216v1.SparseProp__Efficient_Event_Based_Simulation_and_Training_of_Sparse_Recurrent_Spiking_Neural_Networks.pdf\n"
     ]
    },
    {
     "name": "stderr",
     "output_type": "stream",
     "text": [
      " 96%|█████████▌| 956/1000 [02:02<00:36,  1.20it/s]"
     ]
    },
    {
     "name": "stdout",
     "output_type": "stream",
     "text": [
      "Downloaded ./arxiv_downloads\\1906.09264v2.Visualizing_Representational_Dynamics_with_Multidimensional_Scaling_Alignment.pdf\n"
     ]
    },
    {
     "name": "stderr",
     "output_type": "stream",
     "text": [
      " 96%|█████████▌| 957/1000 [02:04<00:43,  1.02s/it]"
     ]
    },
    {
     "name": "stdout",
     "output_type": "stream",
     "text": [
      "Downloaded ./arxiv_downloads\\2404.05967v1.JSTR__Judgment_Improves_Scene_Text_Recognition.pdf\n"
     ]
    },
    {
     "name": "stderr",
     "output_type": "stream",
     "text": [
      " 96%|█████████▌| 958/1000 [02:04<00:35,  1.19it/s]"
     ]
    },
    {
     "name": "stdout",
     "output_type": "stream",
     "text": [
      "Downloaded ./arxiv_downloads\\1904.08939v1.Understanding_Neural_Networks_via_Feature_Visualization__A_survey.pdf\n"
     ]
    },
    {
     "name": "stderr",
     "output_type": "stream",
     "text": [
      " 96%|█████████▌| 959/1000 [02:05<00:34,  1.18it/s]"
     ]
    },
    {
     "name": "stdout",
     "output_type": "stream",
     "text": [
      "Downloaded ./arxiv_downloads\\2307.00028v1.Seeing_in_Words__Learning_to_Classify_through_Language_Bottlenecks.pdf\n"
     ]
    },
    {
     "name": "stderr",
     "output_type": "stream",
     "text": [
      " 96%|█████████▌| 960/1000 [02:07<00:44,  1.12s/it]"
     ]
    },
    {
     "name": "stdout",
     "output_type": "stream",
     "text": [
      "Downloaded ./arxiv_downloads\\2502.06060v1.Training_Language_Models_for_Social_Deduction_with_Multi_Agent_Reinforcement_Learning.pdf\n"
     ]
    },
    {
     "name": "stderr",
     "output_type": "stream",
     "text": [
      " 96%|█████████▌| 961/1000 [02:07<00:35,  1.09it/s]"
     ]
    },
    {
     "name": "stdout",
     "output_type": "stream",
     "text": [
      "Downloaded ./arxiv_downloads\\1608.02717v1.Mean_Box_Pooling__A_Rich_Image_Representation_and_Output_Embedding_for_the_Visual_Madlibs_Task.pdf\n"
     ]
    },
    {
     "name": "stderr",
     "output_type": "stream",
     "text": [
      " 96%|█████████▌| 962/1000 [02:08<00:27,  1.37it/s]"
     ]
    },
    {
     "name": "stdout",
     "output_type": "stream",
     "text": [
      "Downloaded ./arxiv_downloads\\2012.12586v1.Distributed_Adaptive_Control__An_ideal_Cognitive_Architecture_candidate_for_managing_a_robotic_recycling_plant.pdf\n"
     ]
    },
    {
     "name": "stderr",
     "output_type": "stream",
     "text": [
      " 96%|█████████▋| 963/1000 [02:09<00:33,  1.09it/s]"
     ]
    },
    {
     "name": "stdout",
     "output_type": "stream",
     "text": [
      "Downloaded ./arxiv_downloads\\1709.06919v2.Bayesian_Optimization_with_Automatic_Prior_Selection_for_Data_Efficient_Direct_Policy_Search.pdf\n",
      "Downloaded ./arxiv_downloads\\2501.02584v1.Efficient_Architectures_for_High_Resolution_Vision_Language_Models.pdf\n"
     ]
    },
    {
     "name": "stderr",
     "output_type": "stream",
     "text": [
      " 96%|█████████▋| 965/1000 [02:09<00:19,  1.80it/s]"
     ]
    },
    {
     "name": "stdout",
     "output_type": "stream",
     "text": [
      "Downloaded ./arxiv_downloads\\2310.06488v3.SpikeCLIP__A_Contrastive_Language_Image_Pretrained_Spiking_Neural_Network.pdf\n",
      "Downloaded ./arxiv_downloads\\1909.07583v2.Inverse_Visual_Question_Answering_with_Multi_Level_Attentions.pdf\n"
     ]
    },
    {
     "name": "stderr",
     "output_type": "stream",
     "text": [
      " 97%|█████████▋| 967/1000 [02:10<00:18,  1.77it/s]"
     ]
    },
    {
     "name": "stdout",
     "output_type": "stream",
     "text": [
      "Downloaded ./arxiv_downloads\\1505.04630v5.Recurrent_Neural_Network_Training_with_Dark_Knowledge_Transfer.pdf\n",
      "Downloaded ./arxiv_downloads\\2308.10435v1.GPT_in_the_Loop__Adaptive_Decision_Making_for_Multiagent_Systems.pdf\n"
     ]
    },
    {
     "name": "stderr",
     "output_type": "stream",
     "text": [
      " 97%|█████████▋| 969/1000 [02:11<00:16,  1.84it/s]"
     ]
    },
    {
     "name": "stdout",
     "output_type": "stream",
     "text": [
      "Downloaded ./arxiv_downloads\\2305.07366v1.Multi_Value_Alignment_in_Normative_Multi_Agent_System__Evolutionary_Optimisation_Approach.pdf\n"
     ]
    },
    {
     "name": "stderr",
     "output_type": "stream",
     "text": [
      " 97%|█████████▋| 970/1000 [02:12<00:17,  1.75it/s]"
     ]
    },
    {
     "name": "stdout",
     "output_type": "stream",
     "text": [
      "Downloaded ./arxiv_downloads\\1810.07254v1.The_Concept_of_Criticality_in_Reinforcement_Learning.pdf\n"
     ]
    },
    {
     "name": "stderr",
     "output_type": "stream",
     "text": [
      " 97%|█████████▋| 971/1000 [02:13<00:17,  1.61it/s]"
     ]
    },
    {
     "name": "stdout",
     "output_type": "stream",
     "text": [
      "Downloaded ./arxiv_downloads\\1810.03679v2.Multi_agent_Deep_Reinforcement_Learning_for_Zero_Energy_Communities.pdf\n"
     ]
    },
    {
     "name": "stderr",
     "output_type": "stream",
     "text": [
      " 97%|█████████▋| 972/1000 [02:14<00:21,  1.32it/s]"
     ]
    },
    {
     "name": "stdout",
     "output_type": "stream",
     "text": [
      "Downloaded ./arxiv_downloads\\2112.05657v1.Artificial_Intellgence____Application_in_Life_Sciences_and_Beyond__The_Upper_Rhine_Artificial_Intelligence_Symposium_UR_AI_2021.pdf\n"
     ]
    },
    {
     "name": "stderr",
     "output_type": "stream",
     "text": [
      " 97%|█████████▋| 973/1000 [02:15<00:19,  1.36it/s]"
     ]
    },
    {
     "name": "stdout",
     "output_type": "stream",
     "text": [
      "Downloaded ./arxiv_downloads\\1810.09026v5.Actor_Critic_Policy_Optimization_in_Partially_Observable_Multiagent_Environments.pdf\n"
     ]
    },
    {
     "name": "stderr",
     "output_type": "stream",
     "text": [
      " 97%|█████████▋| 974/1000 [02:16<00:22,  1.16it/s]"
     ]
    },
    {
     "name": "stdout",
     "output_type": "stream",
     "text": [
      "Downloaded ./arxiv_downloads\\2412.12103v1.Empathic_Coupling_of_Homeostatic_States_for_Intrinsic_Prosociality.pdf\n"
     ]
    },
    {
     "name": "stderr",
     "output_type": "stream",
     "text": [
      " 98%|█████████▊| 975/1000 [02:18<00:27,  1.11s/it]"
     ]
    },
    {
     "name": "stdout",
     "output_type": "stream",
     "text": [
      "Downloaded ./arxiv_downloads\\1812.02783v8.Finite_Sample_Analysis_For_Decentralized_Batch_Multi_Agent_Reinforcement_Learning_With_Networked_Agents.pdf\n"
     ]
    },
    {
     "name": "stderr",
     "output_type": "stream",
     "text": [
      " 98%|█████████▊| 976/1000 [02:19<00:25,  1.05s/it]"
     ]
    },
    {
     "name": "stdout",
     "output_type": "stream",
     "text": [
      "Downloaded ./arxiv_downloads\\1612.07182v2.Multi_Agent_Cooperation_and_the_Emergence_of__Natural__Language.pdf\n"
     ]
    },
    {
     "name": "stderr",
     "output_type": "stream",
     "text": [
      " 98%|█████████▊| 977/1000 [02:20<00:29,  1.30s/it]"
     ]
    },
    {
     "name": "stdout",
     "output_type": "stream",
     "text": [
      "Downloaded ./arxiv_downloads\\1909.02940v4.Reinforcement_Learning_for_Joint_Optimization_of_Multiple_Rewards.pdf\n"
     ]
    },
    {
     "name": "stderr",
     "output_type": "stream",
     "text": [
      " 98%|█████████▊| 978/1000 [02:22<00:33,  1.51s/it]"
     ]
    },
    {
     "name": "stdout",
     "output_type": "stream",
     "text": [
      "Downloaded ./arxiv_downloads\\2310.02124v3.Exploring_Collaboration_Mechanisms_for_LLM_Agents__A_Social_Psychology_View.pdf\n"
     ]
    },
    {
     "name": "stderr",
     "output_type": "stream",
     "text": [
      " 98%|█████████▊| 980/1000 [02:23<00:18,  1.09it/s]"
     ]
    },
    {
     "name": "stdout",
     "output_type": "stream",
     "text": [
      "Downloaded ./arxiv_downloads\\1906.07315v3.Evolutionary_Reinforcement_Learning_for_Sample_Efficient_Multiagent_Coordination.pdf\n",
      "Downloaded ./arxiv_downloads\\1802.08757v2.Fully_Decentralized_Multi_Agent_Reinforcement_Learning_with_Networked_Agents.pdf\n"
     ]
    },
    {
     "name": "stderr",
     "output_type": "stream",
     "text": [
      " 98%|█████████▊| 981/1000 [02:24<00:15,  1.26it/s]"
     ]
    },
    {
     "name": "stdout",
     "output_type": "stream",
     "text": [
      "Downloaded ./arxiv_downloads\\2402.08567v2.Agent_Smith__A_Single_Image_Can_Jailbreak_One_Million_Multimodal_LLM_Agents_Exponentially_Fast.pdf\n"
     ]
    },
    {
     "name": "stderr",
     "output_type": "stream",
     "text": [
      " 98%|█████████▊| 982/1000 [02:25<00:14,  1.20it/s]"
     ]
    },
    {
     "name": "stdout",
     "output_type": "stream",
     "text": [
      "Downloaded ./arxiv_downloads\\2303.17760v2.CAMEL__Communicative_Agents_for__Mind__Exploration_of_Large_Language_Model_Society.pdf\n"
     ]
    },
    {
     "name": "stderr",
     "output_type": "stream",
     "text": [
      " 98%|█████████▊| 983/1000 [02:26<00:15,  1.07it/s]"
     ]
    },
    {
     "name": "stdout",
     "output_type": "stream",
     "text": [
      "Downloaded ./arxiv_downloads\\1903.01537v2.MGpi__A_Computational_Model_of_Multiagent_Group_Perception_and_Interaction.pdf\n"
     ]
    },
    {
     "name": "stderr",
     "output_type": "stream",
     "text": [
      " 98%|█████████▊| 984/1000 [02:26<00:12,  1.25it/s]"
     ]
    },
    {
     "name": "stdout",
     "output_type": "stream",
     "text": [
      "Downloaded ./arxiv_downloads\\2008.04109v1.Deep_Q_Network_Based_Multi_agent_Reinforcement_Learning_with_Binary_Action_Agents.pdf\n"
     ]
    },
    {
     "name": "stderr",
     "output_type": "stream",
     "text": [
      " 98%|█████████▊| 985/1000 [02:27<00:10,  1.38it/s]"
     ]
    },
    {
     "name": "stdout",
     "output_type": "stream",
     "text": [
      "Downloaded ./arxiv_downloads\\1810.08647v4.Social_Influence_as_Intrinsic_Motivation_for_Multi_Agent_Deep_Reinforcement_Learning.pdf\n"
     ]
    },
    {
     "name": "stderr",
     "output_type": "stream",
     "text": [
      " 99%|█████████▊| 986/1000 [02:27<00:07,  1.76it/s]"
     ]
    },
    {
     "name": "stdout",
     "output_type": "stream",
     "text": [
      "Downloaded ./arxiv_downloads\\2006.04635v4.Learning_to_Play_No_Press_Diplomacy_with_Best_Response_Policy_Iteration.pdf\n"
     ]
    },
    {
     "name": "stderr",
     "output_type": "stream",
     "text": [
      " 99%|█████████▊| 987/1000 [02:28<00:10,  1.30it/s]"
     ]
    },
    {
     "name": "stdout",
     "output_type": "stream",
     "text": [
      "Downloaded ./arxiv_downloads\\1901.03887v3.Improving_Coordination_in_Small_Scale_Multi_Agent_Deep_Reinforcement_Learning_through_Memory_driven_Communication.pdf\n"
     ]
    },
    {
     "name": "stderr",
     "output_type": "stream",
     "text": [
      " 99%|█████████▉| 988/1000 [02:29<00:10,  1.18it/s]"
     ]
    },
    {
     "name": "stdout",
     "output_type": "stream",
     "text": [
      "Downloaded ./arxiv_downloads\\2004.11145v2.F2A2__Flexible_Fully_decentralized_Approximate_Actor_critic_for_Cooperative_Multi_agent_Reinforcement_Learning.pdf\n"
     ]
    },
    {
     "name": "stderr",
     "output_type": "stream",
     "text": [
      " 99%|█████████▉| 989/1000 [02:30<00:08,  1.33it/s]"
     ]
    },
    {
     "name": "stdout",
     "output_type": "stream",
     "text": [
      "Downloaded ./arxiv_downloads\\1906.11286v7.A_Story_of_Two_Streams__Reinforcement_Learning_Models_from_Human_Behavior_and_Neuropsychiatry.pdf\n"
     ]
    },
    {
     "name": "stderr",
     "output_type": "stream",
     "text": [
      " 99%|█████████▉| 990/1000 [02:30<00:06,  1.54it/s]"
     ]
    },
    {
     "name": "stdout",
     "output_type": "stream",
     "text": [
      "Downloaded ./arxiv_downloads\\2005.13625v8.Revisiting_Parameter_Sharing_in_Multi_Agent_Deep_Reinforcement_Learning.pdf\n"
     ]
    },
    {
     "name": "stderr",
     "output_type": "stream",
     "text": [
      " 99%|█████████▉| 991/1000 [02:31<00:06,  1.46it/s]"
     ]
    },
    {
     "name": "stdout",
     "output_type": "stream",
     "text": [
      "Downloaded ./arxiv_downloads\\2010.00581v3.Emergent_Social_Learning_via_Multi_agent_Reinforcement_Learning.pdf\n"
     ]
    },
    {
     "name": "stderr",
     "output_type": "stream",
     "text": [
      " 99%|█████████▉| 992/1000 [02:32<00:06,  1.25it/s]"
     ]
    },
    {
     "name": "stdout",
     "output_type": "stream",
     "text": [
      "Downloaded ./arxiv_downloads\\1905.12204v4.Learning_NP_Hard_Multi_Agent_Assignment_Planning_using_GNN__Inference_on_a_Random_Graph_and_Provable_Auction_Fitted_Q_learning.pdf\n"
     ]
    },
    {
     "name": "stderr",
     "output_type": "stream",
     "text": [
      " 99%|█████████▉| 993/1000 [02:33<00:05,  1.35it/s]"
     ]
    },
    {
     "name": "stdout",
     "output_type": "stream",
     "text": [
      "Downloaded ./arxiv_downloads\\1911.04175v1.Multi_Agent_Connected_Autonomous_Driving_using_Deep_Reinforcement_Learning.pdf\n"
     ]
    },
    {
     "name": "stderr",
     "output_type": "stream",
     "text": [
      " 99%|█████████▉| 994/1000 [02:33<00:03,  1.68it/s]"
     ]
    },
    {
     "name": "stdout",
     "output_type": "stream",
     "text": [
      "Downloaded ./arxiv_downloads\\1912.03821v1.Decentralized_Multi_Agent_Reinforcement_Learning_with_Networked_Agents__Recent_Advances.pdf\n"
     ]
    },
    {
     "name": "stderr",
     "output_type": "stream",
     "text": [
      "100%|█████████▉| 995/1000 [02:34<00:03,  1.61it/s]"
     ]
    },
    {
     "name": "stdout",
     "output_type": "stream",
     "text": [
      "Downloaded ./arxiv_downloads\\2006.04222v3.Randomized_Entity_wise_Factorization_for_Multi_Agent_Reinforcement_Learning.pdf\n"
     ]
    },
    {
     "name": "stderr",
     "output_type": "stream",
     "text": [
      "100%|█████████▉| 996/1000 [02:36<00:04,  1.00s/it]"
     ]
    },
    {
     "name": "stdout",
     "output_type": "stream",
     "text": [
      "Downloaded ./arxiv_downloads\\1905.01303v1.Autonomous_Air_Traffic_Controller__A_Deep_Multi_Agent_Reinforcement_Learning_Approach.pdf\n"
     ]
    },
    {
     "name": "stderr",
     "output_type": "stream",
     "text": [
      "100%|█████████▉| 997/1000 [02:36<00:02,  1.20it/s]"
     ]
    },
    {
     "name": "stdout",
     "output_type": "stream",
     "text": [
      "Downloaded ./arxiv_downloads\\1908.04573v2.Competitive_Multi_Agent_Deep_Reinforcement_Learning_with_Counterfactual_Thinking.pdf\n"
     ]
    },
    {
     "name": "stderr",
     "output_type": "stream",
     "text": [
      "100%|█████████▉| 998/1000 [02:38<00:02,  1.28s/it]"
     ]
    },
    {
     "name": "stdout",
     "output_type": "stream",
     "text": [
      "Downloaded ./arxiv_downloads\\2010.08531v1.Multi_Agent_Collaboration_via_Reward_Attribution_Decomposition.pdf\n"
     ]
    },
    {
     "name": "stderr",
     "output_type": "stream",
     "text": [
      "100%|█████████▉| 999/1000 [02:40<00:01,  1.38s/it]"
     ]
    },
    {
     "name": "stdout",
     "output_type": "stream",
     "text": [
      "Downloaded ./arxiv_downloads\\2002.05233v4.Learning_Multi_Agent_Coordination_through_Connectivity_driven_Communication.pdf\n"
     ]
    },
    {
     "name": "stderr",
     "output_type": "stream",
     "text": [
      "100%|██████████| 1000/1000 [03:09<00:00,  5.29it/s]"
     ]
    },
    {
     "name": "stdout",
     "output_type": "stream",
     "text": [
      "Downloaded ./arxiv_downloads\\2008.05214v2.REMAX__Relational_Representation_for_Multi_Agent_Exploration.pdf\n",
      "All downloads completed. skipped 796 in total\n"
     ]
    },
    {
     "name": "stderr",
     "output_type": "stream",
     "text": [
      "\n"
     ]
    }
   ],
   "source": [
    "downloader.download_all_parallel(search)"
   ]
  }
 ],
 "metadata": {
  "kernelspec": {
   "display_name": ".venv",
   "language": "python",
   "name": "python3"
  },
  "language_info": {
   "codemirror_mode": {
    "name": "ipython",
    "version": 3
   },
   "file_extension": ".py",
   "mimetype": "text/x-python",
   "name": "python",
   "nbconvert_exporter": "python",
   "pygments_lexer": "ipython3",
   "version": "3.12.8"
  }
 },
 "nbformat": 4,
 "nbformat_minor": 2
}
